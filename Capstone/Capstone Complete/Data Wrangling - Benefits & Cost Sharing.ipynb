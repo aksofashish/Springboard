{
 "cells": [
  {
   "cell_type": "code",
   "execution_count": 1,
   "metadata": {},
   "outputs": [],
   "source": [
    "import numpy as np\n",
    "import pandas as pd\n",
    "pd.options.display.max_columns = None"
   ]
  },
  {
   "cell_type": "code",
   "execution_count": 2,
   "metadata": {},
   "outputs": [],
   "source": [
    "# As we dont have all the columns in all files, we are setting required columns for the analysis and filter only those columns \n",
    "# from the files.\n",
    "required_colmuns = ['BusinessYear', 'StateCode', 'IssuerId', 'StandardComponentId', 'PlanId', 'BenefitName', 'CopayInnTier1',\n",
    "       'CopayInnTier2', 'CopayOutofNet', 'CoinsInnTier1', 'CoinsInnTier2',\n",
    "       'CoinsOutofNet', 'IsEHB', 'IsCovered',\n",
    "       'QuantLimitOnSvc','EHBVarReason']"
   ]
  },
  {
   "cell_type": "code",
   "execution_count": 3,
   "metadata": {},
   "outputs": [],
   "source": [
    "Benefit_2014 = pd.read_csv('Exchange Data/2014/Benefits_Cost_Sharing_PUF.csv',low_memory=False)\n",
    "Benefit_2014 = Benefit_2014[required_colmuns]\n",
    "Benefit_2015 = pd.read_csv('Exchange Data/2015/Benefits_Cost_Sharing_PUF.csv',low_memory=False)\n",
    "Benefit_2015 = Benefit_2015[required_colmuns]\n",
    "Benefit_2016 = pd.read_csv('Exchange Data/2016/Benefits_Cost_Sharing_PUF.csv',low_memory=False, encoding='latin1')\n",
    "Benefit_2016 = Benefit_2016[required_colmuns]\n",
    "Benefit_2017 = pd.read_csv('Exchange Data/2017/Benefits_Cost_Sharing_PUF.csv',low_memory=False, encoding='latin1')\n",
    "Benefit_2017 = Benefit_2017[required_colmuns]\n",
    "Benefit_2018 = pd.read_csv('Exchange Data/2018/Benefits_Cost_Sharing_PUF.csv',low_memory=False, encoding='latin1')\n",
    "Benefit_2018 = Benefit_2018[required_colmuns]\n",
    "Benefit_2019 = pd.read_csv('Exchange Data/2019/Benefits_Cost_Sharing_PUF.csv',low_memory=False, encoding='latin1')\n",
    "Benefit_2019 = Benefit_2019[required_colmuns]"
   ]
  },
  {
   "cell_type": "code",
   "execution_count": 4,
   "metadata": {},
   "outputs": [],
   "source": [
    "benefit_all = pd.concat([Benefit_2014,Benefit_2015,Benefit_2016,Benefit_2017,Benefit_2018,Benefit_2019])"
   ]
  },
  {
   "cell_type": "code",
   "execution_count": 5,
   "metadata": {},
   "outputs": [
    {
     "data": {
      "text/plain": [
       "2015    2079286\n",
       "2016    1774255\n",
       "2017    1324275\n",
       "2014    1164869\n",
       "2019     967050\n",
       "2018     829652\n",
       "Name: BusinessYear, dtype: int64"
      ]
     },
     "execution_count": 5,
     "metadata": {},
     "output_type": "execute_result"
    }
   ],
   "source": [
    "#We can see from here that Benefits were decreased in years but in 2019 it increased again\n",
    "benefit_all['BusinessYear'].value_counts()"
   ]
  },
  {
   "cell_type": "code",
   "execution_count": 6,
   "metadata": {},
   "outputs": [
    {
     "name": "stdout",
     "output_type": "stream",
     "text": [
      "<class 'pandas.core.frame.DataFrame'>\n",
      "Int64Index: 8139387 entries, 0 to 967049\n",
      "Data columns (total 16 columns):\n",
      "BusinessYear           int64\n",
      "StateCode              object\n",
      "IssuerId               int64\n",
      "StandardComponentId    object\n",
      "PlanId                 object\n",
      "BenefitName            object\n",
      "CopayInnTier1          object\n",
      "CopayInnTier2          object\n",
      "CopayOutofNet          object\n",
      "CoinsInnTier1          object\n",
      "CoinsInnTier2          object\n",
      "CoinsOutofNet          object\n",
      "IsEHB                  object\n",
      "IsCovered              object\n",
      "QuantLimitOnSvc        object\n",
      "EHBVarReason           object\n",
      "dtypes: int64(2), object(14)\n",
      "memory usage: 1.0+ GB\n"
     ]
    }
   ],
   "source": [
    "benefit_all.info()"
   ]
  },
  {
   "cell_type": "code",
   "execution_count": 7,
   "metadata": {},
   "outputs": [
    {
     "data": {
      "text/html": [
       "<div>\n",
       "<style scoped>\n",
       "    .dataframe tbody tr th:only-of-type {\n",
       "        vertical-align: middle;\n",
       "    }\n",
       "\n",
       "    .dataframe tbody tr th {\n",
       "        vertical-align: top;\n",
       "    }\n",
       "\n",
       "    .dataframe thead th {\n",
       "        text-align: right;\n",
       "    }\n",
       "</style>\n",
       "<table border=\"1\" class=\"dataframe\">\n",
       "  <thead>\n",
       "    <tr style=\"text-align: right;\">\n",
       "      <th></th>\n",
       "      <th>BusinessYear</th>\n",
       "      <th>IssuerId</th>\n",
       "    </tr>\n",
       "  </thead>\n",
       "  <tbody>\n",
       "    <tr>\n",
       "      <th>count</th>\n",
       "      <td>8.139387e+06</td>\n",
       "      <td>8.139387e+06</td>\n",
       "    </tr>\n",
       "    <tr>\n",
       "      <th>mean</th>\n",
       "      <td>2.016181e+03</td>\n",
       "      <td>5.120376e+04</td>\n",
       "    </tr>\n",
       "    <tr>\n",
       "      <th>std</th>\n",
       "      <td>1.560375e+00</td>\n",
       "      <td>2.595859e+04</td>\n",
       "    </tr>\n",
       "    <tr>\n",
       "      <th>min</th>\n",
       "      <td>2.014000e+03</td>\n",
       "      <td>1.004600e+04</td>\n",
       "    </tr>\n",
       "    <tr>\n",
       "      <th>25%</th>\n",
       "      <td>2.015000e+03</td>\n",
       "      <td>3.127400e+04</td>\n",
       "    </tr>\n",
       "    <tr>\n",
       "      <th>50%</th>\n",
       "      <td>2.016000e+03</td>\n",
       "      <td>4.496500e+04</td>\n",
       "    </tr>\n",
       "    <tr>\n",
       "      <th>75%</th>\n",
       "      <td>2.017000e+03</td>\n",
       "      <td>7.431300e+04</td>\n",
       "    </tr>\n",
       "    <tr>\n",
       "      <th>max</th>\n",
       "      <td>2.019000e+03</td>\n",
       "      <td>9.996900e+04</td>\n",
       "    </tr>\n",
       "  </tbody>\n",
       "</table>\n",
       "</div>"
      ],
      "text/plain": [
       "       BusinessYear      IssuerId\n",
       "count  8.139387e+06  8.139387e+06\n",
       "mean   2.016181e+03  5.120376e+04\n",
       "std    1.560375e+00  2.595859e+04\n",
       "min    2.014000e+03  1.004600e+04\n",
       "25%    2.015000e+03  3.127400e+04\n",
       "50%    2.016000e+03  4.496500e+04\n",
       "75%    2.017000e+03  7.431300e+04\n",
       "max    2.019000e+03  9.996900e+04"
      ]
     },
     "execution_count": 7,
     "metadata": {},
     "output_type": "execute_result"
    }
   ],
   "source": [
    "#Copay and Coninsurance are not numeric so are not the part of describe as well.\n",
    "benefit_all.describe()"
   ]
  },
  {
   "cell_type": "code",
   "execution_count": 8,
   "metadata": {},
   "outputs": [
    {
     "data": {
      "text/plain": [
       "BusinessYear                 0\n",
       "StateCode                    0\n",
       "IssuerId                     0\n",
       "StandardComponentId          0\n",
       "PlanId                       0\n",
       "BenefitName                  0\n",
       "CopayInnTier1          1802865\n",
       "CopayInnTier2          7103129\n",
       "CopayOutofNet          1802867\n",
       "CoinsInnTier1          1802865\n",
       "CoinsInnTier2          7103129\n",
       "CoinsOutofNet          1802865\n",
       "IsEHB                  2599564\n",
       "IsCovered               330884\n",
       "QuantLimitOnSvc        5493110\n",
       "EHBVarReason           5250104\n",
       "dtype: int64"
      ]
     },
     "execution_count": 8,
     "metadata": {},
     "output_type": "execute_result"
    }
   ],
   "source": [
    "# check columns with number of null or empty values\n",
    "benefit_all.isnull().sum()"
   ]
  },
  {
   "cell_type": "code",
   "execution_count": 9,
   "metadata": {},
   "outputs": [
    {
     "name": "stdout",
     "output_type": "stream",
     "text": [
      "Total number of records: 8139387\n",
      "Total number of columns: 16\n"
     ]
    }
   ],
   "source": [
    "# make sure that number number of recodrs and features are correct.\n",
    "# Total number of rows and columns: total_rows, total_columns:\n",
    "total_rows, total_columns = benefit_all.shape\n",
    "print(\"Total number of records:\", total_rows)\n",
    "print(\"Total number of columns:\", total_columns)"
   ]
  },
  {
   "cell_type": "code",
   "execution_count": 10,
   "metadata": {},
   "outputs": [
    {
     "name": "stdout",
     "output_type": "stream",
     "text": [
      "IsEHB array  \n",
      "[nan 'Yes']\n"
     ]
    }
   ],
   "source": [
    "print(\"IsEHB array  \" )\n",
    "print(benefit_all['IsEHB'].unique())\n",
    "#IsEHB needs to fill Nan with No"
   ]
  },
  {
   "cell_type": "code",
   "execution_count": 11,
   "metadata": {},
   "outputs": [],
   "source": [
    "benefit_all['IsEHB'] = benefit_all['IsEHB'].fillna('No')\n",
    "benefit_all['IsEHB'] = benefit_all['IsEHB'].astype('category')"
   ]
  },
  {
   "cell_type": "code",
   "execution_count": 12,
   "metadata": {},
   "outputs": [
    {
     "name": "stdout",
     "output_type": "stream",
     "text": [
      "IsCovered array  \n",
      "['Covered' nan 'Not Covered' 'Not covered']\n"
     ]
    }
   ],
   "source": [
    "print(\"IsCovered array  \" )\n",
    "print(benefit_all['IsCovered'].unique())\n",
    "#IsCovered has Not Covered and Not covered"
   ]
  },
  {
   "cell_type": "code",
   "execution_count": 13,
   "metadata": {},
   "outputs": [],
   "source": [
    "benefit_all['IsCovered'] = benefit_all['IsCovered'].fillna('Not Covered')\n",
    "benefit_all['IsCovered'] = benefit_all['IsCovered'].str.replace('Not covered', 'Not Covered')\n",
    "benefit_all['IsCovered'] = benefit_all['IsCovered'].astype('category')"
   ]
  },
  {
   "cell_type": "code",
   "execution_count": 14,
   "metadata": {},
   "outputs": [],
   "source": [
    "#Cleaning Copay\n",
    "#NA needs to be filled with 'Not Covered'.\n",
    "benefit_all['CopayInnTier1'] = benefit_all['CopayInnTier1'].fillna('Not Covered')\n",
    "benefit_all['CopayInnTier2'] = benefit_all['CopayInnTier2'].fillna('Not Covered')\n",
    "benefit_all['CopayOutofNet'] = benefit_all['CopayOutofNet'].fillna('Not Covered')\n",
    "#Replace 'No Charge to $0'\n",
    "benefit_all['CopayInnTier1'] = benefit_all['CopayInnTier1'].str.replace('No Charge', '$0')\n",
    "benefit_all['CopayInnTier1'] = benefit_all['CopayInnTier1'].str.replace('0%', '$0')\n",
    "benefit_all['CopayInnTier2'] = benefit_all['CopayInnTier2'].str.replace('No Charge', '$0')\n",
    "benefit_all['CopayInnTier2'] = benefit_all['CopayInnTier2'].str.replace('0%', '$0')\n",
    "benefit_all['CopayOutofNet'] = benefit_all['CopayOutofNet'].str.replace('No Charge', '$0')\n",
    "benefit_all['CopayOutofNet'] = benefit_all['CopayOutofNet'].str.replace('0%', '$0')\n",
    "\n",
    "#Divide them in 2 columns 'Value and unit'\n",
    "benefit_all['CopayInnTier1Value'] = benefit_all['CopayInnTier1'].str.extract('(\\d+)')\n",
    "benefit_all['CopayInnTier1Unit'] = benefit_all['CopayInnTier1'].str.split('(\\d+)').str.get(-1)\n",
    "benefit_all['CopayInnTier2Value'] = benefit_all['CopayInnTier2'].str.extract('(\\d+)')\n",
    "benefit_all['CopayInnTier2Unit'] = benefit_all['CopayInnTier2'].str.split('(\\d+)').str.get(-1)\n",
    "benefit_all['CopayOutofNetValue'] = benefit_all['CopayOutofNet'].str.extract('(\\d+)')\n",
    "benefit_all['CopayOutofNetUnit'] = benefit_all['CopayOutofNet'].str.split('(\\d+)').str.get(-1)\n",
    "#'after deductible' needs to be changed to 'Copay after deductible' for homogenity\n",
    "benefit_all['CopayInnTier1Unit'] = benefit_all['CopayInnTier1Unit'].str.replace(' Copay after deductible', ' Copay after deductible1')\n",
    "benefit_all['CopayInnTier1Unit'] = benefit_all['CopayInnTier1Unit'].str.replace('  after deductible', ' Copay after deductible1')\n",
    "benefit_all['CopayInnTier1Unit'] = benefit_all['CopayInnTier1Unit'].str.replace(' Copay after deductible1', ' Copay after deductible')\n",
    "\n",
    "benefit_all['CopayInnTier2Unit'] = benefit_all['CopayInnTier2Unit'].str.replace(' Copay after deductible', ' Copay after deductible1')\n",
    "benefit_all['CopayInnTier2Unit'] = benefit_all['CopayInnTier2Unit'].str.replace('  after deductible', ' Copay after deductible1')\n",
    "benefit_all['CopayInnTier2Unit'] = benefit_all['CopayInnTier2Unit'].str.replace(' Copay after deductible1', ' Copay after deductible')\n",
    "\n",
    "benefit_all['CopayOutofNetValue'] = benefit_all['CopayOutofNetValue'].str.replace(' Copay after deductible', ' Copay after deductible1')\n",
    "benefit_all['CopayOutofNetValue'] = benefit_all['CopayOutofNetValue'].str.replace('  after deductible', ' Copay after deductible1')\n",
    "benefit_all['CopayOutofNetValue'] = benefit_all['CopayOutofNetValue'].str.replace(' Copay after deductible1', ' Copay after deductible')\n",
    "\n",
    "#Change the type of the data \n",
    "benefit_all['CopayInnTier1Value'] = benefit_all['CopayInnTier1Value'].astype('float')\n",
    "benefit_all['CopayInnTier2Value'] = benefit_all['CopayInnTier2Value'].astype('float')\n",
    "benefit_all['CopayOutofNetValue'] = benefit_all['CopayOutofNetValue'].astype('float')\n",
    "benefit_all['CopayInnTier1Unit'] = benefit_all['CopayInnTier1Unit'].astype('category')\n",
    "benefit_all['CopayInnTier2Unit'] = benefit_all['CopayInnTier2Unit'].astype('category')\n",
    "benefit_all['CopayOutofNetUnit'] = benefit_all['CopayOutofNetUnit'].astype('category')\n",
    "\n",
    "#handle the space values\n",
    "benefit_all['CopayInnTier1Value'] = benefit_all['CopayInnTier1Value'].fillna('-1')\n",
    "benefit_all['CopayInnTier1Unit'] = benefit_all['CopayInnTier1Unit'].replace('', ' Copay after deductible')\n",
    "benefit_all['CopayInnTier2Value'] = benefit_all['CopayInnTier2Value'].fillna('-1')\n",
    "benefit_all['CopayInnTier2Unit'] = benefit_all['CopayInnTier2Unit'].replace('', ' Copay after deductible')\n",
    "benefit_all['CopayOutofNetValue'] = benefit_all['CopayOutofNetValue'].fillna('-1')\n",
    "benefit_all['CopayOutofNetUnit'] = benefit_all['CopayOutofNetUnit'].replace('', ' Copay after deductible')"
   ]
  },
  {
   "cell_type": "code",
   "execution_count": 15,
   "metadata": {},
   "outputs": [],
   "source": [
    "#Cleaning Coinsurance\n",
    "#NA needs to be filled with 'Not Covered'.\n",
    "benefit_all['CoinsInnTier1'] = benefit_all['CoinsInnTier1'].fillna('Not Covered')\n",
    "benefit_all['CoinsInnTier2'] = benefit_all['CoinsInnTier2'].fillna('Not Covered')\n",
    "benefit_all['CopayOutofNet'] = benefit_all['CoinsOutofNet'].fillna('Not Covered')\n",
    "#Replace 'No Charge to $0'\n",
    "benefit_all['CoinsInnTier1'] = benefit_all['CoinsInnTier1'].str.replace('No Charge', '0%')\n",
    "benefit_all['CoinsInnTier1'] = benefit_all['CoinsInnTier1'].str.replace('$0', '0%')\n",
    "benefit_all['CoinsInnTier2'] = benefit_all['CoinsInnTier2'].str.replace('No Charge', '0%')\n",
    "benefit_all['CoinsInnTier2'] = benefit_all['CoinsInnTier2'].str.replace('$0', '0%')\n",
    "benefit_all['CopayOutofNet'] = benefit_all['CoinsOutofNet'].str.replace('No Charge', '0%')\n",
    "benefit_all['CopayOutofNet'] = benefit_all['CoinsOutofNet'].str.replace('$0', '0%')\n",
    "\n",
    "#'after deductible' needs to be changed to 'Coinsurance after deductible' for homogenity\n",
    "benefit_all['CoinsInnTier1'] = benefit_all['CoinsInnTier1'].str.replace('0% after deductible', '0% Coinsurance after deductible')\n",
    "benefit_all['CoinsInnTier2'] = benefit_all['CoinsInnTier2'].str.replace('0% after deductible', '0% Coinsurance after deductible')\n",
    "benefit_all['CoinsOutofNet'] = benefit_all['CoinsOutofNet'].str.replace('0% after deductible', '0% Coinsurance after deductible')\n",
    "\n",
    "#Divide them in 2 columns 'Value and unit'\n",
    "benefit_all['CoinsInnTier1Value'] = benefit_all['CoinsInnTier1'].str.extract('(\\d+)')\n",
    "benefit_all['CoinsInnTier1Unit'] = benefit_all['CoinsInnTier1'].str.split('%').str.get(1)\n",
    "\n",
    "benefit_all['CoinsInnTier2Value'] = benefit_all['CoinsInnTier2'].str.extract('(\\d+)')\n",
    "benefit_all['CoinsInnTier2Unit'] = benefit_all['CoinsInnTier2'].str.split('%').str.get(1)\n",
    "\n",
    "benefit_all['CoinsOutofNetValue'] = benefit_all['CoinsOutofNet'].str.extract('(\\d+)')\n",
    "benefit_all['CoinsOutofNetUnit'] = benefit_all['CoinsOutofNet'].str.split('%').str.get(1)\n",
    "\n",
    "#handle the space values\n",
    "benefit_all['CoinsInnTier1Value'] = benefit_all['CoinsInnTier1Value'].fillna(-1)\n",
    "benefit_all['CoinsInnTier2Value'] = benefit_all['CoinsInnTier2Value'].fillna(-1)\n",
    "benefit_all['CoinsOutofNetValue'] = benefit_all['CoinsOutofNetValue'].fillna(-1)\n",
    "\n",
    "benefit_all['CoinsInnTier1Unit'] = benefit_all['CoinsInnTier1Unit'].replace('', ' Coinsurance after deductible')\n",
    "benefit_all['CoinsInnTier2Unit'] = benefit_all['CoinsInnTier2Unit'].replace('', ' Coinsurance after deductible')\n",
    "benefit_all['CoinsOutofNetUnit'] = benefit_all['CoinsOutofNetUnit'].replace('', ' Coinsurance after deductible')\n",
    "\n",
    "benefit_all['CoinsInnTier1Unit'] = benefit_all['CoinsInnTier1Unit'].fillna(' Coinsurance after deductible')\n",
    "benefit_all['CoinsInnTier2Unit'] = benefit_all['CoinsInnTier2Unit'].fillna(' Coinsurance after deductible')\n",
    "benefit_all['CoinsOutofNetUnit'] = benefit_all['CoinsOutofNetUnit'].fillna(' Coinsurance after deductible')\n",
    "\n",
    "#Change the type of the data \n",
    "benefit_all['CoinsInnTier1Value'] = benefit_all['CoinsInnTier1Value'].astype('float')\n",
    "benefit_all['CoinsInnTier2Value'] = benefit_all['CoinsInnTier2Value'].astype('float')\n",
    "benefit_all['CoinsOutofNetValue'] = benefit_all['CoinsOutofNetValue'].astype('float')\n",
    "benefit_all['CoinsInnTier1Unit'] = benefit_all['CoinsInnTier1Unit'].astype('category')\n",
    "benefit_all['CoinsInnTier2Unit'] = benefit_all['CoinsInnTier2Unit'].astype('category')\n",
    "benefit_all['CoinsOutofNetUnit'] = benefit_all['CoinsOutofNetUnit'].astype('category')\n",
    "\n",
    "#Make the coinsurance as fraction from Percentage\n",
    "\n",
    "benefit_all['CoinsInnTier1Value'] = benefit_all['CoinsInnTier1Value']/100\n",
    "benefit_all['CoinsInnTier2Value'] = benefit_all['CoinsInnTier2Value']/100\n",
    "benefit_all['CoinsOutofNetValue'] = benefit_all['CoinsOutofNetValue']/100"
   ]
  },
  {
   "cell_type": "code",
   "execution_count": 16,
   "metadata": {},
   "outputs": [],
   "source": [
    "# Clean the QuantLimitOnSvc \n",
    "# make yes and no homeogenous respect to case\n",
    "# Impute No to all spaces.\n",
    "benefit_all['QuantLimitOnSvc'] = benefit_all['QuantLimitOnSvc'].str.replace('yes', 'Yes')\n",
    "benefit_all['QuantLimitOnSvc'] = benefit_all['QuantLimitOnSvc'].str.replace('NO', 'No')\n",
    "benefit_all['QuantLimitOnSvc'] = benefit_all['QuantLimitOnSvc'].str.replace('no', 'No')\n",
    "benefit_all['QuantLimitOnSvc'] = benefit_all['QuantLimitOnSvc'].fillna('No')\n",
    "benefit_all['QuantLimitOnSvc'] = benefit_all['QuantLimitOnSvc'].astype('category')"
   ]
  },
  {
   "cell_type": "code",
   "execution_count": 17,
   "metadata": {},
   "outputs": [],
   "source": [
    "# clean EHB var reason \n",
    "#remove \\n from the data and make it homogenous respect to Case\n",
    "benefit_all['EHBVarReason'] = benefit_all['EHBVarReason'].str.replace('\\nAdditional EHB Benefit', 'Additional EHB Benefit')\n",
    "benefit_all['EHBVarReason'] = benefit_all['EHBVarReason'].str.replace('additional EHB Benefit', 'Additional EHB Benefit')\n",
    "benefit_all['EHBVarReason'] = benefit_all['EHBVarReason'].str.replace('above EHB', 'Above EHB')\n",
    "benefit_all['EHBVarReason'] = benefit_all['EHBVarReason'].str.replace('Above Ehb', 'Above EHB')\n",
    "benefit_all['EHBVarReason'] = benefit_all['EHBVarReason'].str.replace('Substantially equal', 'Substantially Equal')\n",
    "benefit_all['EHBVarReason'] = benefit_all['EHBVarReason'].fillna(' ')"
   ]
  },
  {
   "cell_type": "code",
   "execution_count": 18,
   "metadata": {},
   "outputs": [],
   "source": [
    "benefit_all_clean = benefit_all.drop(['CoinsInnTier1', 'CoinsInnTier2', 'CoinsOutofNet','CopayInnTier1','CopayInnTier2',\n",
    "              'CopayOutofNet','CoinsInnTier1Unit','CoinsInnTier2Unit','CoinsOutofNetUnit'], axis=1)"
   ]
  },
  {
   "cell_type": "code",
   "execution_count": 20,
   "metadata": {},
   "outputs": [],
   "source": [
    "benefit_all_clean.to_csv('merged_benefits.csv')"
   ]
  }
 ],
 "metadata": {
  "kernelspec": {
   "display_name": "Python 3",
   "language": "python",
   "name": "python3"
  },
  "language_info": {
   "codemirror_mode": {
    "name": "ipython",
    "version": 3
   },
   "file_extension": ".py",
   "mimetype": "text/x-python",
   "name": "python",
   "nbconvert_exporter": "python",
   "pygments_lexer": "ipython3",
   "version": "3.7.0"
  }
 },
 "nbformat": 4,
 "nbformat_minor": 2
}
