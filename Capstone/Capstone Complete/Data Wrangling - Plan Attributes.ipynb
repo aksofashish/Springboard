{
 "cells": [
  {
   "cell_type": "code",
   "execution_count": 1,
   "metadata": {},
   "outputs": [],
   "source": [
    "import numpy as np\n",
    "import pandas as pd\n",
    "pd.options.display.max_columns = None"
   ]
  },
  {
   "cell_type": "markdown",
   "metadata": {},
   "source": [
    "# PlanAttributes: \n",
    "Plan-level data on maximum out of pocket payments, deductibles, cost sharing, HSA eligibility, formulary ID, and other plan attributes.\n",
    "I would be using the below columns of the plan attribute, there would be some derived columns also for which explanation is given at the time of derivation of the column.We would need Plan Attribute, and Rates dataset for this analysis. For further information on Plan attribute dataset columns refer to the link http://www.nber.org/cciio/marketplace-puf/2018/plan2018.pdf \n",
    "\n",
    "\n",
    "\n",
    "|Variable Name|Data Type|Varible defination|\n",
    "|--------------|----------|-------------------|\n",
    "|PlanId|Text|Seventeen-character alpha-numeric code that identifies an insurance plan’s cost sharing reduction (CSR) variant within HIOS|\n",
    "|MetalLevel|Text|Metal level, or coverage category, of insurance plan based on its actuarial value|\n",
    "|TEHBInnTier1IndividualMOOP|Text|The dollar amount of the tier 1 in network, individual out-of-pocket cost limit for medical and drug EHB benefits|\n",
    "|TEHBInnTier2IndividualMOOP|Text|The dollar amount of the tier 2 in network, individual out-of-pocket cost limit for medical and drug EHB benefits|\n",
    "|TEHBOutOfNetIndividualMOOP|Text|The dollar amount of the out of network, individual out-of-pocket cost limit for medical and drug EHB benefits|\n",
    "|IssuerID|Text|Five-digit numeric code that identifies the issuer organization in the Health Insurance Oversight System (HIOS)|"
   ]
  },
  {
   "cell_type": "code",
   "execution_count": 2,
   "metadata": {},
   "outputs": [],
   "source": [
    "required_colmuns = ['BusinessYear','StateCode','PlanId','MetalLevel','TEHBInnTier1IndividualMOOP', 'TEHBInnTier2IndividualMOOP', \n",
    "                    'TEHBOutOfNetIndividualMOOP','DentalOnlyPlan']"
   ]
  },
  {
   "cell_type": "code",
   "execution_count": 3,
   "metadata": {},
   "outputs": [
    {
     "ename": "KeyError",
     "evalue": "\"['TEHBInnTier1FamilyMOOP'] not in index\"",
     "output_type": "error",
     "traceback": [
      "\u001b[1;31m---------------------------------------------------------------------------\u001b[0m",
      "\u001b[1;31mKeyError\u001b[0m                                  Traceback (most recent call last)",
      "\u001b[1;32m<ipython-input-3-f35244b949b9>\u001b[0m in \u001b[0;36m<module>\u001b[1;34m()\u001b[0m\n\u001b[0;32m      4\u001b[0m \u001b[0mpa_2015\u001b[0m \u001b[1;33m=\u001b[0m \u001b[0mpa_2015\u001b[0m\u001b[1;33m[\u001b[0m\u001b[0mrequired_colmuns\u001b[0m\u001b[1;33m]\u001b[0m\u001b[1;33m\u001b[0m\u001b[0m\n\u001b[0;32m      5\u001b[0m \u001b[0mpa_2016\u001b[0m \u001b[1;33m=\u001b[0m \u001b[0mpd\u001b[0m\u001b[1;33m.\u001b[0m\u001b[0mread_csv\u001b[0m\u001b[1;33m(\u001b[0m\u001b[1;34m'Exchange Data/2016/Plan_Attributes_PUF.csv'\u001b[0m\u001b[1;33m,\u001b[0m\u001b[0mlow_memory\u001b[0m\u001b[1;33m=\u001b[0m\u001b[1;32mFalse\u001b[0m\u001b[1;33m,\u001b[0m \u001b[0mencoding\u001b[0m\u001b[1;33m=\u001b[0m\u001b[1;34m'latin1'\u001b[0m\u001b[1;33m)\u001b[0m\u001b[1;33m\u001b[0m\u001b[0m\n\u001b[1;32m----> 6\u001b[1;33m \u001b[0mpa_2016\u001b[0m \u001b[1;33m=\u001b[0m \u001b[0mpa_2016\u001b[0m\u001b[1;33m[\u001b[0m\u001b[0mrequired_colmuns\u001b[0m\u001b[1;33m]\u001b[0m\u001b[1;33m\u001b[0m\u001b[0m\n\u001b[0m\u001b[0;32m      7\u001b[0m \u001b[0mpa_2017\u001b[0m \u001b[1;33m=\u001b[0m \u001b[0mpd\u001b[0m\u001b[1;33m.\u001b[0m\u001b[0mread_csv\u001b[0m\u001b[1;33m(\u001b[0m\u001b[1;34m'Exchange Data/2017/Plan_Attributes_PUF.csv'\u001b[0m\u001b[1;33m,\u001b[0m\u001b[0mlow_memory\u001b[0m\u001b[1;33m=\u001b[0m\u001b[1;32mFalse\u001b[0m\u001b[1;33m,\u001b[0m \u001b[0mencoding\u001b[0m\u001b[1;33m=\u001b[0m\u001b[1;34m'latin1'\u001b[0m\u001b[1;33m)\u001b[0m\u001b[1;33m\u001b[0m\u001b[0m\n\u001b[0;32m      8\u001b[0m \u001b[0mpa_2017\u001b[0m \u001b[1;33m=\u001b[0m \u001b[0mpa_2017\u001b[0m\u001b[1;33m[\u001b[0m\u001b[0mrequired_colmuns\u001b[0m\u001b[1;33m]\u001b[0m\u001b[1;33m\u001b[0m\u001b[0m\n",
      "\u001b[1;32m~\\AppData\\Local\\Continuum\\anaconda3\\lib\\site-packages\\pandas\\core\\frame.py\u001b[0m in \u001b[0;36m__getitem__\u001b[1;34m(self, key)\u001b[0m\n\u001b[0;32m   2680\u001b[0m         \u001b[1;32mif\u001b[0m \u001b[0misinstance\u001b[0m\u001b[1;33m(\u001b[0m\u001b[0mkey\u001b[0m\u001b[1;33m,\u001b[0m \u001b[1;33m(\u001b[0m\u001b[0mSeries\u001b[0m\u001b[1;33m,\u001b[0m \u001b[0mnp\u001b[0m\u001b[1;33m.\u001b[0m\u001b[0mndarray\u001b[0m\u001b[1;33m,\u001b[0m \u001b[0mIndex\u001b[0m\u001b[1;33m,\u001b[0m \u001b[0mlist\u001b[0m\u001b[1;33m)\u001b[0m\u001b[1;33m)\u001b[0m\u001b[1;33m:\u001b[0m\u001b[1;33m\u001b[0m\u001b[0m\n\u001b[0;32m   2681\u001b[0m             \u001b[1;31m# either boolean or fancy integer index\u001b[0m\u001b[1;33m\u001b[0m\u001b[1;33m\u001b[0m\u001b[0m\n\u001b[1;32m-> 2682\u001b[1;33m             \u001b[1;32mreturn\u001b[0m \u001b[0mself\u001b[0m\u001b[1;33m.\u001b[0m\u001b[0m_getitem_array\u001b[0m\u001b[1;33m(\u001b[0m\u001b[0mkey\u001b[0m\u001b[1;33m)\u001b[0m\u001b[1;33m\u001b[0m\u001b[0m\n\u001b[0m\u001b[0;32m   2683\u001b[0m         \u001b[1;32melif\u001b[0m \u001b[0misinstance\u001b[0m\u001b[1;33m(\u001b[0m\u001b[0mkey\u001b[0m\u001b[1;33m,\u001b[0m \u001b[0mDataFrame\u001b[0m\u001b[1;33m)\u001b[0m\u001b[1;33m:\u001b[0m\u001b[1;33m\u001b[0m\u001b[0m\n\u001b[0;32m   2684\u001b[0m             \u001b[1;32mreturn\u001b[0m \u001b[0mself\u001b[0m\u001b[1;33m.\u001b[0m\u001b[0m_getitem_frame\u001b[0m\u001b[1;33m(\u001b[0m\u001b[0mkey\u001b[0m\u001b[1;33m)\u001b[0m\u001b[1;33m\u001b[0m\u001b[0m\n",
      "\u001b[1;32m~\\AppData\\Local\\Continuum\\anaconda3\\lib\\site-packages\\pandas\\core\\frame.py\u001b[0m in \u001b[0;36m_getitem_array\u001b[1;34m(self, key)\u001b[0m\n\u001b[0;32m   2724\u001b[0m             \u001b[1;32mreturn\u001b[0m \u001b[0mself\u001b[0m\u001b[1;33m.\u001b[0m\u001b[0m_take\u001b[0m\u001b[1;33m(\u001b[0m\u001b[0mindexer\u001b[0m\u001b[1;33m,\u001b[0m \u001b[0maxis\u001b[0m\u001b[1;33m=\u001b[0m\u001b[1;36m0\u001b[0m\u001b[1;33m)\u001b[0m\u001b[1;33m\u001b[0m\u001b[0m\n\u001b[0;32m   2725\u001b[0m         \u001b[1;32melse\u001b[0m\u001b[1;33m:\u001b[0m\u001b[1;33m\u001b[0m\u001b[0m\n\u001b[1;32m-> 2726\u001b[1;33m             \u001b[0mindexer\u001b[0m \u001b[1;33m=\u001b[0m \u001b[0mself\u001b[0m\u001b[1;33m.\u001b[0m\u001b[0mloc\u001b[0m\u001b[1;33m.\u001b[0m\u001b[0m_convert_to_indexer\u001b[0m\u001b[1;33m(\u001b[0m\u001b[0mkey\u001b[0m\u001b[1;33m,\u001b[0m \u001b[0maxis\u001b[0m\u001b[1;33m=\u001b[0m\u001b[1;36m1\u001b[0m\u001b[1;33m)\u001b[0m\u001b[1;33m\u001b[0m\u001b[0m\n\u001b[0m\u001b[0;32m   2727\u001b[0m             \u001b[1;32mreturn\u001b[0m \u001b[0mself\u001b[0m\u001b[1;33m.\u001b[0m\u001b[0m_take\u001b[0m\u001b[1;33m(\u001b[0m\u001b[0mindexer\u001b[0m\u001b[1;33m,\u001b[0m \u001b[0maxis\u001b[0m\u001b[1;33m=\u001b[0m\u001b[1;36m1\u001b[0m\u001b[1;33m)\u001b[0m\u001b[1;33m\u001b[0m\u001b[0m\n\u001b[0;32m   2728\u001b[0m \u001b[1;33m\u001b[0m\u001b[0m\n",
      "\u001b[1;32m~\\AppData\\Local\\Continuum\\anaconda3\\lib\\site-packages\\pandas\\core\\indexing.py\u001b[0m in \u001b[0;36m_convert_to_indexer\u001b[1;34m(self, obj, axis, is_setter)\u001b[0m\n\u001b[0;32m   1325\u001b[0m                 \u001b[1;32mif\u001b[0m \u001b[0mmask\u001b[0m\u001b[1;33m.\u001b[0m\u001b[0many\u001b[0m\u001b[1;33m(\u001b[0m\u001b[1;33m)\u001b[0m\u001b[1;33m:\u001b[0m\u001b[1;33m\u001b[0m\u001b[0m\n\u001b[0;32m   1326\u001b[0m                     raise KeyError('{mask} not in index'\n\u001b[1;32m-> 1327\u001b[1;33m                                    .format(mask=objarr[mask]))\n\u001b[0m\u001b[0;32m   1328\u001b[0m \u001b[1;33m\u001b[0m\u001b[0m\n\u001b[0;32m   1329\u001b[0m                 \u001b[1;32mreturn\u001b[0m \u001b[0mcom\u001b[0m\u001b[1;33m.\u001b[0m\u001b[0m_values_from_object\u001b[0m\u001b[1;33m(\u001b[0m\u001b[0mindexer\u001b[0m\u001b[1;33m)\u001b[0m\u001b[1;33m\u001b[0m\u001b[0m\n",
      "\u001b[1;31mKeyError\u001b[0m: \"['TEHBInnTier1FamilyMOOP'] not in index\""
     ]
    }
   ],
   "source": [
    "pa_2014 = pd.read_csv('Exchange Data/2014/Plan_Attributes_PUF.csv',low_memory=False)\n",
    "pa_2014 = pa_2014[required_colmuns]\n",
    "pa_2015 = pd.read_csv('Exchange Data/2015/Plan_Attributes_PUF.csv',low_memory=False)\n",
    "pa_2015 = pa_2015[required_colmuns]\n",
    "pa_2016 = pd.read_csv('Exchange Data/2016/Plan_Attributes_PUF.csv',low_memory=False, encoding='latin1')\n",
    "pa_2016 = pa_2016[required_colmuns]\n",
    "pa_2017 = pd.read_csv('Exchange Data/2017/Plan_Attributes_PUF.csv',low_memory=False, encoding='latin1')\n",
    "pa_2017 = pa_2017[required_colmuns]\n",
    "pa_2018 = pd.read_csv('Exchange Data/2018/Plan_Attributes_PUF.csv',low_memory=False, encoding='latin1')\n",
    "pa_2018 = pa_2018[required_colmuns]\n",
    "pa_2019 = pd.read_csv('Exchange Data/2019/Plan_Attributes_PUF.csv',low_memory=False, encoding='latin1')\n",
    "pa_2019 = pa_2019[required_colmuns]"
   ]
  },
  {
   "cell_type": "code",
   "execution_count": null,
   "metadata": {},
   "outputs": [],
   "source": [
    "pa_all = pd.concat([pa_2014,pa_2015,pa_2016,pa_2017,pa_2018,pa_2019])\n",
    "pa_all.head()"
   ]
  },
  {
   "cell_type": "code",
   "execution_count": null,
   "metadata": {},
   "outputs": [],
   "source": [
    "pa_all.info()"
   ]
  },
  {
   "cell_type": "code",
   "execution_count": null,
   "metadata": {},
   "outputs": [],
   "source": [
    "pa_all['MetalLevel'].unique()"
   ]
  },
  {
   "cell_type": "code",
   "execution_count": null,
   "metadata": {},
   "outputs": [],
   "source": [
    "pa_all['TEHBInnTier1IndividualMOOP'].unique()\n",
    "#need to handle 'Not Applicable' and NaN \n",
    "#Convert the column in numeric\n",
    "#replace all NaN values to 0"
   ]
  },
  {
   "cell_type": "code",
   "execution_count": null,
   "metadata": {},
   "outputs": [],
   "source": [
    "pa_all['TEHBInnTier2IndividualMOOP'].unique()\n",
    "#need to handle 'Not Applicable' and NaN \n",
    "#Convert the column in numeric\n",
    "#replace all NaN values to 0"
   ]
  },
  {
   "cell_type": "code",
   "execution_count": null,
   "metadata": {},
   "outputs": [],
   "source": [
    "pa_all['TEHBOutOfNetIndividualMOOP'].unique()\n",
    "#need to handle 'Not Applicable' and NaN \n",
    "#Convert the column in numeric\n",
    "#replace all NaN values to 0"
   ]
  },
  {
   "cell_type": "code",
   "execution_count": null,
   "metadata": {},
   "outputs": [],
   "source": [
    "cols_to_num = ['TEHBInnTier1IndividualMOOP', 'TEHBInnTier2IndividualMOOP', \n",
    "               'TEHBOutOfNetIndividualMOOP']\n",
    "pa_all[cols_to_num] = pa_all[cols_to_num].replace(\n",
    "    {'\\$':'', ',':'', 'Not Applicable':np.nan},regex = True)\n",
    "pa_all[cols_to_num] = pa_all[cols_to_num].fillna(0)\n",
    "pa_all[cols_to_num] = pa_all[cols_to_num].astype('float')"
   ]
  },
  {
   "cell_type": "code",
   "execution_count": null,
   "metadata": {},
   "outputs": [],
   "source": [
    "pa_all.info()"
   ]
  },
  {
   "cell_type": "code",
   "execution_count": null,
   "metadata": {},
   "outputs": [],
   "source": [
    "pa_all.describe()"
   ]
  },
  {
   "cell_type": "code",
   "execution_count": null,
   "metadata": {},
   "outputs": [],
   "source": [
    "pa_all.groupby(['MetalLevel','DentalOnlyPlan']).count()"
   ]
  },
  {
   "cell_type": "code",
   "execution_count": null,
   "metadata": {},
   "outputs": [],
   "source": [
    "# Looking at the above analysis, Dental Plan can be inferred by MetalLevel as 'High' or 'Low'\n",
    "#So deleting the column 'DentalOnlyPlan' from the dataset\n",
    "pa_all = pa_all.drop('DentalOnlyPlan',axis=1)"
   ]
  },
  {
   "cell_type": "code",
   "execution_count": null,
   "metadata": {},
   "outputs": [],
   "source": [
    "pa_all.to_csv('merged_plan_attribute.csv')"
   ]
  }
 ],
 "metadata": {
  "kernelspec": {
   "display_name": "Python 3",
   "language": "python",
   "name": "python3"
  },
  "language_info": {
   "codemirror_mode": {
    "name": "ipython",
    "version": 3
   },
   "file_extension": ".py",
   "mimetype": "text/x-python",
   "name": "python",
   "nbconvert_exporter": "python",
   "pygments_lexer": "ipython3",
   "version": "3.7.0"
  }
 },
 "nbformat": 4,
 "nbformat_minor": 2
}
