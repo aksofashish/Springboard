{
 "cells": [
  {
   "cell_type": "markdown",
   "metadata": {},
   "source": [
    "# Machine Learning\n",
    "\n",
    "**Health Insurance Marketplace** \n",
    "\n",
    "In this part I will try to predict Individual Rates using regression models and will comapare results and performance of these models. We have researched the data on all the state of US. \n",
    "As the data is huge, so to avoid getting into memory run out issues I will concentrate on Florida's premium. As per my analyisis Florida has the maximum number of Plans therefore I have opted for this state"
   ]
  },
  {
   "cell_type": "code",
   "execution_count": 1,
   "metadata": {},
   "outputs": [],
   "source": [
    "import pandas as pd\n",
    "import numpy as np\n",
    "pd.options.display.max_columns = None\n",
    "import matplotlib\n",
    "import matplotlib.pyplot as plt\n",
    "%matplotlib inline \n",
    "from pylab import rcParams"
   ]
  },
  {
   "cell_type": "code",
   "execution_count": 2,
   "metadata": {},
   "outputs": [],
   "source": [
    "rate = pd.read_csv('rate_FL.csv')\n",
    "planattribute =  pd.read_csv('plan_att_FL.csv')\n",
    "bcs = pd.read_csv('bcs_FL.csv')"
   ]
  },
  {
   "cell_type": "code",
   "execution_count": 3,
   "metadata": {},
   "outputs": [],
   "source": [
    "bcs.reset_index(inplace=True)\n",
    "planattribute.reset_index(inplace=True)\n",
    "rate.reset_index(inplace=True)"
   ]
  },
  {
   "cell_type": "code",
   "execution_count": 4,
   "metadata": {},
   "outputs": [
    {
     "name": "stdout",
     "output_type": "stream",
     "text": [
      "<class 'pandas.core.frame.DataFrame'>\n",
      "RangeIndex: 585724 entries, 0 to 585723\n",
      "Data columns (total 20 columns):\n",
      "index                  585724 non-null int64\n",
      "BusinessYear           585724 non-null int64\n",
      "StateCode              585724 non-null object\n",
      "IssuerId               585724 non-null int64\n",
      "StandardComponentId    585724 non-null object\n",
      "PlanId                 585724 non-null object\n",
      "BenefitName            585724 non-null object\n",
      "IsEHB                  585724 non-null object\n",
      "IsCovered              585724 non-null object\n",
      "QuantLimitOnSvc        585724 non-null object\n",
      "EHBVarReason           585724 non-null object\n",
      "CopayInnTier1Value     585724 non-null float64\n",
      "CopayInnTier1Unit      585724 non-null object\n",
      "CopayInnTier2Value     585724 non-null float64\n",
      "CopayInnTier2Unit      585724 non-null object\n",
      "CopayOutofNetValue     585724 non-null float64\n",
      "CopayOutofNetUnit      585724 non-null object\n",
      "CoinsInnTier1Value     585724 non-null float64\n",
      "CoinsInnTier2Value     585724 non-null float64\n",
      "CoinsOutofNetValue     585724 non-null float64\n",
      "dtypes: float64(6), int64(3), object(11)\n",
      "memory usage: 89.4+ MB\n"
     ]
    }
   ],
   "source": [
    "bcs.info()"
   ]
  },
  {
   "cell_type": "code",
   "execution_count": 5,
   "metadata": {},
   "outputs": [
    {
     "name": "stdout",
     "output_type": "stream",
     "text": [
      "<class 'pandas.core.frame.DataFrame'>\n",
      "RangeIndex: 8320 entries, 0 to 8319\n",
      "Data columns (total 8 columns):\n",
      "index                         8320 non-null int64\n",
      "BusinessYear                  8320 non-null int64\n",
      "StateCode                     8320 non-null object\n",
      "PlanId                        8320 non-null object\n",
      "MetalLevel                    8320 non-null object\n",
      "TEHBInnTier1IndividualMOOP    8320 non-null float64\n",
      "TEHBInnTier2IndividualMOOP    8320 non-null float64\n",
      "TEHBOutOfNetIndividualMOOP    8320 non-null float64\n",
      "dtypes: float64(3), int64(2), object(3)\n",
      "memory usage: 520.1+ KB\n"
     ]
    }
   ],
   "source": [
    "planattribute.info()"
   ]
  },
  {
   "cell_type": "code",
   "execution_count": 6,
   "metadata": {},
   "outputs": [
    {
     "name": "stdout",
     "output_type": "stream",
     "text": [
      "<class 'pandas.core.frame.DataFrame'>\n",
      "RangeIndex: 2737653 entries, 0 to 2737652\n",
      "Data columns (total 19 columns):\n",
      "index                                        int64\n",
      "BusinessYear                                 int64\n",
      "StateCode                                    object\n",
      "IssuerId                                     int64\n",
      "RateEffectiveDate                            object\n",
      "RateExpirationDate                           object\n",
      "PlanId                                       object\n",
      "RatingAreaId                                 object\n",
      "Tobacco                                      object\n",
      "Age                                          object\n",
      "IndividualRate                               float64\n",
      "IndividualTobaccoRate                        float64\n",
      "Couple                                       float64\n",
      "PrimarySubscriberAndOneDependent             float64\n",
      "PrimarySubscriberAndTwoDependents            float64\n",
      "PrimarySubscriberAndThreeOrMoreDependents    float64\n",
      "CoupleAndOneDependent                        float64\n",
      "CoupleAndTwoDependents                       float64\n",
      "CoupleAndThreeOrMoreDependents               float64\n",
      "dtypes: float64(9), int64(3), object(7)\n",
      "memory usage: 396.8+ MB\n"
     ]
    }
   ],
   "source": [
    "rate.info()"
   ]
  },
  {
   "cell_type": "code",
   "execution_count": 7,
   "metadata": {},
   "outputs": [],
   "source": [
    "planattribute['PlanId'] = planattribute['PlanId'].str.split('-').str[0]"
   ]
  },
  {
   "cell_type": "code",
   "execution_count": 8,
   "metadata": {},
   "outputs": [],
   "source": [
    "#Now merge the plan attributes dataset with the rate benefit dataset\n",
    "rate_plan = pd.merge(rate,planattribute, on=['BusinessYear','StateCode','PlanId'], how = 'left',indicator=True)"
   ]
  },
  {
   "cell_type": "code",
   "execution_count": 9,
   "metadata": {},
   "outputs": [],
   "source": [
    "rate_plan.reset_index(inplace=True)\n",
    "rate_plan.drop(['index','_merge','index_x','index_y'],axis=1,inplace=True)"
   ]
  },
  {
   "cell_type": "code",
   "execution_count": 10,
   "metadata": {},
   "outputs": [
    {
     "data": {
      "text/html": [
       "<div>\n",
       "<style scoped>\n",
       "    .dataframe tbody tr th:only-of-type {\n",
       "        vertical-align: middle;\n",
       "    }\n",
       "\n",
       "    .dataframe tbody tr th {\n",
       "        vertical-align: top;\n",
       "    }\n",
       "\n",
       "    .dataframe thead th {\n",
       "        text-align: right;\n",
       "    }\n",
       "</style>\n",
       "<table border=\"1\" class=\"dataframe\">\n",
       "  <thead>\n",
       "    <tr style=\"text-align: right;\">\n",
       "      <th></th>\n",
       "      <th>BusinessYear</th>\n",
       "      <th>StateCode</th>\n",
       "      <th>IssuerId</th>\n",
       "      <th>RateEffectiveDate</th>\n",
       "      <th>RateExpirationDate</th>\n",
       "      <th>PlanId</th>\n",
       "      <th>RatingAreaId</th>\n",
       "      <th>Tobacco</th>\n",
       "      <th>Age</th>\n",
       "      <th>IndividualRate</th>\n",
       "      <th>IndividualTobaccoRate</th>\n",
       "      <th>Couple</th>\n",
       "      <th>PrimarySubscriberAndOneDependent</th>\n",
       "      <th>PrimarySubscriberAndTwoDependents</th>\n",
       "      <th>PrimarySubscriberAndThreeOrMoreDependents</th>\n",
       "      <th>CoupleAndOneDependent</th>\n",
       "      <th>CoupleAndTwoDependents</th>\n",
       "      <th>CoupleAndThreeOrMoreDependents</th>\n",
       "      <th>MetalLevel</th>\n",
       "      <th>TEHBInnTier1IndividualMOOP</th>\n",
       "      <th>TEHBInnTier2IndividualMOOP</th>\n",
       "      <th>TEHBOutOfNetIndividualMOOP</th>\n",
       "    </tr>\n",
       "  </thead>\n",
       "  <tbody>\n",
       "    <tr>\n",
       "      <th>0</th>\n",
       "      <td>2014</td>\n",
       "      <td>FL</td>\n",
       "      <td>15833</td>\n",
       "      <td>2014-01-01</td>\n",
       "      <td>2014-12-31</td>\n",
       "      <td>15833FL0020001</td>\n",
       "      <td>Rating Area 1</td>\n",
       "      <td>No Preference</td>\n",
       "      <td>0-20</td>\n",
       "      <td>22.38</td>\n",
       "      <td>0.0</td>\n",
       "      <td>0.00</td>\n",
       "      <td>0.00</td>\n",
       "      <td>0.00</td>\n",
       "      <td>0.00</td>\n",
       "      <td>0.00</td>\n",
       "      <td>0.00</td>\n",
       "      <td>0.00</td>\n",
       "      <td>Low</td>\n",
       "      <td>0.0</td>\n",
       "      <td>0.0</td>\n",
       "      <td>0.0</td>\n",
       "    </tr>\n",
       "    <tr>\n",
       "      <th>1</th>\n",
       "      <td>2014</td>\n",
       "      <td>FL</td>\n",
       "      <td>15833</td>\n",
       "      <td>2014-01-01</td>\n",
       "      <td>2014-12-31</td>\n",
       "      <td>15833FL0020001</td>\n",
       "      <td>Rating Area 1</td>\n",
       "      <td>No Preference</td>\n",
       "      <td>0-20</td>\n",
       "      <td>22.38</td>\n",
       "      <td>0.0</td>\n",
       "      <td>0.00</td>\n",
       "      <td>0.00</td>\n",
       "      <td>0.00</td>\n",
       "      <td>0.00</td>\n",
       "      <td>0.00</td>\n",
       "      <td>0.00</td>\n",
       "      <td>0.00</td>\n",
       "      <td>Low</td>\n",
       "      <td>0.0</td>\n",
       "      <td>0.0</td>\n",
       "      <td>0.0</td>\n",
       "    </tr>\n",
       "    <tr>\n",
       "      <th>2</th>\n",
       "      <td>2014</td>\n",
       "      <td>FL</td>\n",
       "      <td>15833</td>\n",
       "      <td>2014-01-01</td>\n",
       "      <td>2014-12-31</td>\n",
       "      <td>15833FL0030001</td>\n",
       "      <td>Rating Area 1</td>\n",
       "      <td>No Preference</td>\n",
       "      <td>Family Option</td>\n",
       "      <td>21.98</td>\n",
       "      <td>0.0</td>\n",
       "      <td>44.00</td>\n",
       "      <td>47.38</td>\n",
       "      <td>72.77</td>\n",
       "      <td>110.87</td>\n",
       "      <td>69.40</td>\n",
       "      <td>94.79</td>\n",
       "      <td>132.89</td>\n",
       "      <td>High</td>\n",
       "      <td>0.0</td>\n",
       "      <td>0.0</td>\n",
       "      <td>0.0</td>\n",
       "    </tr>\n",
       "    <tr>\n",
       "      <th>3</th>\n",
       "      <td>2014</td>\n",
       "      <td>FL</td>\n",
       "      <td>15833</td>\n",
       "      <td>2014-01-01</td>\n",
       "      <td>2014-12-31</td>\n",
       "      <td>15833FL0030001</td>\n",
       "      <td>Rating Area 1</td>\n",
       "      <td>No Preference</td>\n",
       "      <td>Family Option</td>\n",
       "      <td>21.98</td>\n",
       "      <td>0.0</td>\n",
       "      <td>44.00</td>\n",
       "      <td>47.38</td>\n",
       "      <td>72.77</td>\n",
       "      <td>110.87</td>\n",
       "      <td>69.40</td>\n",
       "      <td>94.79</td>\n",
       "      <td>132.89</td>\n",
       "      <td>High</td>\n",
       "      <td>0.0</td>\n",
       "      <td>0.0</td>\n",
       "      <td>0.0</td>\n",
       "    </tr>\n",
       "    <tr>\n",
       "      <th>4</th>\n",
       "      <td>2014</td>\n",
       "      <td>FL</td>\n",
       "      <td>15833</td>\n",
       "      <td>2014-01-01</td>\n",
       "      <td>2014-12-31</td>\n",
       "      <td>15833FL0030001</td>\n",
       "      <td>Rating Area 2</td>\n",
       "      <td>No Preference</td>\n",
       "      <td>Family Option</td>\n",
       "      <td>22.29</td>\n",
       "      <td>0.0</td>\n",
       "      <td>44.63</td>\n",
       "      <td>48.00</td>\n",
       "      <td>73.71</td>\n",
       "      <td>112.28</td>\n",
       "      <td>70.34</td>\n",
       "      <td>96.05</td>\n",
       "      <td>134.62</td>\n",
       "      <td>High</td>\n",
       "      <td>0.0</td>\n",
       "      <td>0.0</td>\n",
       "      <td>0.0</td>\n",
       "    </tr>\n",
       "  </tbody>\n",
       "</table>\n",
       "</div>"
      ],
      "text/plain": [
       "   BusinessYear StateCode  IssuerId RateEffectiveDate RateExpirationDate  \\\n",
       "0          2014        FL     15833        2014-01-01         2014-12-31   \n",
       "1          2014        FL     15833        2014-01-01         2014-12-31   \n",
       "2          2014        FL     15833        2014-01-01         2014-12-31   \n",
       "3          2014        FL     15833        2014-01-01         2014-12-31   \n",
       "4          2014        FL     15833        2014-01-01         2014-12-31   \n",
       "\n",
       "           PlanId   RatingAreaId        Tobacco            Age  \\\n",
       "0  15833FL0020001  Rating Area 1  No Preference           0-20   \n",
       "1  15833FL0020001  Rating Area 1  No Preference           0-20   \n",
       "2  15833FL0030001  Rating Area 1  No Preference  Family Option   \n",
       "3  15833FL0030001  Rating Area 1  No Preference  Family Option   \n",
       "4  15833FL0030001  Rating Area 2  No Preference  Family Option   \n",
       "\n",
       "   IndividualRate  IndividualTobaccoRate  Couple  \\\n",
       "0           22.38                    0.0    0.00   \n",
       "1           22.38                    0.0    0.00   \n",
       "2           21.98                    0.0   44.00   \n",
       "3           21.98                    0.0   44.00   \n",
       "4           22.29                    0.0   44.63   \n",
       "\n",
       "   PrimarySubscriberAndOneDependent  PrimarySubscriberAndTwoDependents  \\\n",
       "0                              0.00                               0.00   \n",
       "1                              0.00                               0.00   \n",
       "2                             47.38                              72.77   \n",
       "3                             47.38                              72.77   \n",
       "4                             48.00                              73.71   \n",
       "\n",
       "   PrimarySubscriberAndThreeOrMoreDependents  CoupleAndOneDependent  \\\n",
       "0                                       0.00                   0.00   \n",
       "1                                       0.00                   0.00   \n",
       "2                                     110.87                  69.40   \n",
       "3                                     110.87                  69.40   \n",
       "4                                     112.28                  70.34   \n",
       "\n",
       "   CoupleAndTwoDependents  CoupleAndThreeOrMoreDependents MetalLevel  \\\n",
       "0                    0.00                            0.00        Low   \n",
       "1                    0.00                            0.00        Low   \n",
       "2                   94.79                          132.89       High   \n",
       "3                   94.79                          132.89       High   \n",
       "4                   96.05                          134.62       High   \n",
       "\n",
       "   TEHBInnTier1IndividualMOOP  TEHBInnTier2IndividualMOOP  \\\n",
       "0                         0.0                         0.0   \n",
       "1                         0.0                         0.0   \n",
       "2                         0.0                         0.0   \n",
       "3                         0.0                         0.0   \n",
       "4                         0.0                         0.0   \n",
       "\n",
       "   TEHBOutOfNetIndividualMOOP  \n",
       "0                         0.0  \n",
       "1                         0.0  \n",
       "2                         0.0  \n",
       "3                         0.0  \n",
       "4                         0.0  "
      ]
     },
     "execution_count": 10,
     "metadata": {},
     "output_type": "execute_result"
    }
   ],
   "source": [
    "rate_plan.head()"
   ]
  },
  {
   "cell_type": "code",
   "execution_count": 11,
   "metadata": {},
   "outputs": [
    {
     "name": "stdout",
     "output_type": "stream",
     "text": [
      "<class 'pandas.core.frame.DataFrame'>\n",
      "RangeIndex: 7201634 entries, 0 to 7201633\n",
      "Data columns (total 22 columns):\n",
      "BusinessYear                                 int64\n",
      "StateCode                                    object\n",
      "IssuerId                                     int64\n",
      "RateEffectiveDate                            object\n",
      "RateExpirationDate                           object\n",
      "PlanId                                       object\n",
      "RatingAreaId                                 object\n",
      "Tobacco                                      object\n",
      "Age                                          object\n",
      "IndividualRate                               float64\n",
      "IndividualTobaccoRate                        float64\n",
      "Couple                                       float64\n",
      "PrimarySubscriberAndOneDependent             float64\n",
      "PrimarySubscriberAndTwoDependents            float64\n",
      "PrimarySubscriberAndThreeOrMoreDependents    float64\n",
      "CoupleAndOneDependent                        float64\n",
      "CoupleAndTwoDependents                       float64\n",
      "CoupleAndThreeOrMoreDependents               float64\n",
      "MetalLevel                                   object\n",
      "TEHBInnTier1IndividualMOOP                   float64\n",
      "TEHBInnTier2IndividualMOOP                   float64\n",
      "TEHBOutOfNetIndividualMOOP                   float64\n",
      "dtypes: float64(12), int64(2), object(8)\n",
      "memory usage: 1.2+ GB\n"
     ]
    }
   ],
   "source": [
    "rate_plan.info()"
   ]
  },
  {
   "cell_type": "code",
   "execution_count": 12,
   "metadata": {},
   "outputs": [
    {
     "data": {
      "text/plain": [
       "BusinessYear                                   0\n",
       "StateCode                                      0\n",
       "IssuerId                                       0\n",
       "RateEffectiveDate                              0\n",
       "RateExpirationDate                             0\n",
       "PlanId                                         0\n",
       "RatingAreaId                                   0\n",
       "Tobacco                                      108\n",
       "Age                                            0\n",
       "IndividualRate                                 0\n",
       "IndividualTobaccoRate                          0\n",
       "Couple                                         0\n",
       "PrimarySubscriberAndOneDependent               0\n",
       "PrimarySubscriberAndTwoDependents              0\n",
       "PrimarySubscriberAndThreeOrMoreDependents      0\n",
       "CoupleAndOneDependent                          0\n",
       "CoupleAndTwoDependents                         0\n",
       "CoupleAndThreeOrMoreDependents                 0\n",
       "MetalLevel                                     0\n",
       "TEHBInnTier1IndividualMOOP                     0\n",
       "TEHBInnTier2IndividualMOOP                     0\n",
       "TEHBOutOfNetIndividualMOOP                     0\n",
       "dtype: int64"
      ]
     },
     "execution_count": 12,
     "metadata": {},
     "output_type": "execute_result"
    }
   ],
   "source": [
    "rate_plan.isna().sum()\n",
    "#Tobacco column has few NAs which is very few as respect to the overall records we have. So we can delete those records. "
   ]
  },
  {
   "cell_type": "code",
   "execution_count": 13,
   "metadata": {},
   "outputs": [
    {
     "name": "stdout",
     "output_type": "stream",
     "text": [
      "<class 'pandas.core.frame.DataFrame'>\n",
      "Int64Index: 7201526 entries, 0 to 7201633\n",
      "Data columns (total 22 columns):\n",
      "BusinessYear                                 int64\n",
      "StateCode                                    object\n",
      "IssuerId                                     int64\n",
      "RateEffectiveDate                            object\n",
      "RateExpirationDate                           object\n",
      "PlanId                                       object\n",
      "RatingAreaId                                 object\n",
      "Tobacco                                      object\n",
      "Age                                          object\n",
      "IndividualRate                               float64\n",
      "IndividualTobaccoRate                        float64\n",
      "Couple                                       float64\n",
      "PrimarySubscriberAndOneDependent             float64\n",
      "PrimarySubscriberAndTwoDependents            float64\n",
      "PrimarySubscriberAndThreeOrMoreDependents    float64\n",
      "CoupleAndOneDependent                        float64\n",
      "CoupleAndTwoDependents                       float64\n",
      "CoupleAndThreeOrMoreDependents               float64\n",
      "MetalLevel                                   object\n",
      "TEHBInnTier1IndividualMOOP                   float64\n",
      "TEHBInnTier2IndividualMOOP                   float64\n",
      "TEHBOutOfNetIndividualMOOP                   float64\n",
      "dtypes: float64(12), int64(2), object(8)\n",
      "memory usage: 1.2+ GB\n"
     ]
    }
   ],
   "source": [
    "rate_plan.dropna(inplace=True)\n",
    "rate_plan.info()"
   ]
  },
  {
   "cell_type": "code",
   "execution_count": 14,
   "metadata": {},
   "outputs": [],
   "source": [
    "#Convert the dates to proper format and take the duration of the plan by taking difference \n",
    "#of the Expiration date and effective date\n",
    "import datetime\n",
    "effdate = pd.to_datetime(rate_plan['RateEffectiveDate'], format='%Y-%m-%d').dt.date\n",
    "expdate = pd.to_datetime(rate_plan['RateExpirationDate'], format='%Y-%m-%d').dt.date\n",
    "duration = expdate - effdate\n",
    "rate_plan.drop(['RateEffectiveDate','RateExpirationDate'],inplace=True,axis=1)\n",
    "rate_plan['Duration'] = duration.astype('str').str.split(' ').str[0]\n"
   ]
  },
  {
   "cell_type": "code",
   "execution_count": 15,
   "metadata": {},
   "outputs": [
    {
     "data": {
      "text/plain": [
       "array(['Low', 'High', 'Gold', 'Silver', 'Bronze', 'Platinum',\n",
       "       'Catastrophic', 'Expanded Bronze'], dtype=object)"
      ]
     },
     "execution_count": 15,
     "metadata": {},
     "output_type": "execute_result"
    }
   ],
   "source": [
    "#Checking the type of Metal Level in our dataset\n",
    "rate_plan.MetalLevel.unique()"
   ]
  },
  {
   "cell_type": "code",
   "execution_count": 16,
   "metadata": {},
   "outputs": [
    {
     "data": {
      "text/plain": [
       "array(['Gold', 'Silver', 'Bronze', 'Platinum', 'Catastrophic',\n",
       "       'Expanded Bronze'], dtype=object)"
      ]
     },
     "execution_count": 16,
     "metadata": {},
     "output_type": "execute_result"
    }
   ],
   "source": [
    "#MetalLevel as Low and High are of Dental. As we are doing the analysis for Medical benefits, so we should delete those records\n",
    "rate_plan = rate_plan[(rate_plan['MetalLevel'] != 'Low') & (rate_plan['MetalLevel'] != 'High')]\n",
    "rate_plan.MetalLevel.unique()"
   ]
  },
  {
   "cell_type": "code",
   "execution_count": 17,
   "metadata": {},
   "outputs": [],
   "source": [
    "rate_plan['MetalLevel'] = rate_plan['MetalLevel'].astype('category')"
   ]
  },
  {
   "cell_type": "code",
   "execution_count": 18,
   "metadata": {},
   "outputs": [
    {
     "data": {
      "text/plain": [
       "array(['0-20', '21', '22', '23', '24', '25', '26', '27', '28', '29', '30',\n",
       "       '31', '32', '33', '34', '35', '36', '37', '38', '39', '40', '41',\n",
       "       '42', '43', '44', '45', '46', '47', '48', '49', '50', '51', '52',\n",
       "       '53', '54', '55', '56', '57', '58', '59', '60', '61', '62', '63',\n",
       "       '64', '65 and over', '0-14', '15', '16', '17', '18', '19', '20',\n",
       "       '64 and over'], dtype=object)"
      ]
     },
     "execution_count": 18,
     "metadata": {},
     "output_type": "execute_result"
    }
   ],
   "source": [
    "#In 2017 the Age bucket for the kids was changed from 0-20 to 0-14 so therefore we have some discrepancy in that Age group\n",
    "#Also, the age for senior citizen was reduced to 4 age.\n",
    "#For simplicity, I am keeping all the age group from 0-20 in 0-20 group only\n",
    "rate_plan.Age.unique()"
   ]
  },
  {
   "cell_type": "code",
   "execution_count": 19,
   "metadata": {},
   "outputs": [
    {
     "data": {
      "text/plain": [
       "array(['20', '21', '22', '23', '24', '25', '26', '27', '28', '29', '30',\n",
       "       '31', '32', '33', '34', '35', '36', '37', '38', '39', '40', '41',\n",
       "       '42', '43', '44', '45', '46', '47', '48', '49', '50', '51', '52',\n",
       "       '53', '54', '55', '56', '57', '58', '59', '60', '61', '62', '63',\n",
       "       '64', '65', '15'], dtype=object)"
      ]
     },
     "execution_count": 19,
     "metadata": {},
     "output_type": "execute_result"
    }
   ],
   "source": [
    "rate_plan['Age'].replace('0-14', '0-20',inplace = True)\n",
    "rate_plan['Age'].replace('0-15', '0-20',inplace = True)\n",
    "rate_plan['Age'].replace('16', '0-20',inplace = True)\n",
    "rate_plan['Age'].replace('17', '0-20',inplace = True)\n",
    "rate_plan['Age'].replace('18', '0-20',inplace = True)\n",
    "rate_plan['Age'].replace('19', '0-20',inplace = True)\n",
    "rate_plan['Age'].replace('20', '0-20',inplace = True)\n",
    "rate_plan['Age'].replace('0-20', '20',inplace = True)\n",
    "rate_plan['Age'].replace('64 and over', '65',inplace = True)\n",
    "rate_plan['Age'].replace('65 and over', '65',inplace = True)\n",
    "rate_plan.Age.unique()"
   ]
  },
  {
   "cell_type": "code",
   "execution_count": 20,
   "metadata": {},
   "outputs": [],
   "source": [
    "rate_plan['Age'] = rate_plan['Age'].astype('category')"
   ]
  },
  {
   "cell_type": "code",
   "execution_count": 21,
   "metadata": {},
   "outputs": [
    {
     "data": {
      "text/plain": [
       "array(['32', '66', '1', '33', '2', '34', '3', '35', '5', '4', '36', '6',\n",
       "       '37', '8', '38', '9', '7', '39', '10', '40', '11', '41', '15',\n",
       "       '42', '16', '43', '12', '22', '44', '13', '26', '45', '14', '27',\n",
       "       '46', '28', '47', '30', '48', '17', '49', '18', '50', '19', '51',\n",
       "       '20', '52', '21', '53', '54', '23', '55', '24', '56', '25', '57',\n",
       "       '58', '59', '60', '29', '61', '62', '31', '63', '64', '65', '67'],\n",
       "      dtype=object)"
      ]
     },
     "execution_count": 21,
     "metadata": {},
     "output_type": "execute_result"
    }
   ],
   "source": [
    "rate_plan['RatingAreaId'] = rate_plan['RatingAreaId'].str.split(' ').str[2]\n",
    "rate_plan['RatingAreaId'].unique()"
   ]
  },
  {
   "cell_type": "code",
   "execution_count": 22,
   "metadata": {},
   "outputs": [],
   "source": [
    "rate_plan['RatingAreaId'] = rate_plan['RatingAreaId'].astype('category')"
   ]
  },
  {
   "cell_type": "code",
   "execution_count": 23,
   "metadata": {},
   "outputs": [
    {
     "data": {
      "text/plain": [
       "array(['Tobacco User/Non-Tobacco User', 'No Preference'], dtype=object)"
      ]
     },
     "execution_count": 23,
     "metadata": {},
     "output_type": "execute_result"
    }
   ],
   "source": [
    "rate_plan['Tobacco'].unique() "
   ]
  },
  {
   "cell_type": "code",
   "execution_count": 24,
   "metadata": {},
   "outputs": [],
   "source": [
    "rate_plan['Tobacco'] = rate_plan['Tobacco'].astype('category')"
   ]
  },
  {
   "cell_type": "code",
   "execution_count": 25,
   "metadata": {},
   "outputs": [
    {
     "name": "stdout",
     "output_type": "stream",
     "text": [
      "<class 'pandas.core.frame.DataFrame'>\n",
      "RangeIndex: 5155187 entries, 0 to 5155186\n",
      "Data columns (total 21 columns):\n",
      "BusinessYear                                 int64\n",
      "StateCode                                    object\n",
      "IssuerId                                     int64\n",
      "PlanId                                       object\n",
      "RatingAreaId                                 category\n",
      "Tobacco                                      category\n",
      "Age                                          category\n",
      "IndividualRate                               float64\n",
      "IndividualTobaccoRate                        float64\n",
      "Couple                                       float64\n",
      "PrimarySubscriberAndOneDependent             float64\n",
      "PrimarySubscriberAndTwoDependents            float64\n",
      "PrimarySubscriberAndThreeOrMoreDependents    float64\n",
      "CoupleAndOneDependent                        float64\n",
      "CoupleAndTwoDependents                       float64\n",
      "CoupleAndThreeOrMoreDependents               float64\n",
      "MetalLevel                                   category\n",
      "TEHBInnTier1IndividualMOOP                   float64\n",
      "TEHBInnTier2IndividualMOOP                   float64\n",
      "TEHBOutOfNetIndividualMOOP                   float64\n",
      "Duration                                     object\n",
      "dtypes: category(4), float64(12), int64(2), object(3)\n",
      "memory usage: 688.3+ MB\n"
     ]
    }
   ],
   "source": [
    "#We can see the difference in the space utilization of the current dataset. Earlier the dataset was 5GB but now its half of it.\n",
    "#This is how helpful it is to make the data Categorical\n",
    "rate_plan.reset_index(inplace=True)\n",
    "rate_plan.drop(['index'],inplace=True,axis=1)\n",
    "rate_plan.info()"
   ]
  },
  {
   "cell_type": "code",
   "execution_count": 26,
   "metadata": {},
   "outputs": [],
   "source": [
    "bcs['PlanId1'] = bcs['PlanId']\n",
    "bcs['PlanId'] = bcs['StandardComponentId']\n",
    "bcs['StandardComponentId'] = bcs['PlanId1']\n",
    "bcs.drop('PlanId1',axis=1,inplace=True)"
   ]
  },
  {
   "cell_type": "code",
   "execution_count": 27,
   "metadata": {},
   "outputs": [
    {
     "name": "stdout",
     "output_type": "stream",
     "text": [
      "<class 'pandas.core.frame.DataFrame'>\n",
      "RangeIndex: 2735033 entries, 0 to 2735032\n",
      "Data columns (total 18 columns):\n",
      "BusinessYear           int64\n",
      "IssuerId               int64\n",
      "StandardComponentId    object\n",
      "PlanId                 object\n",
      "BenefitName            object\n",
      "IsEHB                  object\n",
      "IsCovered              object\n",
      "QuantLimitOnSvc        object\n",
      "EHBVarReason           object\n",
      "CopayInnTier1Value     float64\n",
      "CopayInnTier1Unit      object\n",
      "CopayInnTier2Value     float64\n",
      "CopayInnTier2Unit      object\n",
      "CopayOutofNetValue     float64\n",
      "CopayOutofNetUnit      object\n",
      "CoinsInnTier1Value     float64\n",
      "CoinsInnTier2Value     float64\n",
      "CoinsOutofNetValue     float64\n",
      "dtypes: float64(6), int64(2), object(10)\n",
      "memory usage: 375.6+ MB\n"
     ]
    }
   ],
   "source": [
    "bcs_plan = pd.merge(bcs,planattribute, on=['BusinessYear','PlanId','StateCode'], how = 'left',indicator=True)\n",
    "bcs_plan = bcs_plan[(bcs_plan['MetalLevel'] != 'Low') & (bcs_plan['MetalLevel'] != 'High')]\n",
    "drop_columns = ['StateCode','MetalLevel','TEHBInnTier1IndividualMOOP',\n",
    "                'TEHBInnTier2IndividualMOOP','TEHBOutOfNetIndividualMOOP','_merge','index_x','index_y']\n",
    "bcs_plan.drop(drop_columns,axis=1,inplace=True)\n",
    "bcs_plan.reset_index(inplace=True)\n",
    "bcs_plan.drop(['index'],inplace=True,axis=1)\n",
    "bcs_plan.info()"
   ]
  },
  {
   "cell_type": "code",
   "execution_count": 28,
   "metadata": {},
   "outputs": [],
   "source": [
    "#Sort both the plans with common columns\n",
    "rate_plan = rate_plan.sort_values(by=['BusinessYear','PlanId','IssuerId'], axis=0, ascending=True, kind='quicksort', na_position='last')\n",
    "bcs_plan = bcs_plan.sort_values(by=['BusinessYear','PlanId','IssuerId'], axis=0, ascending=True, kind='quicksort', na_position='last')"
   ]
  },
  {
   "cell_type": "code",
   "execution_count": 30,
   "metadata": {},
   "outputs": [
    {
     "name": "stdout",
     "output_type": "stream",
     "text": [
      "<class 'pandas.core.frame.DataFrame'>\n",
      "RangeIndex: 1996 entries, 0 to 1995\n",
      "Data columns (total 7 columns):\n",
      "BusinessYear       1996 non-null int64\n",
      "PlanId             1996 non-null object\n",
      "IssuerId           1996 non-null int64\n",
      "BenefitName        1996 non-null int64\n",
      "IsEHB              1996 non-null object\n",
      "IsCovered          1996 non-null object\n",
      "QuantLimitOnSvc    1996 non-null object\n",
      "dtypes: int64(3), object(4)\n",
      "memory usage: 109.2+ KB\n"
     ]
    }
   ],
   "source": [
    "#Benefits and rate can be combined together. These files are huge and combining them will take too much of resources \n",
    "#and merge will go out of memory. So to tackle it I have summarized the Benefits details so that 1 to many relationship\n",
    "#can be used in combining them.\n",
    "group= bcs_plan.groupby(['BusinessYear', 'PlanId','IssuerId'])\n",
    "benefit1 = group['BenefitName'].count()\n",
    "benefit2 = group['IsEHB'].apply(lambda x: x.value_counts().index[0])\n",
    "benefit3 = group['IsCovered'].apply(lambda x: x.value_counts().index[0])\n",
    "benefit4 = group['QuantLimitOnSvc'].apply(lambda x: x.value_counts().index[0])\n",
    "benefitssum = pd.concat([benefit1,benefit2,benefit3,benefit4],axis=1)\n",
    "benefitssum.reset_index(inplace=True)\n",
    "del(benefit1,benefit2,benefit3,benefit4)\n",
    "benefitssum.info()\n",
    "#['BenefitName'].count().to_frame().reset_index()"
   ]
  },
  {
   "cell_type": "code",
   "execution_count": 31,
   "metadata": {},
   "outputs": [],
   "source": [
    "rate_plan_bcs = pd.merge(rate_plan,benefitssum, on=['BusinessYear','PlanId','IssuerId'], how = 'left',indicator=True)"
   ]
  },
  {
   "cell_type": "code",
   "execution_count": 32,
   "metadata": {},
   "outputs": [
    {
     "name": "stdout",
     "output_type": "stream",
     "text": [
      "<class 'pandas.core.frame.DataFrame'>\n",
      "Int64Index: 5155187 entries, 0 to 5155186\n",
      "Data columns (total 26 columns):\n",
      "BusinessYear                                 int64\n",
      "StateCode                                    object\n",
      "IssuerId                                     int64\n",
      "PlanId                                       object\n",
      "RatingAreaId                                 category\n",
      "Tobacco                                      category\n",
      "Age                                          category\n",
      "IndividualRate                               float64\n",
      "IndividualTobaccoRate                        float64\n",
      "Couple                                       float64\n",
      "PrimarySubscriberAndOneDependent             float64\n",
      "PrimarySubscriberAndTwoDependents            float64\n",
      "PrimarySubscriberAndThreeOrMoreDependents    float64\n",
      "CoupleAndOneDependent                        float64\n",
      "CoupleAndTwoDependents                       float64\n",
      "CoupleAndThreeOrMoreDependents               float64\n",
      "MetalLevel                                   category\n",
      "TEHBInnTier1IndividualMOOP                   float64\n",
      "TEHBInnTier2IndividualMOOP                   float64\n",
      "TEHBOutOfNetIndividualMOOP                   float64\n",
      "Duration                                     object\n",
      "BenefitName                                  int64\n",
      "IsEHB                                        object\n",
      "IsCovered                                    object\n",
      "QuantLimitOnSvc                              object\n",
      "_merge                                       category\n",
      "dtypes: category(5), float64(12), int64(3), object(6)\n",
      "memory usage: 889.9+ MB\n"
     ]
    }
   ],
   "source": [
    "rate_plan_bcs.info()"
   ]
  },
  {
   "cell_type": "code",
   "execution_count": 33,
   "metadata": {},
   "outputs": [
    {
     "data": {
      "text/html": [
       "<div>\n",
       "<style scoped>\n",
       "    .dataframe tbody tr th:only-of-type {\n",
       "        vertical-align: middle;\n",
       "    }\n",
       "\n",
       "    .dataframe tbody tr th {\n",
       "        vertical-align: top;\n",
       "    }\n",
       "\n",
       "    .dataframe thead th {\n",
       "        text-align: right;\n",
       "    }\n",
       "</style>\n",
       "<table border=\"1\" class=\"dataframe\">\n",
       "  <thead>\n",
       "    <tr style=\"text-align: right;\">\n",
       "      <th></th>\n",
       "      <th>Age</th>\n",
       "      <th>BusinessYear</th>\n",
       "      <th>IndividualRate</th>\n",
       "      <th>IndividualTobaccoRate</th>\n",
       "      <th>RatingAreaId</th>\n",
       "      <th>Tobacco</th>\n",
       "      <th>Duration</th>\n",
       "      <th>MetalLevel</th>\n",
       "      <th>TEHBInnTier1IndividualMOOP</th>\n",
       "      <th>TEHBOutOfNetIndividualMOOP</th>\n",
       "      <th>IsEHB</th>\n",
       "      <th>BenefitName</th>\n",
       "    </tr>\n",
       "  </thead>\n",
       "  <tbody>\n",
       "    <tr>\n",
       "      <th>0</th>\n",
       "      <td>20</td>\n",
       "      <td>2014</td>\n",
       "      <td>172.27</td>\n",
       "      <td>0.0</td>\n",
       "      <td>1</td>\n",
       "      <td>No Preference</td>\n",
       "      <td>89</td>\n",
       "      <td>Silver</td>\n",
       "      <td>6000.0</td>\n",
       "      <td>12000.0</td>\n",
       "      <td>Yes</td>\n",
       "      <td>75</td>\n",
       "    </tr>\n",
       "    <tr>\n",
       "      <th>1</th>\n",
       "      <td>20</td>\n",
       "      <td>2014</td>\n",
       "      <td>176.63</td>\n",
       "      <td>0.0</td>\n",
       "      <td>1</td>\n",
       "      <td>No Preference</td>\n",
       "      <td>90</td>\n",
       "      <td>Silver</td>\n",
       "      <td>6000.0</td>\n",
       "      <td>12000.0</td>\n",
       "      <td>Yes</td>\n",
       "      <td>75</td>\n",
       "    </tr>\n",
       "    <tr>\n",
       "      <th>2</th>\n",
       "      <td>20</td>\n",
       "      <td>2014</td>\n",
       "      <td>181.09</td>\n",
       "      <td>0.0</td>\n",
       "      <td>1</td>\n",
       "      <td>No Preference</td>\n",
       "      <td>91</td>\n",
       "      <td>Silver</td>\n",
       "      <td>6000.0</td>\n",
       "      <td>12000.0</td>\n",
       "      <td>Yes</td>\n",
       "      <td>75</td>\n",
       "    </tr>\n",
       "    <tr>\n",
       "      <th>3</th>\n",
       "      <td>20</td>\n",
       "      <td>2014</td>\n",
       "      <td>185.67</td>\n",
       "      <td>0.0</td>\n",
       "      <td>1</td>\n",
       "      <td>No Preference</td>\n",
       "      <td>91</td>\n",
       "      <td>Silver</td>\n",
       "      <td>6000.0</td>\n",
       "      <td>12000.0</td>\n",
       "      <td>Yes</td>\n",
       "      <td>75</td>\n",
       "    </tr>\n",
       "    <tr>\n",
       "      <th>4</th>\n",
       "      <td>21</td>\n",
       "      <td>2014</td>\n",
       "      <td>292.39</td>\n",
       "      <td>0.0</td>\n",
       "      <td>1</td>\n",
       "      <td>No Preference</td>\n",
       "      <td>91</td>\n",
       "      <td>Silver</td>\n",
       "      <td>6000.0</td>\n",
       "      <td>12000.0</td>\n",
       "      <td>Yes</td>\n",
       "      <td>75</td>\n",
       "    </tr>\n",
       "  </tbody>\n",
       "</table>\n",
       "</div>"
      ],
      "text/plain": [
       "  Age  BusinessYear  IndividualRate  IndividualTobaccoRate RatingAreaId  \\\n",
       "0  20          2014          172.27                    0.0            1   \n",
       "1  20          2014          176.63                    0.0            1   \n",
       "2  20          2014          181.09                    0.0            1   \n",
       "3  20          2014          185.67                    0.0            1   \n",
       "4  21          2014          292.39                    0.0            1   \n",
       "\n",
       "         Tobacco Duration MetalLevel  TEHBInnTier1IndividualMOOP  \\\n",
       "0  No Preference       89     Silver                      6000.0   \n",
       "1  No Preference       90     Silver                      6000.0   \n",
       "2  No Preference       91     Silver                      6000.0   \n",
       "3  No Preference       91     Silver                      6000.0   \n",
       "4  No Preference       91     Silver                      6000.0   \n",
       "\n",
       "   TEHBOutOfNetIndividualMOOP IsEHB  BenefitName  \n",
       "0                     12000.0   Yes           75  \n",
       "1                     12000.0   Yes           75  \n",
       "2                     12000.0   Yes           75  \n",
       "3                     12000.0   Yes           75  \n",
       "4                     12000.0   Yes           75  "
      ]
     },
     "execution_count": 33,
     "metadata": {},
     "output_type": "execute_result"
    }
   ],
   "source": [
    "# Create dataframe with the columns which will be required for this Regression Analysis: ml_rates\n",
    "rates_ml = rate_plan_bcs[['Age','BusinessYear','IndividualRate','IndividualTobaccoRate',\n",
    "                 'RatingAreaId','Tobacco','Duration','MetalLevel','TEHBInnTier1IndividualMOOP','TEHBOutOfNetIndividualMOOP'\n",
    "                    ,'IsEHB','BenefitName']]\n",
    "rates_ml.head() # just to make sure we have all the required columns"
   ]
  },
  {
   "cell_type": "markdown",
   "metadata": {},
   "source": [
    "**We have all the cleaned data for prediction**\n",
    "\n",
    "**We will be predicting Individual rate and IndividualTobacco rate and CoupleRate seaprately**\n"
   ]
  },
  {
   "cell_type": "code",
   "execution_count": 34,
   "metadata": {},
   "outputs": [
    {
     "data": {
      "text/html": [
       "<div>\n",
       "<style scoped>\n",
       "    .dataframe tbody tr th:only-of-type {\n",
       "        vertical-align: middle;\n",
       "    }\n",
       "\n",
       "    .dataframe tbody tr th {\n",
       "        vertical-align: top;\n",
       "    }\n",
       "\n",
       "    .dataframe thead th {\n",
       "        text-align: right;\n",
       "    }\n",
       "</style>\n",
       "<table border=\"1\" class=\"dataframe\">\n",
       "  <thead>\n",
       "    <tr style=\"text-align: right;\">\n",
       "      <th></th>\n",
       "      <th>IndividualRate</th>\n",
       "      <th>IndividualTobaccoRate</th>\n",
       "    </tr>\n",
       "  </thead>\n",
       "  <tbody>\n",
       "    <tr>\n",
       "      <th>count</th>\n",
       "      <td>5.155187e+06</td>\n",
       "      <td>5.155187e+06</td>\n",
       "    </tr>\n",
       "    <tr>\n",
       "      <th>mean</th>\n",
       "      <td>5.374643e+02</td>\n",
       "      <td>5.635067e+02</td>\n",
       "    </tr>\n",
       "    <tr>\n",
       "      <th>std</th>\n",
       "      <td>2.893101e+02</td>\n",
       "      <td>3.952735e+02</td>\n",
       "    </tr>\n",
       "    <tr>\n",
       "      <th>min</th>\n",
       "      <td>5.199000e+01</td>\n",
       "      <td>0.000000e+00</td>\n",
       "    </tr>\n",
       "    <tr>\n",
       "      <th>25%</th>\n",
       "      <td>3.326900e+02</td>\n",
       "      <td>3.297100e+02</td>\n",
       "    </tr>\n",
       "    <tr>\n",
       "      <th>50%</th>\n",
       "      <td>4.536100e+02</td>\n",
       "      <td>4.805700e+02</td>\n",
       "    </tr>\n",
       "    <tr>\n",
       "      <th>75%</th>\n",
       "      <td>6.716500e+02</td>\n",
       "      <td>7.539400e+02</td>\n",
       "    </tr>\n",
       "    <tr>\n",
       "      <th>max</th>\n",
       "      <td>3.072060e+03</td>\n",
       "      <td>3.686490e+03</td>\n",
       "    </tr>\n",
       "  </tbody>\n",
       "</table>\n",
       "</div>"
      ],
      "text/plain": [
       "       IndividualRate  IndividualTobaccoRate\n",
       "count    5.155187e+06           5.155187e+06\n",
       "mean     5.374643e+02           5.635067e+02\n",
       "std      2.893101e+02           3.952735e+02\n",
       "min      5.199000e+01           0.000000e+00\n",
       "25%      3.326900e+02           3.297100e+02\n",
       "50%      4.536100e+02           4.805700e+02\n",
       "75%      6.716500e+02           7.539400e+02\n",
       "max      3.072060e+03           3.686490e+03"
      ]
     },
     "execution_count": 34,
     "metadata": {},
     "output_type": "execute_result"
    }
   ],
   "source": [
    "rates_ml[['IndividualRate','IndividualTobaccoRate']].describe()"
   ]
  },
  {
   "cell_type": "code",
   "execution_count": 35,
   "metadata": {},
   "outputs": [
    {
     "data": {
      "text/html": [
       "<div>\n",
       "<style scoped>\n",
       "    .dataframe tbody tr th:only-of-type {\n",
       "        vertical-align: middle;\n",
       "    }\n",
       "\n",
       "    .dataframe tbody tr th {\n",
       "        vertical-align: top;\n",
       "    }\n",
       "\n",
       "    .dataframe thead th {\n",
       "        text-align: right;\n",
       "    }\n",
       "</style>\n",
       "<table border=\"1\" class=\"dataframe\">\n",
       "  <thead>\n",
       "    <tr style=\"text-align: right;\">\n",
       "      <th></th>\n",
       "      <th>IndividualRate</th>\n",
       "      <th>IndividualTobaccoRate</th>\n",
       "    </tr>\n",
       "    <tr>\n",
       "      <th>BusinessYear</th>\n",
       "      <th></th>\n",
       "      <th></th>\n",
       "    </tr>\n",
       "  </thead>\n",
       "  <tbody>\n",
       "    <tr>\n",
       "      <th>2014</th>\n",
       "      <td>424.254497</td>\n",
       "      <td>465.777226</td>\n",
       "    </tr>\n",
       "    <tr>\n",
       "      <th>2015</th>\n",
       "      <td>480.328384</td>\n",
       "      <td>446.307460</td>\n",
       "    </tr>\n",
       "    <tr>\n",
       "      <th>2016</th>\n",
       "      <td>489.392785</td>\n",
       "      <td>509.288960</td>\n",
       "    </tr>\n",
       "    <tr>\n",
       "      <th>2017</th>\n",
       "      <td>559.321436</td>\n",
       "      <td>554.570253</td>\n",
       "    </tr>\n",
       "    <tr>\n",
       "      <th>2018</th>\n",
       "      <td>676.881823</td>\n",
       "      <td>735.876146</td>\n",
       "    </tr>\n",
       "    <tr>\n",
       "      <th>2019</th>\n",
       "      <td>716.075636</td>\n",
       "      <td>826.059768</td>\n",
       "    </tr>\n",
       "  </tbody>\n",
       "</table>\n",
       "</div>"
      ],
      "text/plain": [
       "              IndividualRate  IndividualTobaccoRate\n",
       "BusinessYear                                       \n",
       "2014              424.254497             465.777226\n",
       "2015              480.328384             446.307460\n",
       "2016              489.392785             509.288960\n",
       "2017              559.321436             554.570253\n",
       "2018              676.881823             735.876146\n",
       "2019              716.075636             826.059768"
      ]
     },
     "execution_count": 35,
     "metadata": {},
     "output_type": "execute_result"
    }
   ],
   "source": [
    "#Lets check how these rates changes over the year \n",
    "meanrateperyear = rates_ml[['BusinessYear','IndividualRate','IndividualTobaccoRate']].groupby('BusinessYear').mean()\n",
    "meanrateperyear"
   ]
  },
  {
   "cell_type": "code",
   "execution_count": 36,
   "metadata": {},
   "outputs": [
    {
     "data": {
      "image/png": "[encoded data removed]",
      "text/plain": [
       "<Figure size 1080x432 with 1 Axes>"
      ]
     },
     "metadata": {},
     "output_type": "display_data"
    }
   ],
   "source": [
    "# Plot the above dataframe\n",
    "meanrateperyear.plot(figsize=(15, 6), fontsize=\"large\")\n",
    "plt.title('Average Individual and Individual Tobacco Rate', fontsize=\"large\")\n",
    "plt.xlabel(\"Years\", fontsize=\"large\")\n",
    "plt.ylabel(\"Yearly Rates($)\", fontsize=\"large\")\n",
    "plt.legend(fontsize=\"large\")\n",
    "plt.show()"
   ]
  },
  {
   "cell_type": "markdown",
   "metadata": {},
   "source": [
    "We can see above that the individual rates has been increasing since its inception but. The increase in rate is also getting bigger every year. But the same is not true for the Individual Tobacco Rate. The second year of exchange saw a fall in individual tobacco rate but again started increasing every year and last year the incease in rate is very large."
   ]
  },
  {
   "cell_type": "markdown",
   "metadata": {},
   "source": [
    "**Lets start with individual monthly rate prediction.**\n",
    "\n",
    "As the rate will be decided on whether a person smokes or not. If somebody smokes then individual has to fetch more money. So lets add the premiums as individual has to pay more if he smokes.  \n",
    "We will create two dataframes one for the target variables (IndividualRatetotal and other for dependent variables only. In this case depended variables are Age','BusinessYear','IndividualRate','IndividualTobaccoRate',               'RatingAreaId','StateCode','Tobacco','Duration','StateCode','MetalLevel','TEHBInnTier1IndividualMOOP','TEHBOutOfNetIndividualMOOP']]."
   ]
  },
  {
   "cell_type": "code",
   "execution_count": 37,
   "metadata": {
    "scrolled": true
   },
   "outputs": [
    {
     "data": {
      "text/plain": [
       "Age                           False\n",
       "BusinessYear                  False\n",
       "IndividualRate                False\n",
       "IndividualTobaccoRate         False\n",
       "RatingAreaId                  False\n",
       "Tobacco                       False\n",
       "Duration                      False\n",
       "MetalLevel                    False\n",
       "TEHBInnTier1IndividualMOOP    False\n",
       "TEHBOutOfNetIndividualMOOP    False\n",
       "IsEHB                         False\n",
       "BenefitName                   False\n",
       "dtype: bool"
      ]
     },
     "execution_count": 37,
     "metadata": {},
     "output_type": "execute_result"
    }
   ],
   "source": [
    "# first check for the nan values if any in the dataframe.\n",
    "rates_ml.isnull().any(axis=0)"
   ]
  },
  {
   "cell_type": "code",
   "execution_count": 38,
   "metadata": {},
   "outputs": [
    {
     "name": "stderr",
     "output_type": "stream",
     "text": [
      "C:\\Users\\Ashish\\AppData\\Local\\Continuum\\anaconda3\\lib\\site-packages\\ipykernel_launcher.py:1: SettingWithCopyWarning: \n",
      "A value is trying to be set on a copy of a slice from a DataFrame.\n",
      "Try using .loc[row_indexer,col_indexer] = value instead\n",
      "\n",
      "See the caveats in the documentation: http://pandas.pydata.org/pandas-docs/stable/indexing.html#indexing-view-versus-copy\n",
      "  \"\"\"Entry point for launching an IPython kernel.\n",
      "C:\\Users\\Ashish\\AppData\\Local\\Continuum\\anaconda3\\lib\\site-packages\\ipykernel_launcher.py:2: SettingWithCopyWarning: \n",
      "A value is trying to be set on a copy of a slice from a DataFrame.\n",
      "Try using .loc[row_indexer,col_indexer] = value instead\n",
      "\n",
      "See the caveats in the documentation: http://pandas.pydata.org/pandas-docs/stable/indexing.html#indexing-view-versus-copy\n",
      "  \n",
      "C:\\Users\\Ashish\\AppData\\Local\\Continuum\\anaconda3\\lib\\site-packages\\pandas\\core\\frame.py:3940: SettingWithCopyWarning: \n",
      "A value is trying to be set on a copy of a slice from a DataFrame\n",
      "\n",
      "See the caveats in the documentation: http://pandas.pydata.org/pandas-docs/stable/indexing.html#indexing-view-versus-copy\n",
      "  errors=errors)\n"
     ]
    }
   ],
   "source": [
    "rates_ml['IndividualRateTotal'] = rates_ml['IndividualRate'] + rates_ml['IndividualTobaccoRate']\n",
    "rates_ml['IndividualRateTotallog'] = np.log(rates_ml['IndividualRateTotal'])\n",
    "rates_ml.drop(['IndividualRate','IndividualTobaccoRate',],axis=1,inplace=True)"
   ]
  },
  {
   "cell_type": "code",
   "execution_count": null,
   "metadata": {},
   "outputs": [],
   "source": [
    "# Plot the scores over the parameter\n",
    "plt.subplots(1, 2, figsize=(15, 6))\n",
    "plt.subplot(121)\n",
    "plt.(rates_ml['IndividualRateTotal'], 'bo-', label = 'train')\n",
    "plt.legend()\n",
    "plt.xlabel(name)\n",
    "plt.ylabel('R2')\n",
    "plt.title('Score vs %s' % name)\n",
    "    \n",
    "    plt.subplot(122)\n",
    "    plt.plot(param_values, train_time, 'ro-')\n",
    "    plt.xlabel(name)\n",
    "    plt.ylabel('Train Time (sec)')\n",
    "    plt.title('Training Time vs %s' % name)   \n",
    "    plt.tight_layout(pad = 4)"
   ]
  },
  {
   "cell_type": "code",
   "execution_count": 43,
   "metadata": {},
   "outputs": [
    {
     "data": {
      "image/png": "[encoded data removed]",
      "text/plain": [
       "<Figure size 1080x432 with 2 Axes>"
      ]
     },
     "metadata": {},
     "output_type": "display_data"
    }
   ],
   "source": [
    "#Plotting the histogram for premiums\n",
    "#rcParams['figure.figsize'] = 10, 6\n",
    "rcParams['font.size'] = 20\n",
    "rcParams['axes.facecolor'] = 'white'\n",
    "plt.style.use('fivethirtyeight')\n",
    "\n",
    "plt.subplots(1, 2, figsize=(15, 6))\n",
    "plt.subplot(121)\n",
    "plt.hist(rates_ml['IndividualRateTotal'])\n",
    "plt.xlabel('Premium Actual Value')\n",
    "plt.ylabel('Count')\n",
    "plt.title('Premium Distribution')\n",
    "\n",
    "plt.subplot(122)\n",
    "plt.hist(rates_ml['IndividualRateTotallog'])\n",
    "plt.xlabel('name')\n",
    "plt.xlabel('Premium Log Value')\n",
    "plt.ylabel('Count')\n",
    "plt.title('Premium Log Distribution')\n",
    "plt.tight_layout(pad = 4)\n",
    "plt.show()\n",
    "\n",
    "plt.show()\n",
    "# It can be seen that individual rate is rigth skewed. So to make it normal we have to take a log of it."
   ]
  },
  {
   "cell_type": "markdown",
   "metadata": {},
   "source": [
    "**As most of the data is catgorical in the dataset so we need to do one hotEncoding of the data to make it use in the Regression analysis**"
   ]
  },
  {
   "cell_type": "markdown",
   "metadata": {},
   "source": [
    "# Regression Analysis"
   ]
  },
  {
   "cell_type": "markdown",
   "metadata": {},
   "source": [
    "Data for the years 2014 to 2018 will be taken as Train data and the data for 2019 will be taken as Test data.\n",
    "Let's divide the predictors into the same and also the premiums. "
   ]
  },
  {
   "cell_type": "code",
   "execution_count": 44,
   "metadata": {},
   "outputs": [
    {
     "name": "stdout",
     "output_type": "stream",
     "text": [
      "<class 'pandas.core.frame.DataFrame'>\n",
      "Int64Index: 5155187 entries, 0 to 5155186\n",
      "Data columns (total 12 columns):\n",
      "Age                           category\n",
      "BusinessYear                  int64\n",
      "RatingAreaId                  category\n",
      "Tobacco                       category\n",
      "Duration                      object\n",
      "MetalLevel                    category\n",
      "TEHBInnTier1IndividualMOOP    float64\n",
      "TEHBOutOfNetIndividualMOOP    float64\n",
      "IsEHB                         object\n",
      "BenefitName                   int64\n",
      "IndividualRateTotal           float64\n",
      "IndividualRateTotallog        float64\n",
      "dtypes: category(4), float64(4), int64(2), object(2)\n",
      "memory usage: 373.6+ MB\n"
     ]
    }
   ],
   "source": [
    "rates_ml.info()"
   ]
  },
  {
   "cell_type": "code",
   "execution_count": 56,
   "metadata": {
    "scrolled": true
   },
   "outputs": [
    {
     "name": "stderr",
     "output_type": "stream",
     "text": [
      "C:\\Users\\Ashish\\AppData\\Local\\Continuum\\anaconda3\\lib\\site-packages\\ipykernel_launcher.py:1: SettingWithCopyWarning: \n",
      "A value is trying to be set on a copy of a slice from a DataFrame.\n",
      "Try using .loc[row_indexer,col_indexer] = value instead\n",
      "\n",
      "See the caveats in the documentation: http://pandas.pydata.org/pandas-docs/stable/indexing.html#indexing-view-versus-copy\n",
      "  \"\"\"Entry point for launching an IPython kernel.\n",
      "C:\\Users\\Ashish\\AppData\\Local\\Continuum\\anaconda3\\lib\\site-packages\\ipykernel_launcher.py:2: SettingWithCopyWarning: \n",
      "A value is trying to be set on a copy of a slice from a DataFrame.\n",
      "Try using .loc[row_indexer,col_indexer] = value instead\n",
      "\n",
      "See the caveats in the documentation: http://pandas.pydata.org/pandas-docs/stable/indexing.html#indexing-view-versus-copy\n",
      "  \n",
      "C:\\Users\\Ashish\\AppData\\Local\\Continuum\\anaconda3\\lib\\site-packages\\ipykernel_launcher.py:3: SettingWithCopyWarning: \n",
      "A value is trying to be set on a copy of a slice from a DataFrame.\n",
      "Try using .loc[row_indexer,col_indexer] = value instead\n",
      "\n",
      "See the caveats in the documentation: http://pandas.pydata.org/pandas-docs/stable/indexing.html#indexing-view-versus-copy\n",
      "  This is separate from the ipykernel package so we can avoid doing imports until\n",
      "C:\\Users\\Ashish\\AppData\\Local\\Continuum\\anaconda3\\lib\\site-packages\\ipykernel_launcher.py:4: SettingWithCopyWarning: \n",
      "A value is trying to be set on a copy of a slice from a DataFrame.\n",
      "Try using .loc[row_indexer,col_indexer] = value instead\n",
      "\n",
      "See the caveats in the documentation: http://pandas.pydata.org/pandas-docs/stable/indexing.html#indexing-view-versus-copy\n",
      "  after removing the cwd from sys.path.\n",
      "C:\\Users\\Ashish\\AppData\\Local\\Continuum\\anaconda3\\lib\\site-packages\\ipykernel_launcher.py:5: SettingWithCopyWarning: \n",
      "A value is trying to be set on a copy of a slice from a DataFrame.\n",
      "Try using .loc[row_indexer,col_indexer] = value instead\n",
      "\n",
      "See the caveats in the documentation: http://pandas.pydata.org/pandas-docs/stable/indexing.html#indexing-view-versus-copy\n",
      "  \"\"\"\n",
      "C:\\Users\\Ashish\\AppData\\Local\\Continuum\\anaconda3\\lib\\site-packages\\ipykernel_launcher.py:6: SettingWithCopyWarning: \n",
      "A value is trying to be set on a copy of a slice from a DataFrame.\n",
      "Try using .loc[row_indexer,col_indexer] = value instead\n",
      "\n",
      "See the caveats in the documentation: http://pandas.pydata.org/pandas-docs/stable/indexing.html#indexing-view-versus-copy\n",
      "  \n",
      "C:\\Users\\Ashish\\AppData\\Local\\Continuum\\anaconda3\\lib\\site-packages\\ipykernel_launcher.py:7: SettingWithCopyWarning: \n",
      "A value is trying to be set on a copy of a slice from a DataFrame.\n",
      "Try using .loc[row_indexer,col_indexer] = value instead\n",
      "\n",
      "See the caveats in the documentation: http://pandas.pydata.org/pandas-docs/stable/indexing.html#indexing-view-versus-copy\n",
      "  import sys\n",
      "C:\\Users\\Ashish\\AppData\\Local\\Continuum\\anaconda3\\lib\\site-packages\\ipykernel_launcher.py:8: SettingWithCopyWarning: \n",
      "A value is trying to be set on a copy of a slice from a DataFrame.\n",
      "Try using .loc[row_indexer,col_indexer] = value instead\n",
      "\n",
      "See the caveats in the documentation: http://pandas.pydata.org/pandas-docs/stable/indexing.html#indexing-view-versus-copy\n",
      "  \n"
     ]
    }
   ],
   "source": [
    "rates_ml['BusinessYear'] = rates_ml['BusinessYear'].astype('int32')\n",
    "rates_ml['Tobacco'] = rates_ml['Tobacco'].astype('category')\n",
    "rates_ml['Duration'] = rates_ml['Duration'].astype('int32')\n",
    "rates_ml['MetalLevel'] = rates_ml['MetalLevel'].astype('category')\n",
    "rates_ml['RatingAreaId'] = rates_ml['RatingAreaId'].astype('int32')\n",
    "rates_ml['IsEHB'] = rates_ml['IsEHB'].astype('category')\n",
    "rates_ml['BenefitName'] = rates_ml['BenefitName'].astype('int32')\n",
    "rates_ml['Age'] = rates_ml['Age'].astype('int32')"
   ]
  },
  {
   "cell_type": "code",
   "execution_count": 48,
   "metadata": {
    "collapsed": true
   },
   "outputs": [
    {
     "name": "stdout",
     "output_type": "stream",
     "text": [
      "<class 'pandas.core.frame.DataFrame'>\n",
      "Int64Index: 5155187 entries, 0 to 5155186\n",
      "Data columns (total 12 columns):\n",
      "Age                           category\n",
      "BusinessYear                  int32\n",
      "RatingAreaId                  category\n",
      "Tobacco                       category\n",
      "Duration                      int32\n",
      "MetalLevel                    category\n",
      "TEHBInnTier1IndividualMOOP    float64\n",
      "TEHBOutOfNetIndividualMOOP    float64\n",
      "IsEHB                         category\n",
      "BenefitName                   int32\n",
      "IndividualRateTotal           float64\n",
      "IndividualRateTotallog        float64\n",
      "dtypes: category(5), float64(4), int32(3)\n",
      "memory usage: 280.2 MB\n"
     ]
    }
   ],
   "source": [
    "rates_ml.info()"
   ]
  },
  {
   "cell_type": "code",
   "execution_count": 57,
   "metadata": {},
   "outputs": [],
   "source": [
    "rates_ml_train_pred = rates_ml[rates_ml['BusinessYear'] < 2019].iloc[:,:-2]\n",
    "rates_ml_test_pred  = rates_ml[rates_ml['BusinessYear'] == 2019].iloc[:,:-2]\n",
    "rates_ml_train_target = rates_ml[rates_ml['BusinessYear'] < 2019].iloc[:,-1:]\n",
    "rates_ml_test_target  = rates_ml[rates_ml['BusinessYear'] == 2019].iloc[:,-1:]"
   ]
  },
  {
   "cell_type": "code",
   "execution_count": 58,
   "metadata": {},
   "outputs": [],
   "source": [
    "rates_ml_train_pred_dummies = pd.get_dummies(rates_ml_train_pred)\n",
    "rates_ml_test_pred_dummies = pd.get_dummies(rates_ml_test_pred)"
   ]
  },
  {
   "cell_type": "code",
   "execution_count": 59,
   "metadata": {},
   "outputs": [
    {
     "data": {
      "text/html": [
       "<div>\n",
       "<style scoped>\n",
       "    .dataframe tbody tr th:only-of-type {\n",
       "        vertical-align: middle;\n",
       "    }\n",
       "\n",
       "    .dataframe tbody tr th {\n",
       "        vertical-align: top;\n",
       "    }\n",
       "\n",
       "    .dataframe thead th {\n",
       "        text-align: right;\n",
       "    }\n",
       "</style>\n",
       "<table border=\"1\" class=\"dataframe\">\n",
       "  <thead>\n",
       "    <tr style=\"text-align: right;\">\n",
       "      <th></th>\n",
       "      <th>Age</th>\n",
       "      <th>BusinessYear</th>\n",
       "      <th>RatingAreaId</th>\n",
       "      <th>Duration</th>\n",
       "      <th>TEHBInnTier1IndividualMOOP</th>\n",
       "      <th>TEHBOutOfNetIndividualMOOP</th>\n",
       "      <th>BenefitName</th>\n",
       "      <th>Tobacco_No Preference</th>\n",
       "      <th>Tobacco_Tobacco User/Non-Tobacco User</th>\n",
       "      <th>MetalLevel_Bronze</th>\n",
       "      <th>MetalLevel_Catastrophic</th>\n",
       "      <th>MetalLevel_Expanded Bronze</th>\n",
       "      <th>MetalLevel_Gold</th>\n",
       "      <th>MetalLevel_Platinum</th>\n",
       "      <th>MetalLevel_Silver</th>\n",
       "      <th>IsEHB_No</th>\n",
       "      <th>IsEHB_Yes</th>\n",
       "    </tr>\n",
       "  </thead>\n",
       "  <tbody>\n",
       "    <tr>\n",
       "      <th>0</th>\n",
       "      <td>20</td>\n",
       "      <td>2014</td>\n",
       "      <td>1</td>\n",
       "      <td>89</td>\n",
       "      <td>6000.0</td>\n",
       "      <td>12000.0</td>\n",
       "      <td>75</td>\n",
       "      <td>1</td>\n",
       "      <td>0</td>\n",
       "      <td>0</td>\n",
       "      <td>0</td>\n",
       "      <td>0</td>\n",
       "      <td>0</td>\n",
       "      <td>0</td>\n",
       "      <td>1</td>\n",
       "      <td>0</td>\n",
       "      <td>1</td>\n",
       "    </tr>\n",
       "    <tr>\n",
       "      <th>1</th>\n",
       "      <td>20</td>\n",
       "      <td>2014</td>\n",
       "      <td>1</td>\n",
       "      <td>90</td>\n",
       "      <td>6000.0</td>\n",
       "      <td>12000.0</td>\n",
       "      <td>75</td>\n",
       "      <td>1</td>\n",
       "      <td>0</td>\n",
       "      <td>0</td>\n",
       "      <td>0</td>\n",
       "      <td>0</td>\n",
       "      <td>0</td>\n",
       "      <td>0</td>\n",
       "      <td>1</td>\n",
       "      <td>0</td>\n",
       "      <td>1</td>\n",
       "    </tr>\n",
       "    <tr>\n",
       "      <th>2</th>\n",
       "      <td>20</td>\n",
       "      <td>2014</td>\n",
       "      <td>1</td>\n",
       "      <td>91</td>\n",
       "      <td>6000.0</td>\n",
       "      <td>12000.0</td>\n",
       "      <td>75</td>\n",
       "      <td>1</td>\n",
       "      <td>0</td>\n",
       "      <td>0</td>\n",
       "      <td>0</td>\n",
       "      <td>0</td>\n",
       "      <td>0</td>\n",
       "      <td>0</td>\n",
       "      <td>1</td>\n",
       "      <td>0</td>\n",
       "      <td>1</td>\n",
       "    </tr>\n",
       "    <tr>\n",
       "      <th>3</th>\n",
       "      <td>20</td>\n",
       "      <td>2014</td>\n",
       "      <td>1</td>\n",
       "      <td>91</td>\n",
       "      <td>6000.0</td>\n",
       "      <td>12000.0</td>\n",
       "      <td>75</td>\n",
       "      <td>1</td>\n",
       "      <td>0</td>\n",
       "      <td>0</td>\n",
       "      <td>0</td>\n",
       "      <td>0</td>\n",
       "      <td>0</td>\n",
       "      <td>0</td>\n",
       "      <td>1</td>\n",
       "      <td>0</td>\n",
       "      <td>1</td>\n",
       "    </tr>\n",
       "    <tr>\n",
       "      <th>4</th>\n",
       "      <td>21</td>\n",
       "      <td>2014</td>\n",
       "      <td>1</td>\n",
       "      <td>91</td>\n",
       "      <td>6000.0</td>\n",
       "      <td>12000.0</td>\n",
       "      <td>75</td>\n",
       "      <td>1</td>\n",
       "      <td>0</td>\n",
       "      <td>0</td>\n",
       "      <td>0</td>\n",
       "      <td>0</td>\n",
       "      <td>0</td>\n",
       "      <td>0</td>\n",
       "      <td>1</td>\n",
       "      <td>0</td>\n",
       "      <td>1</td>\n",
       "    </tr>\n",
       "  </tbody>\n",
       "</table>\n",
       "</div>"
      ],
      "text/plain": [
       "   Age  BusinessYear  RatingAreaId  Duration  TEHBInnTier1IndividualMOOP  \\\n",
       "0   20          2014             1        89                      6000.0   \n",
       "1   20          2014             1        90                      6000.0   \n",
       "2   20          2014             1        91                      6000.0   \n",
       "3   20          2014             1        91                      6000.0   \n",
       "4   21          2014             1        91                      6000.0   \n",
       "\n",
       "   TEHBOutOfNetIndividualMOOP  BenefitName  Tobacco_No Preference  \\\n",
       "0                     12000.0           75                      1   \n",
       "1                     12000.0           75                      1   \n",
       "2                     12000.0           75                      1   \n",
       "3                     12000.0           75                      1   \n",
       "4                     12000.0           75                      1   \n",
       "\n",
       "   Tobacco_Tobacco User/Non-Tobacco User  MetalLevel_Bronze  \\\n",
       "0                                      0                  0   \n",
       "1                                      0                  0   \n",
       "2                                      0                  0   \n",
       "3                                      0                  0   \n",
       "4                                      0                  0   \n",
       "\n",
       "   MetalLevel_Catastrophic  MetalLevel_Expanded Bronze  MetalLevel_Gold  \\\n",
       "0                        0                           0                0   \n",
       "1                        0                           0                0   \n",
       "2                        0                           0                0   \n",
       "3                        0                           0                0   \n",
       "4                        0                           0                0   \n",
       "\n",
       "   MetalLevel_Platinum  MetalLevel_Silver  IsEHB_No  IsEHB_Yes  \n",
       "0                    0                  1         0          1  \n",
       "1                    0                  1         0          1  \n",
       "2                    0                  1         0          1  \n",
       "3                    0                  1         0          1  \n",
       "4                    0                  1         0          1  "
      ]
     },
     "execution_count": 59,
     "metadata": {},
     "output_type": "execute_result"
    }
   ],
   "source": [
    "rates_ml_train_pred_dummies.head()"
   ]
  },
  {
   "cell_type": "code",
   "execution_count": 60,
   "metadata": {},
   "outputs": [
    {
     "data": {
      "text/html": [
       "<div>\n",
       "<style scoped>\n",
       "    .dataframe tbody tr th:only-of-type {\n",
       "        vertical-align: middle;\n",
       "    }\n",
       "\n",
       "    .dataframe tbody tr th {\n",
       "        vertical-align: top;\n",
       "    }\n",
       "\n",
       "    .dataframe thead th {\n",
       "        text-align: right;\n",
       "    }\n",
       "</style>\n",
       "<table border=\"1\" class=\"dataframe\">\n",
       "  <thead>\n",
       "    <tr style=\"text-align: right;\">\n",
       "      <th></th>\n",
       "      <th>Age</th>\n",
       "      <th>BusinessYear</th>\n",
       "      <th>RatingAreaId</th>\n",
       "      <th>Duration</th>\n",
       "      <th>TEHBInnTier1IndividualMOOP</th>\n",
       "      <th>TEHBOutOfNetIndividualMOOP</th>\n",
       "      <th>BenefitName</th>\n",
       "      <th>Tobacco_No Preference</th>\n",
       "      <th>Tobacco_Tobacco User/Non-Tobacco User</th>\n",
       "      <th>MetalLevel_Bronze</th>\n",
       "      <th>MetalLevel_Catastrophic</th>\n",
       "      <th>MetalLevel_Expanded Bronze</th>\n",
       "      <th>MetalLevel_Gold</th>\n",
       "      <th>MetalLevel_Platinum</th>\n",
       "      <th>MetalLevel_Silver</th>\n",
       "      <th>IsEHB_No</th>\n",
       "      <th>IsEHB_Yes</th>\n",
       "    </tr>\n",
       "  </thead>\n",
       "  <tbody>\n",
       "    <tr>\n",
       "      <th>4531151</th>\n",
       "      <td>20</td>\n",
       "      <td>2019</td>\n",
       "      <td>1</td>\n",
       "      <td>364</td>\n",
       "      <td>7150.0</td>\n",
       "      <td>14300.0</td>\n",
       "      <td>3626</td>\n",
       "      <td>0</td>\n",
       "      <td>1</td>\n",
       "      <td>0</td>\n",
       "      <td>0</td>\n",
       "      <td>0</td>\n",
       "      <td>0</td>\n",
       "      <td>0</td>\n",
       "      <td>1</td>\n",
       "      <td>0</td>\n",
       "      <td>1</td>\n",
       "    </tr>\n",
       "    <tr>\n",
       "      <th>4531152</th>\n",
       "      <td>20</td>\n",
       "      <td>2019</td>\n",
       "      <td>1</td>\n",
       "      <td>364</td>\n",
       "      <td>7150.0</td>\n",
       "      <td>14300.0</td>\n",
       "      <td>3626</td>\n",
       "      <td>0</td>\n",
       "      <td>1</td>\n",
       "      <td>0</td>\n",
       "      <td>0</td>\n",
       "      <td>0</td>\n",
       "      <td>0</td>\n",
       "      <td>0</td>\n",
       "      <td>1</td>\n",
       "      <td>0</td>\n",
       "      <td>1</td>\n",
       "    </tr>\n",
       "    <tr>\n",
       "      <th>4531153</th>\n",
       "      <td>20</td>\n",
       "      <td>2019</td>\n",
       "      <td>1</td>\n",
       "      <td>364</td>\n",
       "      <td>0.0</td>\n",
       "      <td>0.0</td>\n",
       "      <td>3626</td>\n",
       "      <td>0</td>\n",
       "      <td>1</td>\n",
       "      <td>0</td>\n",
       "      <td>0</td>\n",
       "      <td>0</td>\n",
       "      <td>0</td>\n",
       "      <td>0</td>\n",
       "      <td>1</td>\n",
       "      <td>0</td>\n",
       "      <td>1</td>\n",
       "    </tr>\n",
       "    <tr>\n",
       "      <th>4531154</th>\n",
       "      <td>20</td>\n",
       "      <td>2019</td>\n",
       "      <td>1</td>\n",
       "      <td>364</td>\n",
       "      <td>7150.0</td>\n",
       "      <td>14300.0</td>\n",
       "      <td>3626</td>\n",
       "      <td>0</td>\n",
       "      <td>1</td>\n",
       "      <td>0</td>\n",
       "      <td>0</td>\n",
       "      <td>0</td>\n",
       "      <td>0</td>\n",
       "      <td>0</td>\n",
       "      <td>1</td>\n",
       "      <td>0</td>\n",
       "      <td>1</td>\n",
       "    </tr>\n",
       "    <tr>\n",
       "      <th>4531155</th>\n",
       "      <td>20</td>\n",
       "      <td>2019</td>\n",
       "      <td>1</td>\n",
       "      <td>364</td>\n",
       "      <td>6300.0</td>\n",
       "      <td>14300.0</td>\n",
       "      <td>3626</td>\n",
       "      <td>0</td>\n",
       "      <td>1</td>\n",
       "      <td>0</td>\n",
       "      <td>0</td>\n",
       "      <td>0</td>\n",
       "      <td>0</td>\n",
       "      <td>0</td>\n",
       "      <td>1</td>\n",
       "      <td>0</td>\n",
       "      <td>1</td>\n",
       "    </tr>\n",
       "  </tbody>\n",
       "</table>\n",
       "</div>"
      ],
      "text/plain": [
       "         Age  BusinessYear  RatingAreaId  Duration  \\\n",
       "4531151   20          2019             1       364   \n",
       "4531152   20          2019             1       364   \n",
       "4531153   20          2019             1       364   \n",
       "4531154   20          2019             1       364   \n",
       "4531155   20          2019             1       364   \n",
       "\n",
       "         TEHBInnTier1IndividualMOOP  TEHBOutOfNetIndividualMOOP  BenefitName  \\\n",
       "4531151                      7150.0                     14300.0         3626   \n",
       "4531152                      7150.0                     14300.0         3626   \n",
       "4531153                         0.0                         0.0         3626   \n",
       "4531154                      7150.0                     14300.0         3626   \n",
       "4531155                      6300.0                     14300.0         3626   \n",
       "\n",
       "         Tobacco_No Preference  Tobacco_Tobacco User/Non-Tobacco User  \\\n",
       "4531151                      0                                      1   \n",
       "4531152                      0                                      1   \n",
       "4531153                      0                                      1   \n",
       "4531154                      0                                      1   \n",
       "4531155                      0                                      1   \n",
       "\n",
       "         MetalLevel_Bronze  MetalLevel_Catastrophic  \\\n",
       "4531151                  0                        0   \n",
       "4531152                  0                        0   \n",
       "4531153                  0                        0   \n",
       "4531154                  0                        0   \n",
       "4531155                  0                        0   \n",
       "\n",
       "         MetalLevel_Expanded Bronze  MetalLevel_Gold  MetalLevel_Platinum  \\\n",
       "4531151                           0                0                    0   \n",
       "4531152                           0                0                    0   \n",
       "4531153                           0                0                    0   \n",
       "4531154                           0                0                    0   \n",
       "4531155                           0                0                    0   \n",
       "\n",
       "         MetalLevel_Silver  IsEHB_No  IsEHB_Yes  \n",
       "4531151                  1         0          1  \n",
       "4531152                  1         0          1  \n",
       "4531153                  1         0          1  \n",
       "4531154                  1         0          1  \n",
       "4531155                  1         0          1  "
      ]
     },
     "execution_count": 60,
     "metadata": {},
     "output_type": "execute_result"
    }
   ],
   "source": [
    "rates_ml_test_pred_dummies.head()"
   ]
  },
  {
   "cell_type": "markdown",
   "metadata": {},
   "source": [
    "# OLS\n",
    "**Ordinary Least Square(OLS) method: For Individual Rate**"
   ]
  },
  {
   "cell_type": "code",
   "execution_count": 53,
   "metadata": {},
   "outputs": [],
   "source": [
    "# Import regression modules\n",
    "import statsmodels.api as sm\n",
    "from statsmodels.formula.api import OLS"
   ]
  },
  {
   "cell_type": "code",
   "execution_count": 61,
   "metadata": {},
   "outputs": [
    {
     "name": "stdout",
     "output_type": "stream",
     "text": [
      "                              OLS Regression Results                              \n",
      "==================================================================================\n",
      "Dep. Variable:     IndividualRateTotallog   R-squared:                       0.848\n",
      "Model:                                OLS   Adj. R-squared:                  0.848\n",
      "Method:                     Least Squares   F-statistic:                 1.812e+06\n",
      "Date:                    Wed, 27 Feb 2019   Prob (F-statistic):               0.00\n",
      "Time:                            22:17:00   Log-Likelihood:             6.8201e+05\n",
      "No. Observations:                 4531151   AIC:                        -1.364e+06\n",
      "Df Residuals:                     4531136   BIC:                        -1.364e+06\n",
      "Df Model:                              14                                         \n",
      "Covariance Type:                nonrobust                                         \n",
      "=========================================================================================================\n",
      "                                            coef    std err          t      P>|t|      [0.025      0.975]\n",
      "---------------------------------------------------------------------------------------------------------\n",
      "Age                                       0.0286   7.26e-06   3935.914      0.000       0.029       0.029\n",
      "BusinessYear                              0.1240   7.37e-05   1682.769      0.000       0.124       0.124\n",
      "RatingAreaId                              0.0004   4.78e-06     74.449      0.000       0.000       0.000\n",
      "Duration                                  0.0005   1.74e-06    306.623      0.000       0.001       0.001\n",
      "TEHBInnTier1IndividualMOOP            -1.126e-05   4.51e-08   -249.599      0.000   -1.13e-05   -1.12e-05\n",
      "TEHBOutOfNetIndividualMOOP             8.691e-06   1.42e-08    612.855      0.000    8.66e-06    8.72e-06\n",
      "BenefitName                           -1.337e-05   1.97e-07    -67.828      0.000   -1.38e-05    -1.3e-05\n",
      "Tobacco_No Preference                  -105.1418      0.064  -1652.367      0.000    -105.267    -105.017\n",
      "Tobacco_Tobacco User/Non-Tobacco User  -104.5821      0.064  -1643.812      0.000    -104.707    -104.457\n",
      "MetalLevel_Bronze                       -35.1198      0.021  -1657.696      0.000     -35.161     -35.078\n",
      "MetalLevel_Catastrophic                 -35.3238      0.021  -1668.993      0.000     -35.365     -35.282\n",
      "MetalLevel_Expanded Bronze              -35.0937      0.021  -1642.784      0.000     -35.136     -35.052\n",
      "MetalLevel_Gold                         -34.7251      0.021  -1639.353      0.000     -34.767     -34.684\n",
      "MetalLevel_Platinum                     -34.5966      0.021  -1631.742      0.000     -34.638     -34.555\n",
      "MetalLevel_Silver                       -34.8650      0.021  -1644.639      0.000     -34.907     -34.823\n",
      "IsEHB_No                               -104.8183      0.064  -1648.451      0.000    -104.943    -104.694\n",
      "IsEHB_Yes                              -104.9056      0.064  -1647.650      0.000    -105.030    -104.781\n",
      "==============================================================================\n",
      "Omnibus:                   160678.234   Durbin-Watson:                   0.075\n",
      "Prob(Omnibus):                  0.000   Jarque-Bera (JB):           232894.032\n",
      "Skew:                           0.359   Prob(JB):                         0.00\n",
      "Kurtosis:                       3.848   Cond. No.                     6.24e+18\n",
      "==============================================================================\n",
      "\n",
      "Warnings:\n",
      "[1] Standard Errors assume that the covariance matrix of the errors is correctly specified.\n",
      "[2] The smallest eigenvalue is 1.21e-23. This might indicate that there are\n",
      "strong multicollinearity problems or that the design matrix is singular.\n"
     ]
    }
   ],
   "source": [
    "# initiate and fit the ols model: m\n",
    "m = sm.OLS(rates_ml_train_target['IndividualRateTotallog'], rates_ml_train_pred_dummies).fit()\n",
    "\n",
    "# predict using model m for the train data\n",
    "prediction = m.predict(rates_ml_train_pred_dummies)\n",
    "\n",
    "# print summary.\n",
    "print(m.summary())"
   ]
  },
  {
   "cell_type": "code",
   "execution_count": 62,
   "metadata": {},
   "outputs": [],
   "source": [
    "# calculating the residuals\n",
    "residual = rates_ml_train_target['IndividualRateTotallog'] - prediction"
   ]
  },
  {
   "cell_type": "code",
   "execution_count": 63,
   "metadata": {},
   "outputs": [
    {
     "data": {
      "image/png": "[encoded data removed]",
      "text/plain": [
       "<Figure size 720x432 with 1 Axes>"
      ]
     },
     "metadata": {},
     "output_type": "display_data"
    }
   ],
   "source": [
    "#Plotting the Residual Distribution\n",
    "plt.hist(residual,color = 'g', edgecolor = 'k', linewidth = 1.8)\n",
    "plt.xlabel('Residual')\n",
    "plt.ylabel('Count')\n",
    "plt.title('Resisdual Distribution')\n",
    "plt.show()"
   ]
  },
  {
   "cell_type": "markdown",
   "metadata": {},
   "source": [
    "## Quantile plot:\n",
    "\n",
    "In statistics, a Q–Q (quantile-quantile) plot is a probability plot, which is a graphical method for comparing two probability distributions by plotting their quantiles against each other. The above two plots suggests that the residual distribution is normal but with some outliers"
   ]
  },
  {
   "cell_type": "code",
   "execution_count": 64,
   "metadata": {},
   "outputs": [
    {
     "data": {
      "image/png": "[encoded data removed]",
      "text/plain": [
       "<Figure size 720x432 with 1 Axes>"
      ]
     },
     "metadata": {},
     "output_type": "display_data"
    }
   ],
   "source": [
    "import scipy.stats as stats\n",
    "stats.probplot(residual, plot=plt)\n",
    "plt.show()\n",
    "#There does not appear to be any outliers in the residuals"
   ]
  },
  {
   "cell_type": "markdown",
   "metadata": {},
   "source": [
    "## Fitted Vs Residual plot \n",
    "\n",
    "It is used to detect non-linearity, unequal error variances, and outliers. Since the most of the data are near 0 on y axis the residual looks linear. There are no pattern which means that errors are normaly distributed. Looks like there are outliers. Hence we do not detect any voilations of the model assumption but there are outliers."
   ]
  },
  {
   "cell_type": "code",
   "execution_count": 65,
   "metadata": {},
   "outputs": [
    {
     "data": {
      "image/png": "[encoded data removed]",
      "text/plain": [
       "<Figure size 720x432 with 1 Axes>"
      ]
     },
     "metadata": {},
     "output_type": "display_data"
    }
   ],
   "source": [
    "plt.scatter(prediction, residual)\n",
    "plt.xlabel(\"Fitted Values $\\hat{y}$\")\n",
    "plt.ylabel(\"Residual $y - \\hat{y}$\")\n",
    "plt.title(\"Fitted Vs Residual\")\n",
    "plt.show()"
   ]
  },
  {
   "cell_type": "code",
   "execution_count": 66,
   "metadata": {},
   "outputs": [
    {
     "name": "stdout",
     "output_type": "stream",
     "text": [
      "The absolute error of test data is :  0.16668833812436704\n",
      "The MSE of test data is :  0.04197370604314306\n",
      "The out of sample R square is  0.8230464174374507\n"
     ]
    }
   ],
   "source": [
    "prediction_test = m.predict(rates_ml_test_pred_dummies)\n",
    "\n",
    "from sklearn.metrics import mean_absolute_error\n",
    "print(\"The absolute error of test data is : \", mean_absolute_error(rates_ml_test_target['IndividualRateTotallog'], prediction_test))\n",
    "\n",
    "from sklearn.metrics import mean_squared_error\n",
    "print(\"The MSE of test data is : \", mean_squared_error(rates_ml_test_target['IndividualRateTotallog'], prediction_test))\n",
    "\n",
    "from sklearn.metrics import r2_score\n",
    "print(\"The out of sample R square is \" , r2_score(rates_ml_test_target['IndividualRateTotallog'], prediction_test))"
   ]
  },
  {
   "cell_type": "markdown",
   "metadata": {},
   "source": [
    "## Linear Regression "
   ]
  },
  {
   "cell_type": "code",
   "execution_count": 68,
   "metadata": {},
   "outputs": [
    {
     "name": "stdout",
     "output_type": "stream",
     "text": [
      "The Mean Absolute error of train data is :  0.15971737783301704\n",
      "The MSE of train data is :  0.04333001261551595\n",
      "The out of sample R square is  0.8484877464029137\n"
     ]
    }
   ],
   "source": [
    "# Create arrays for the features and the response variable\n",
    "y_train = rates_ml_train_target['IndividualRateTotallog'].values\n",
    "X_train = rates_ml_train_pred_dummies.values\n",
    "y_test = rates_ml_test_target['IndividualRateTotallog'].values\n",
    "X_test = rates_ml_test_pred_dummies.values\n",
    "\n",
    "from sklearn.linear_model import LinearRegression\n",
    "lr = LinearRegression(normalize=True)\n",
    "lr.fit(X_train,y_train)\n",
    "y_pred_train = lr.predict(X_train)\n",
    "print(\"The Mean Absolute error of train data is : \", mean_absolute_error(y_train, y_pred_train))\n",
    "print(\"The MSE of train data is : \", mean_squared_error(y_train, y_pred_train))\n",
    "print(\"The out of sample R square is \" , r2_score(y_train, y_pred_train))\n"
   ]
  },
  {
   "cell_type": "code",
   "execution_count": 69,
   "metadata": {},
   "outputs": [
    {
     "name": "stdout",
     "output_type": "stream",
     "text": [
      "The absolute error of test data is :  0.16669785911262558\n",
      "The MSE of test data is :  0.04197699997095164\n",
      "The out of sample R square is  0.8230325308312542\n"
     ]
    }
   ],
   "source": [
    "y_pred_test = lr.predict(X_test)\n",
    "print(\"The absolute error of test data is : \", mean_absolute_error(y_test, y_pred_test))\n",
    "print(\"The MSE of test data is : \", mean_squared_error(y_test, y_pred_test))\n",
    "print(\"The out of sample R square is \" , r2_score(y_test, y_pred_test))\n",
    "\n",
    "# R Square value of .8230 is quite good and same as what we got in OLS"
   ]
  },
  {
   "cell_type": "markdown",
   "metadata": {},
   "source": [
    "## Decision Tree regression\n",
    "**Decision Tree** \n",
    "\n",
    "I will use DecisionTreeRegressor to predict the IndividualRate and will compare with the Linear model to check if the model improves in predicting the monthly rates."
   ]
  },
  {
   "cell_type": "code",
   "execution_count": 70,
   "metadata": {},
   "outputs": [],
   "source": [
    "# import necesaary packages from sklearn for descision tree model\n",
    "from sklearn import tree"
   ]
  },
  {
   "cell_type": "code",
   "execution_count": 71,
   "metadata": {},
   "outputs": [],
   "source": [
    "# For predicting continuous target we need to use DecisionTreeRegressor()\n",
    "# and not DecisionTreeClassifier()\n",
    "# create regressor and fit the model with training data: dt\n",
    "dt = tree.DecisionTreeRegressor()\n",
    "dt = dt.fit(X_train, y_train)"
   ]
  },
  {
   "cell_type": "code",
   "execution_count": 72,
   "metadata": {},
   "outputs": [
    {
     "name": "stdout",
     "output_type": "stream",
     "text": [
      "                                       Importances\n",
      "Age                                       0.549933\n",
      "BusinessYear                              0.105679\n",
      "RatingAreaId                              0.020174\n",
      "Duration                                  0.003733\n",
      "TEHBInnTier1IndividualMOOP                0.017077\n",
      "TEHBOutOfNetIndividualMOOP                0.018878\n",
      "BenefitName                               0.022567\n",
      "Tobacco_No Preference                     0.105816\n",
      "Tobacco_Tobacco User/Non-Tobacco User     0.062596\n",
      "MetalLevel_Bronze                         0.029070\n",
      "MetalLevel_Catastrophic                   0.001671\n",
      "MetalLevel_Expanded Bronze                0.007617\n",
      "MetalLevel_Gold                           0.010883\n",
      "MetalLevel_Platinum                       0.039771\n",
      "MetalLevel_Silver                         0.004417\n",
      "IsEHB_No                                  0.000068\n",
      "IsEHB_Yes                                 0.000049\n",
      "Score 0.9778290187539397\n"
     ]
    }
   ],
   "source": [
    "dt_importances = pd.DataFrame(dt.feature_importances_, rates_ml_train_pred_dummies.columns, columns=[\"Importances\"])\n",
    "print(dt_importances)\n",
    "print('Score', dt.score(X_train, y_train))"
   ]
  },
  {
   "cell_type": "markdown",
   "metadata": {},
   "source": [
    "This model is approximately **97.8%** accurate, which is better than Linear model but this score is on training data. There could be overfitting as well as it is too accurate. \n",
    "We have to check the score on data which is not seen by the model i.e. test data.\n",
    "\n",
    "**Feature Importance**\n",
    "From the below graph it is confirmed that Age & Tobacco use are the major factor in deciding the PREMIUM. It is unarguably known fact as well."
   ]
  },
  {
   "cell_type": "code",
   "execution_count": 73,
   "metadata": {},
   "outputs": [
    {
     "name": "stdout",
     "output_type": "stream",
     "text": [
      "                                       Importance\n",
      "Age                                      0.549933\n",
      "Tobacco_No Preference                    0.105816\n",
      "BusinessYear                             0.105679\n",
      "Tobacco_Tobacco User/Non-Tobacco User    0.062596\n",
      "MetalLevel_Platinum                      0.039771\n",
      "MetalLevel_Bronze                        0.029070\n",
      "BenefitName                              0.022567\n",
      "RatingAreaId                             0.020174\n",
      "TEHBOutOfNetIndividualMOOP               0.018878\n",
      "TEHBInnTier1IndividualMOOP               0.017077\n",
      "MetalLevel_Gold                          0.010883\n",
      "MetalLevel_Expanded Bronze               0.007617\n",
      "MetalLevel_Silver                        0.004417\n",
      "Duration                                 0.003733\n",
      "MetalLevel_Catastrophic                  0.001671\n",
      "IsEHB_No                                 0.000068\n",
      "IsEHB_Yes                                0.000049\n"
     ]
    },
    {
     "data": {
      "text/plain": [
       "<matplotlib.axes._subplots.AxesSubplot at 0x2950bd41b70>"
      ]
     },
     "execution_count": 73,
     "metadata": {},
     "output_type": "execute_result"
    },
    {
     "data": {
      "image/png": "[encoded data removed]",
      "text/plain": [
       "<Figure size 720x432 with 1 Axes>"
      ]
     },
     "metadata": {},
     "output_type": "display_data"
    }
   ],
   "source": [
    "feature_importances = pd.DataFrame(dt.feature_importances_,\n",
    "                                   index = rates_ml_train_pred_dummies.columns,\n",
    "                                    columns=['Importance']).sort_values('Importance',ascending=False)\n",
    "print(feature_importances)\n",
    "\n",
    "feature_importances.plot.bar( rot=90)"
   ]
  },
  {
   "cell_type": "code",
   "execution_count": 54,
   "metadata": {},
   "outputs": [
    {
     "name": "stdout",
     "output_type": "stream",
     "text": [
      "Score on test data:  0.9007578248419158\n"
     ]
    }
   ],
   "source": [
    "print('Score on test data: ', dt.score(X_test, y_test))"
   ]
  },
  {
   "cell_type": "markdown",
   "metadata": {},
   "source": [
    "The score is really good. It is predicting with 90% accuracy on Test dataset as well. The core has significantly improved from the linear regression"
   ]
  },
  {
   "cell_type": "markdown",
   "metadata": {},
   "source": [
    "**Cross validation & Model Evaluation**\n",
    "\n",
    "Implement 5 fold cross validation on the training dataset to train the model in much better way for Individual Rate."
   ]
  },
  {
   "cell_type": "code",
   "execution_count": 2,
   "metadata": {},
   "outputs": [],
   "source": [
    "# import all the neccessary packages.\n",
    "from sklearn.model_selection import cross_val_score, train_test_split \n",
    "#from sklearn import cross_validation\n",
    "from sklearn.linear_model import Ridge, LassoCV\n",
    "from sklearn.ensemble import RandomForestRegressor , GradientBoostingRegressor\n",
    "from sklearn.discriminant_analysis import LinearDiscriminantAnalysis\n",
    "from sklearn.naive_bayes import GaussianNB\n",
    "from sklearn.svm import SVC\n",
    "from sklearn import model_selection"
   ]
  },
  {
   "cell_type": "code",
   "execution_count": 7,
   "metadata": {},
   "outputs": [
    {
     "name": "stdout",
     "output_type": "stream",
     "text": [
      "RD: 0.848540 (0.000409)\n",
      "Scores: [0.84777365 0.84865597 0.84894855 0.84879888 0.84852119]\n",
      "LCV: 0.605720 (0.000645)\n",
      "Scores: [0.60471285 0.60523042 0.60644673 0.60606967 0.60614054]\n",
      "RF: 0.966360 (0.000115)\n",
      "Scores: [0.96618091 0.96640628 0.96649473 0.96644124 0.96627753]\n",
      "GB: 0.923770 (0.000563)\n",
      "Scores: [0.92435501 0.92346243 0.92448467 0.92353854 0.92300751]\n"
     ]
    }
   ],
   "source": [
    "X1 = X_train\n",
    "Y1 = y_train\n",
    "validation_size = 0.20\n",
    "seed = 7\n",
    "scoring = 'r2'\n",
    "X_train1, X_validation, Y_train1, Y_validation = train_test_split(X1, Y1, test_size=validation_size, random_state=seed)\n",
    "\n",
    "# Spot Check Algorithms\n",
    "models = []\n",
    "models.append(('RD', Ridge()))\n",
    "models.append(('LCV', LassoCV()))\n",
    "models.append(('RF', RandomForestRegressor()))\n",
    "models.append(('GB', GradientBoostingRegressor()))\n",
    "\n",
    "# evaluate each model in turn\n",
    "results = []\n",
    "names = []\n",
    "for name, model in models:\n",
    "    kfold = model_selection.KFold(n_splits=5, random_state=seed)\n",
    "    cv_results = cross_val_score(model, X_train1, Y_train1, cv=kfold, scoring=scoring)\n",
    "    results.append(cv_results)\n",
    "    names.append(name)\n",
    "#    cv_results_rmse = np.sqrt(-cv_results)\n",
    "   \n",
    "    msg = \"%s: %f (%f)\" % (name, cv_results.mean(), cv_results.std())\n",
    "    print(msg)\n",
    "    print(\"Scores:\",cv_results)"
   ]
  },
  {
   "cell_type": "code",
   "execution_count": 81,
   "metadata": {},
   "outputs": [
    {
     "data": {
      "text/html": [
       "<div>\n",
       "<style scoped>\n",
       "    .dataframe tbody tr th:only-of-type {\n",
       "        vertical-align: middle;\n",
       "    }\n",
       "\n",
       "    .dataframe tbody tr th {\n",
       "        vertical-align: top;\n",
       "    }\n",
       "\n",
       "    .dataframe thead th {\n",
       "        text-align: right;\n",
       "    }\n",
       "</style>\n",
       "<table border=\"1\" class=\"dataframe\">\n",
       "  <thead>\n",
       "    <tr style=\"text-align: right;\">\n",
       "      <th></th>\n",
       "      <th>v1</th>\n",
       "      <th>v2</th>\n",
       "      <th>v3</th>\n",
       "      <th>v4</th>\n",
       "      <th>v5</th>\n",
       "    </tr>\n",
       "  </thead>\n",
       "  <tbody>\n",
       "    <tr>\n",
       "      <th>RD</th>\n",
       "      <td>0.847774</td>\n",
       "      <td>0.848656</td>\n",
       "      <td>0.848949</td>\n",
       "      <td>0.848799</td>\n",
       "      <td>0.848521</td>\n",
       "    </tr>\n",
       "    <tr>\n",
       "      <th>LCV</th>\n",
       "      <td>0.604713</td>\n",
       "      <td>0.605230</td>\n",
       "      <td>0.606447</td>\n",
       "      <td>0.606070</td>\n",
       "      <td>0.606141</td>\n",
       "    </tr>\n",
       "    <tr>\n",
       "      <th>RF</th>\n",
       "      <td>0.966181</td>\n",
       "      <td>0.966406</td>\n",
       "      <td>0.966495</td>\n",
       "      <td>0.966441</td>\n",
       "      <td>0.966278</td>\n",
       "    </tr>\n",
       "    <tr>\n",
       "      <th>GB</th>\n",
       "      <td>0.924355</td>\n",
       "      <td>0.923462</td>\n",
       "      <td>0.924485</td>\n",
       "      <td>0.923539</td>\n",
       "      <td>0.923008</td>\n",
       "    </tr>\n",
       "  </tbody>\n",
       "</table>\n",
       "</div>"
      ],
      "text/plain": [
       "           v1        v2        v3        v4        v5\n",
       "RD   0.847774  0.848656  0.848949  0.848799  0.848521\n",
       "LCV  0.604713  0.605230  0.606447  0.606070  0.606141\n",
       "RF   0.966181  0.966406  0.966495  0.966441  0.966278\n",
       "GB   0.924355  0.923462  0.924485  0.923539  0.923008"
      ]
     },
     "execution_count": 81,
     "metadata": {},
     "output_type": "execute_result"
    }
   ],
   "source": [
    "cv_result = pd.read_csv(\"results.csv\")\n",
    "cv_result"
   ]
  },
  {
   "cell_type": "code",
   "execution_count": 87,
   "metadata": {},
   "outputs": [
    {
     "data": {
      "image/png": "[encoded data removed]",
      "text/plain": [
       "<Figure size 720x432 with 1 Axes>"
      ]
     },
     "metadata": {},
     "output_type": "display_data"
    }
   ],
   "source": [
    "plt.style.use('fivethirtyeight')\n",
    "rcParams['axes.facecolor'] = 'white'\n",
    "#Compare Algorithms\n",
    "fig = plt.figure(figsize=(10, 6))\n",
    "fig.suptitle('Algorithm Comparison')\n",
    "ax = fig.add_subplot(111)\n",
    "plt.boxplot(cv_result)\n",
    "plt.xlabel('R Square')\n",
    "plt.ylabel('Algorithms')\n",
    "ax.set_xticklabels(cv_result.index)\n",
    "plt.show()"
   ]
  },
  {
   "cell_type": "code",
   "execution_count": 84,
   "metadata": {},
   "outputs": [],
   "source": [
    "cv_result_avg =cv_result.mean(axis=1)"
   ]
  },
  {
   "cell_type": "code",
   "execution_count": 85,
   "metadata": {},
   "outputs": [
    {
     "data": {
      "image/png": "[encoded data removed]",
      "text/plain": [
       "<Figure size 360x432 with 1 Axes>"
      ]
     },
     "metadata": {},
     "output_type": "display_data"
    }
   ],
   "source": [
    "rcParams['figure.figsize'] = 5, 6\n",
    "rcParams['font.size'] = 20\n",
    "rcParams['axes.facecolor'] = 'white'\n",
    "plt.bar(cv_result.index, cv_result_avg, color = 'g', edgecolor = 'k', linewidth = 1.8)\n",
    "plt.xticks(cv_result.index,  rotation = 45, fontsize = 12)\n",
    "plt.xlabel('Models'); plt.ylabel('R Square'); plt.title('Model Comparison');"
   ]
  },
  {
   "cell_type": "markdown",
   "metadata": {},
   "source": [
    "**Machine Learning: Since Random Forest is the clear winner we investigate it further**"
   ]
  },
  {
   "cell_type": "markdown",
   "metadata": {},
   "source": [
    "# Hyperparameter tuning for Random Forest\n",
    "**While model parameters are learned during training — such as the slope and intercept in a linear regression — hyperparameters must be set before training.**\n",
    "\n",
    "**Scikit-Learn implements a set of sensible default hyperparameters for all models, but these are not guaranteed to be optimal for a problem. The best hyperparameters are usually impossible to determine ahead of time, and tuning a model is where machine learning turns from a science into trial-and-error based engineering.**\n",
    "\n",
    "**Here I will try to get the best parameters for Random Forest estimator before running the test validations on the estimators.**"
   ]
  },
  {
   "cell_type": "code",
   "execution_count": 14,
   "metadata": {},
   "outputs": [],
   "source": [
    "from sklearn.metrics import r2_score\n",
    "from sklearn.metrics import mean_squared_error\n",
    "from sklearn.metrics import mean_absolute_error\n",
    "from pprint import pprint"
   ]
  },
  {
   "cell_type": "code",
   "execution_count": 3,
   "metadata": {},
   "outputs": [],
   "source": [
    "validation_size = 0.4\n",
    "seed = 7\n",
    "scoring = 'r2'\n",
    "X_train1, X_validation, Y_train1, Y_validation = train_test_split(X_train, y_train, test_size=validation_size, random_state=seed)"
   ]
  },
  {
   "cell_type": "code",
   "execution_count": 86,
   "metadata": {
    "scrolled": false
   },
   "outputs": [
    {
     "name": "stdout",
     "output_type": "stream",
     "text": [
      "Parameters currently in use:\n",
      "\n"
     ]
    },
    {
     "data": {
      "text/html": [
       "<div>\n",
       "<style scoped>\n",
       "    .dataframe tbody tr th:only-of-type {\n",
       "        vertical-align: middle;\n",
       "    }\n",
       "\n",
       "    .dataframe tbody tr th {\n",
       "        vertical-align: top;\n",
       "    }\n",
       "\n",
       "    .dataframe thead th {\n",
       "        text-align: right;\n",
       "    }\n",
       "</style>\n",
       "<table border=\"1\" class=\"dataframe\">\n",
       "  <thead>\n",
       "    <tr style=\"text-align: right;\">\n",
       "      <th></th>\n",
       "      <th>Hyperparameter</th>\n",
       "      <th>Value</th>\n",
       "    </tr>\n",
       "  </thead>\n",
       "  <tbody>\n",
       "    <tr>\n",
       "      <th>0</th>\n",
       "      <td>bootstrap</td>\n",
       "      <td>True</td>\n",
       "    </tr>\n",
       "    <tr>\n",
       "      <th>1</th>\n",
       "      <td>criterion</td>\n",
       "      <td>mse</td>\n",
       "    </tr>\n",
       "    <tr>\n",
       "      <th>2</th>\n",
       "      <td>max_depth</td>\n",
       "      <td>None</td>\n",
       "    </tr>\n",
       "    <tr>\n",
       "      <th>3</th>\n",
       "      <td>max_features</td>\n",
       "      <td>auto</td>\n",
       "    </tr>\n",
       "    <tr>\n",
       "      <th>4</th>\n",
       "      <td>max_leaf_nodes</td>\n",
       "      <td>None</td>\n",
       "    </tr>\n",
       "    <tr>\n",
       "      <th>5</th>\n",
       "      <td>min_impurity_decrease</td>\n",
       "      <td>0</td>\n",
       "    </tr>\n",
       "    <tr>\n",
       "      <th>6</th>\n",
       "      <td>min_impurity_split</td>\n",
       "      <td>None</td>\n",
       "    </tr>\n",
       "    <tr>\n",
       "      <th>7</th>\n",
       "      <td>min_samples_leaf</td>\n",
       "      <td>1</td>\n",
       "    </tr>\n",
       "    <tr>\n",
       "      <th>8</th>\n",
       "      <td>min_samples_split</td>\n",
       "      <td>2</td>\n",
       "    </tr>\n",
       "    <tr>\n",
       "      <th>9</th>\n",
       "      <td>min_weight_fraction_leaf</td>\n",
       "      <td>0</td>\n",
       "    </tr>\n",
       "    <tr>\n",
       "      <th>10</th>\n",
       "      <td>n_estimators</td>\n",
       "      <td>warn</td>\n",
       "    </tr>\n",
       "    <tr>\n",
       "      <th>11</th>\n",
       "      <td>n_jobs</td>\n",
       "      <td>None</td>\n",
       "    </tr>\n",
       "    <tr>\n",
       "      <th>12</th>\n",
       "      <td>oob_score</td>\n",
       "      <td>False</td>\n",
       "    </tr>\n",
       "    <tr>\n",
       "      <th>13</th>\n",
       "      <td>random_state</td>\n",
       "      <td>7</td>\n",
       "    </tr>\n",
       "    <tr>\n",
       "      <th>14</th>\n",
       "      <td>verbose</td>\n",
       "      <td>0</td>\n",
       "    </tr>\n",
       "    <tr>\n",
       "      <th>15</th>\n",
       "      <td>warm_start</td>\n",
       "      <td>False</td>\n",
       "    </tr>\n",
       "  </tbody>\n",
       "</table>\n",
       "</div>"
      ],
      "text/plain": [
       "              Hyperparameter  Value\n",
       "0                  bootstrap   True\n",
       "1                  criterion    mse\n",
       "2                  max_depth   None\n",
       "3               max_features   auto\n",
       "4             max_leaf_nodes   None\n",
       "5      min_impurity_decrease      0\n",
       "6         min_impurity_split   None\n",
       "7           min_samples_leaf      1\n",
       "8          min_samples_split      2\n",
       "9   min_weight_fraction_leaf      0\n",
       "10              n_estimators   warn\n",
       "11                    n_jobs   None\n",
       "12                 oob_score  False\n",
       "13              random_state      7\n",
       "14                   verbose      0\n",
       "15                warm_start  False"
      ]
     },
     "execution_count": 86,
     "metadata": {},
     "output_type": "execute_result"
    }
   ],
   "source": [
    "# By default setup of the hyper parameters by scikit learn\n",
    "from sklearn.ensemble import RandomForestRegressor\n",
    "rf = RandomForestRegressor(random_state = 7,n_estimators=1)\n",
    "from pprint import pprint\n",
    "print('Parameters currently in use:\\n')\n",
    "headers = [ 'Hyperparameter','Value']\n",
    "base_parameter = pd.DataFrame([ [k,v] for k, v in dict1.items() ],columns=headers)\n",
    "base_parameter"
   ]
  },
  {
   "cell_type": "code",
   "execution_count": 4,
   "metadata": {},
   "outputs": [],
   "source": [
    "# This function checks the performance of the model\n",
    "def evaluate(model, test_features, test_labels):\n",
    "    predictions = model.predict(test_features)\n",
    "    errors = abs(predictions - test_labels)\n",
    "    mape = 100 * np.mean(errors / test_labels)\n",
    "    accuracy = 100 - mape\n",
    "    print('Model Performance')\n",
    "    print('Accuracy = {:0.2f}%.'.format(accuracy))\n",
    "    print(\"The absolute error of test data is : \", mean_absolute_error(test_labels, predictions))\n",
    "    print(\"The MSE of test data is : \", mean_squared_error(test_labels, predictions))\n",
    "    print(\"The out of sample R square is \" , r2_score(test_labels, predictions))\n",
    "    return accuracy\n"
   ]
  },
  {
   "cell_type": "code",
   "execution_count": 9,
   "metadata": {},
   "outputs": [
    {
     "name": "stdout",
     "output_type": "stream",
     "text": [
      "Model Performance\n",
      "Accuracy = 99.08%.\n",
      "The absolute error of test data is :  0.06346194451940665\n",
      "The MSE of test data is :  0.011755596538503823\n",
      "The out of sample R square is  0.9588076584167865\n",
      "Wall time: 16.9 s\n"
     ]
    }
   ],
   "source": [
    "%%time\n",
    "base_model = RandomForestRegressor(random_state = 7,n_estimators=1)\n",
    "base_model.fit(X_train1, Y_train1)\n",
    "base_accuracy = evaluate(base_model, X_validation, Y_validation)"
   ]
  },
  {
   "cell_type": "markdown",
   "metadata": {},
   "source": [
    "The accuracy of the model is very good. Out of sample R square and MSE is good while using only the Base model and without doing any hyperparameter settings "
   ]
  },
  {
   "cell_type": "markdown",
   "metadata": {},
   "source": [
    "# Defination of all hyper-parameters\n",
    "\n",
    "**n_estimators** = number of trees in the foreset\n",
    "\n",
    "**max_features** = max number of features considered for splitting a node\n",
    "\n",
    "**max_depth** = max number of levels in each decision tree\n",
    "\n",
    "**min_samples_split** = min number of data points placed in a node before the node is split\n",
    "\n",
    "**min_samples_leaf** = min number of data points allowed in a leaf node\n",
    "\n",
    "**bootstrap** = method for sampling data points (with or without replacement)"
   ]
  },
  {
   "cell_type": "code",
   "execution_count": 15,
   "metadata": {},
   "outputs": [
    {
     "name": "stdout",
     "output_type": "stream",
     "text": [
      "{'bootstrap': [True, False],\n",
      " 'max_depth': [10, 20, 30, 40, 50, 60, 70, 80, 90, 100, 110, None],\n",
      " 'max_features': ['auto', 'sqrt', 'log2'],\n",
      " 'min_samples_leaf': [1, 2, 4],\n",
      " 'min_samples_split': [2, 5, 10],\n",
      " 'n_estimators': [5, 16, 28, 39, 51, 62, 74, 85, 97, 108, 120]}\n"
     ]
    }
   ],
   "source": [
    "# Lets create the random hyper-parameter grid\n",
    "from sklearn.model_selection import RandomizedSearchCV\n",
    "# Number of trees in random forest\n",
    "n_estimators = [int(x) for x in np.linspace(start = 5, stop = 120, num = 11)]\n",
    "# Number of features to consider at every split\n",
    "max_features = ['auto', 'sqrt', 'log2']\n",
    "# Maximum number of levels in tree\n",
    "max_depth = [int(x) for x in np.linspace(10, 110, num = 11)]\n",
    "max_depth.append(None)\n",
    "# Minimum number of samples required to split a node\n",
    "min_samples_split = [2, 5, 10]\n",
    "# Minimum number of samples required at each leaf node\n",
    "min_samples_leaf = [1, 2, 4]\n",
    "# Method of selecting samples for training each tree\n",
    "bootstrap = [True, False]\n",
    "\n",
    "# Create the random grid\n",
    "random_grid = {'n_estimators': n_estimators,\n",
    "               'max_features': max_features,\n",
    "               'max_depth': max_depth,\n",
    "               'min_samples_split': min_samples_split,\n",
    "               'min_samples_leaf': min_samples_leaf,\n",
    "               'bootstrap': bootstrap}\n",
    "pprint(random_grid)"
   ]
  },
  {
   "cell_type": "code",
   "execution_count": 16,
   "metadata": {},
   "outputs": [
    {
     "name": "stdout",
     "output_type": "stream",
     "text": [
      "Fitting 3 folds for each of 10 candidates, totalling 30 fits\n"
     ]
    },
    {
     "name": "stderr",
     "output_type": "stream",
     "text": [
      "[Parallel(n_jobs=-1)]: Using backend LokyBackend with 8 concurrent workers.\n",
      "[Parallel(n_jobs=-1)]: Done  30 out of  30 | elapsed: 75.2min finished\n"
     ]
    },
    {
     "data": {
      "text/plain": [
       "RandomizedSearchCV(cv=3, error_score='raise-deprecating',\n",
       "          estimator=RandomForestRegressor(bootstrap=True, criterion='mse', max_depth=None,\n",
       "           max_features='auto', max_leaf_nodes=None,\n",
       "           min_impurity_decrease=0.0, min_impurity_split=None,\n",
       "           min_samples_leaf=1, min_samples_split=2,\n",
       "           min_weight_fraction_leaf=0.0, n_estimators='warn', n_jobs=None,\n",
       "           oob_score=False, random_state=None, verbose=0, warm_start=False),\n",
       "          fit_params=None, iid='warn', n_iter=10, n_jobs=-1,\n",
       "          param_distributions={'n_estimators': [5, 16, 28, 39, 51, 62, 74, 85, 97, 108, 120], 'max_features': ['auto', 'sqrt', 'log2'], 'max_depth': [10, 20, 30, 40, 50, 60, 70, 80, 90, 100, 110, None], 'min_samples_split': [2, 5, 10], 'min_samples_leaf': [1, 2, 4], 'bootstrap': [True, False]},\n",
       "          pre_dispatch='2*n_jobs', random_state=7, refit=True,\n",
       "          return_train_score='warn', scoring='r2', verbose=2)"
      ]
     },
     "execution_count": 16,
     "metadata": {},
     "output_type": "execute_result"
    }
   ],
   "source": [
    "# Use the random grid to search for best hyperparameters\n",
    "# First create the base model to tune\n",
    "rf = RandomForestRegressor()\n",
    "# Random search of parameters, using 3 fold cross validation, \n",
    "# search across 30 different combinations, and use all available cores\n",
    "rf_random = RandomizedSearchCV(estimator = rf, param_distributions = random_grid, n_iter = 10,\n",
    "                               cv = 3, verbose=2, random_state=7, n_jobs = -1,scoring=scoring)\n",
    "# Fit the random search model\n",
    "rf_random.fit(X_train1, Y_train1)"
   ]
  },
  {
   "cell_type": "code",
   "execution_count": 17,
   "metadata": {},
   "outputs": [
    {
     "data": {
      "text/plain": [
       "{'n_estimators': 120,\n",
       " 'min_samples_split': 10,\n",
       " 'min_samples_leaf': 1,\n",
       " 'max_features': 'auto',\n",
       " 'max_depth': 50,\n",
       " 'bootstrap': True}"
      ]
     },
     "execution_count": 17,
     "metadata": {},
     "output_type": "execute_result"
    }
   ],
   "source": [
    "# Best Parameters searched are:\n",
    "rf_random.best_params_"
   ]
  },
  {
   "cell_type": "code",
   "execution_count": 18,
   "metadata": {},
   "outputs": [
    {
     "name": "stderr",
     "output_type": "stream",
     "text": [
      "C:\\ProgramData\\Anaconda3\\lib\\site-packages\\sklearn\\utils\\deprecation.py:125: FutureWarning: You are accessing a training score ('split0_train_score'), which will not be available by default any more in 0.21. If you need training scores, please set return_train_score=True\n",
      "  warnings.warn(*warn_args, **warn_kwargs)\n",
      "C:\\ProgramData\\Anaconda3\\lib\\site-packages\\sklearn\\utils\\deprecation.py:125: FutureWarning: You are accessing a training score ('split1_train_score'), which will not be available by default any more in 0.21. If you need training scores, please set return_train_score=True\n",
      "  warnings.warn(*warn_args, **warn_kwargs)\n",
      "C:\\ProgramData\\Anaconda3\\lib\\site-packages\\sklearn\\utils\\deprecation.py:125: FutureWarning: You are accessing a training score ('split2_train_score'), which will not be available by default any more in 0.21. If you need training scores, please set return_train_score=True\n",
      "  warnings.warn(*warn_args, **warn_kwargs)\n",
      "C:\\ProgramData\\Anaconda3\\lib\\site-packages\\sklearn\\utils\\deprecation.py:125: FutureWarning: You are accessing a training score ('mean_train_score'), which will not be available by default any more in 0.21. If you need training scores, please set return_train_score=True\n",
      "  warnings.warn(*warn_args, **warn_kwargs)\n",
      "C:\\ProgramData\\Anaconda3\\lib\\site-packages\\sklearn\\utils\\deprecation.py:125: FutureWarning: You are accessing a training score ('std_train_score'), which will not be available by default any more in 0.21. If you need training scores, please set return_train_score=True\n",
      "  warnings.warn(*warn_args, **warn_kwargs)\n"
     ]
    }
   ],
   "source": [
    "rcv_results = pd.DataFrame.from_dict(rf_random.cv_results_)\n",
    "rcv_results.to_csv('rcv_results.csv')"
   ]
  },
  {
   "cell_type": "code",
   "execution_count": 19,
   "metadata": {},
   "outputs": [
    {
     "data": {
      "text/html": [
       "<div>\n",
       "<style scoped>\n",
       "    .dataframe tbody tr th:only-of-type {\n",
       "        vertical-align: middle;\n",
       "    }\n",
       "\n",
       "    .dataframe tbody tr th {\n",
       "        vertical-align: top;\n",
       "    }\n",
       "\n",
       "    .dataframe thead th {\n",
       "        text-align: right;\n",
       "    }\n",
       "</style>\n",
       "<table border=\"1\" class=\"dataframe\">\n",
       "  <thead>\n",
       "    <tr style=\"text-align: right;\">\n",
       "      <th></th>\n",
       "      <th>mean_fit_time</th>\n",
       "      <th>std_fit_time</th>\n",
       "      <th>mean_score_time</th>\n",
       "      <th>std_score_time</th>\n",
       "      <th>param_n_estimators</th>\n",
       "      <th>param_min_samples_split</th>\n",
       "      <th>param_min_samples_leaf</th>\n",
       "      <th>param_max_features</th>\n",
       "      <th>param_max_depth</th>\n",
       "      <th>param_bootstrap</th>\n",
       "      <th>params</th>\n",
       "      <th>split0_test_score</th>\n",
       "      <th>split1_test_score</th>\n",
       "      <th>split2_test_score</th>\n",
       "      <th>mean_test_score</th>\n",
       "      <th>std_test_score</th>\n",
       "      <th>rank_test_score</th>\n",
       "      <th>split0_train_score</th>\n",
       "      <th>split1_train_score</th>\n",
       "      <th>split2_train_score</th>\n",
       "      <th>mean_train_score</th>\n",
       "      <th>std_train_score</th>\n",
       "    </tr>\n",
       "  </thead>\n",
       "  <tbody>\n",
       "    <tr>\n",
       "      <th>0</th>\n",
       "      <td>387.289981</td>\n",
       "      <td>5.228982</td>\n",
       "      <td>40.418320</td>\n",
       "      <td>0.487411</td>\n",
       "      <td>39</td>\n",
       "      <td>5</td>\n",
       "      <td>1</td>\n",
       "      <td>sqrt</td>\n",
       "      <td>30</td>\n",
       "      <td>False</td>\n",
       "      <td>{'n_estimators': 39, 'min_samples_split': 5, '...</td>\n",
       "      <td>0.962841</td>\n",
       "      <td>0.962635</td>\n",
       "      <td>0.962635</td>\n",
       "      <td>0.962703</td>\n",
       "      <td>0.000097</td>\n",
       "      <td>10</td>\n",
       "      <td>0.981881</td>\n",
       "      <td>0.981888</td>\n",
       "      <td>0.981943</td>\n",
       "      <td>0.981904</td>\n",
       "      <td>0.000028</td>\n",
       "    </tr>\n",
       "    <tr>\n",
       "      <th>1</th>\n",
       "      <td>2346.838723</td>\n",
       "      <td>30.814932</td>\n",
       "      <td>102.032220</td>\n",
       "      <td>1.538339</td>\n",
       "      <td>120</td>\n",
       "      <td>10</td>\n",
       "      <td>1</td>\n",
       "      <td>auto</td>\n",
       "      <td>50</td>\n",
       "      <td>True</td>\n",
       "      <td>{'n_estimators': 120, 'min_samples_split': 10,...</td>\n",
       "      <td>0.970262</td>\n",
       "      <td>0.970229</td>\n",
       "      <td>0.970181</td>\n",
       "      <td>0.970224</td>\n",
       "      <td>0.000033</td>\n",
       "      <td>1</td>\n",
       "      <td>0.979569</td>\n",
       "      <td>0.979593</td>\n",
       "      <td>0.979613</td>\n",
       "      <td>0.979592</td>\n",
       "      <td>0.000018</td>\n",
       "    </tr>\n",
       "    <tr>\n",
       "      <th>2</th>\n",
       "      <td>804.418599</td>\n",
       "      <td>59.067339</td>\n",
       "      <td>66.825037</td>\n",
       "      <td>0.837537</td>\n",
       "      <td>108</td>\n",
       "      <td>2</td>\n",
       "      <td>2</td>\n",
       "      <td>log2</td>\n",
       "      <td>20</td>\n",
       "      <td>True</td>\n",
       "      <td>{'n_estimators': 108, 'min_samples_split': 2, ...</td>\n",
       "      <td>0.965055</td>\n",
       "      <td>0.965140</td>\n",
       "      <td>0.965113</td>\n",
       "      <td>0.965102</td>\n",
       "      <td>0.000035</td>\n",
       "      <td>8</td>\n",
       "      <td>0.970214</td>\n",
       "      <td>0.970403</td>\n",
       "      <td>0.970345</td>\n",
       "      <td>0.970321</td>\n",
       "      <td>0.000079</td>\n",
       "    </tr>\n",
       "    <tr>\n",
       "      <th>3</th>\n",
       "      <td>870.340488</td>\n",
       "      <td>49.400715</td>\n",
       "      <td>87.443424</td>\n",
       "      <td>3.766666</td>\n",
       "      <td>108</td>\n",
       "      <td>2</td>\n",
       "      <td>4</td>\n",
       "      <td>sqrt</td>\n",
       "      <td>90</td>\n",
       "      <td>True</td>\n",
       "      <td>{'n_estimators': 108, 'min_samples_split': 2, ...</td>\n",
       "      <td>0.967240</td>\n",
       "      <td>0.967115</td>\n",
       "      <td>0.967117</td>\n",
       "      <td>0.967158</td>\n",
       "      <td>0.000059</td>\n",
       "      <td>3</td>\n",
       "      <td>0.975816</td>\n",
       "      <td>0.975771</td>\n",
       "      <td>0.975806</td>\n",
       "      <td>0.975798</td>\n",
       "      <td>0.000019</td>\n",
       "    </tr>\n",
       "    <tr>\n",
       "      <th>4</th>\n",
       "      <td>474.240679</td>\n",
       "      <td>14.194003</td>\n",
       "      <td>15.568943</td>\n",
       "      <td>0.296176</td>\n",
       "      <td>16</td>\n",
       "      <td>10</td>\n",
       "      <td>2</td>\n",
       "      <td>auto</td>\n",
       "      <td>80</td>\n",
       "      <td>False</td>\n",
       "      <td>{'n_estimators': 16, 'min_samples_split': 10, ...</td>\n",
       "      <td>0.966246</td>\n",
       "      <td>0.966207</td>\n",
       "      <td>0.966206</td>\n",
       "      <td>0.966220</td>\n",
       "      <td>0.000019</td>\n",
       "      <td>7</td>\n",
       "      <td>0.979600</td>\n",
       "      <td>0.979608</td>\n",
       "      <td>0.979615</td>\n",
       "      <td>0.979608</td>\n",
       "      <td>0.000006</td>\n",
       "    </tr>\n",
       "    <tr>\n",
       "      <th>5</th>\n",
       "      <td>779.660479</td>\n",
       "      <td>20.861861</td>\n",
       "      <td>72.564852</td>\n",
       "      <td>2.991364</td>\n",
       "      <td>74</td>\n",
       "      <td>5</td>\n",
       "      <td>2</td>\n",
       "      <td>sqrt</td>\n",
       "      <td>30</td>\n",
       "      <td>False</td>\n",
       "      <td>{'n_estimators': 74, 'min_samples_split': 5, '...</td>\n",
       "      <td>0.964242</td>\n",
       "      <td>0.964196</td>\n",
       "      <td>0.964008</td>\n",
       "      <td>0.964149</td>\n",
       "      <td>0.000101</td>\n",
       "      <td>9</td>\n",
       "      <td>0.981015</td>\n",
       "      <td>0.981007</td>\n",
       "      <td>0.981035</td>\n",
       "      <td>0.981019</td>\n",
       "      <td>0.000011</td>\n",
       "    </tr>\n",
       "    <tr>\n",
       "      <th>6</th>\n",
       "      <td>1551.321978</td>\n",
       "      <td>51.963743</td>\n",
       "      <td>59.862277</td>\n",
       "      <td>5.504297</td>\n",
       "      <td>74</td>\n",
       "      <td>10</td>\n",
       "      <td>1</td>\n",
       "      <td>auto</td>\n",
       "      <td>40</td>\n",
       "      <td>True</td>\n",
       "      <td>{'n_estimators': 74, 'min_samples_split': 10, ...</td>\n",
       "      <td>0.970215</td>\n",
       "      <td>0.970198</td>\n",
       "      <td>0.970134</td>\n",
       "      <td>0.970183</td>\n",
       "      <td>0.000035</td>\n",
       "      <td>2</td>\n",
       "      <td>0.979534</td>\n",
       "      <td>0.979555</td>\n",
       "      <td>0.979580</td>\n",
       "      <td>0.979556</td>\n",
       "      <td>0.000019</td>\n",
       "    </tr>\n",
       "    <tr>\n",
       "      <th>7</th>\n",
       "      <td>1438.574732</td>\n",
       "      <td>14.588752</td>\n",
       "      <td>43.262004</td>\n",
       "      <td>6.250902</td>\n",
       "      <td>51</td>\n",
       "      <td>10</td>\n",
       "      <td>4</td>\n",
       "      <td>auto</td>\n",
       "      <td>80</td>\n",
       "      <td>False</td>\n",
       "      <td>{'n_estimators': 51, 'min_samples_split': 10, ...</td>\n",
       "      <td>0.966793</td>\n",
       "      <td>0.966683</td>\n",
       "      <td>0.966717</td>\n",
       "      <td>0.966731</td>\n",
       "      <td>0.000046</td>\n",
       "      <td>5</td>\n",
       "      <td>0.978578</td>\n",
       "      <td>0.978603</td>\n",
       "      <td>0.978612</td>\n",
       "      <td>0.978598</td>\n",
       "      <td>0.000015</td>\n",
       "    </tr>\n",
       "    <tr>\n",
       "      <th>8</th>\n",
       "      <td>745.025863</td>\n",
       "      <td>135.857631</td>\n",
       "      <td>67.168807</td>\n",
       "      <td>15.739728</td>\n",
       "      <td>97</td>\n",
       "      <td>5</td>\n",
       "      <td>4</td>\n",
       "      <td>sqrt</td>\n",
       "      <td>50</td>\n",
       "      <td>True</td>\n",
       "      <td>{'n_estimators': 97, 'min_samples_split': 5, '...</td>\n",
       "      <td>0.967187</td>\n",
       "      <td>0.967206</td>\n",
       "      <td>0.966993</td>\n",
       "      <td>0.967129</td>\n",
       "      <td>0.000096</td>\n",
       "      <td>4</td>\n",
       "      <td>0.975767</td>\n",
       "      <td>0.975869</td>\n",
       "      <td>0.975792</td>\n",
       "      <td>0.975809</td>\n",
       "      <td>0.000043</td>\n",
       "    </tr>\n",
       "    <tr>\n",
       "      <th>9</th>\n",
       "      <td>126.291323</td>\n",
       "      <td>8.909336</td>\n",
       "      <td>12.117963</td>\n",
       "      <td>1.262432</td>\n",
       "      <td>16</td>\n",
       "      <td>10</td>\n",
       "      <td>4</td>\n",
       "      <td>log2</td>\n",
       "      <td>110</td>\n",
       "      <td>True</td>\n",
       "      <td>{'n_estimators': 16, 'min_samples_split': 10, ...</td>\n",
       "      <td>0.966718</td>\n",
       "      <td>0.966402</td>\n",
       "      <td>0.966494</td>\n",
       "      <td>0.966538</td>\n",
       "      <td>0.000133</td>\n",
       "      <td>6</td>\n",
       "      <td>0.975010</td>\n",
       "      <td>0.974854</td>\n",
       "      <td>0.975029</td>\n",
       "      <td>0.974964</td>\n",
       "      <td>0.000079</td>\n",
       "    </tr>\n",
       "  </tbody>\n",
       "</table>\n",
       "</div>"
      ],
      "text/plain": [
       "   mean_fit_time  std_fit_time  mean_score_time  std_score_time  \\\n",
       "0     387.289981      5.228982        40.418320        0.487411   \n",
       "1    2346.838723     30.814932       102.032220        1.538339   \n",
       "2     804.418599     59.067339        66.825037        0.837537   \n",
       "3     870.340488     49.400715        87.443424        3.766666   \n",
       "4     474.240679     14.194003        15.568943        0.296176   \n",
       "5     779.660479     20.861861        72.564852        2.991364   \n",
       "6    1551.321978     51.963743        59.862277        5.504297   \n",
       "7    1438.574732     14.588752        43.262004        6.250902   \n",
       "8     745.025863    135.857631        67.168807       15.739728   \n",
       "9     126.291323      8.909336        12.117963        1.262432   \n",
       "\n",
       "  param_n_estimators param_min_samples_split param_min_samples_leaf  \\\n",
       "0                 39                       5                      1   \n",
       "1                120                      10                      1   \n",
       "2                108                       2                      2   \n",
       "3                108                       2                      4   \n",
       "4                 16                      10                      2   \n",
       "5                 74                       5                      2   \n",
       "6                 74                      10                      1   \n",
       "7                 51                      10                      4   \n",
       "8                 97                       5                      4   \n",
       "9                 16                      10                      4   \n",
       "\n",
       "  param_max_features param_max_depth param_bootstrap  \\\n",
       "0               sqrt              30           False   \n",
       "1               auto              50            True   \n",
       "2               log2              20            True   \n",
       "3               sqrt              90            True   \n",
       "4               auto              80           False   \n",
       "5               sqrt              30           False   \n",
       "6               auto              40            True   \n",
       "7               auto              80           False   \n",
       "8               sqrt              50            True   \n",
       "9               log2             110            True   \n",
       "\n",
       "                                              params  split0_test_score  \\\n",
       "0  {'n_estimators': 39, 'min_samples_split': 5, '...           0.962841   \n",
       "1  {'n_estimators': 120, 'min_samples_split': 10,...           0.970262   \n",
       "2  {'n_estimators': 108, 'min_samples_split': 2, ...           0.965055   \n",
       "3  {'n_estimators': 108, 'min_samples_split': 2, ...           0.967240   \n",
       "4  {'n_estimators': 16, 'min_samples_split': 10, ...           0.966246   \n",
       "5  {'n_estimators': 74, 'min_samples_split': 5, '...           0.964242   \n",
       "6  {'n_estimators': 74, 'min_samples_split': 10, ...           0.970215   \n",
       "7  {'n_estimators': 51, 'min_samples_split': 10, ...           0.966793   \n",
       "8  {'n_estimators': 97, 'min_samples_split': 5, '...           0.967187   \n",
       "9  {'n_estimators': 16, 'min_samples_split': 10, ...           0.966718   \n",
       "\n",
       "   split1_test_score  split2_test_score  mean_test_score  std_test_score  \\\n",
       "0           0.962635           0.962635         0.962703        0.000097   \n",
       "1           0.970229           0.970181         0.970224        0.000033   \n",
       "2           0.965140           0.965113         0.965102        0.000035   \n",
       "3           0.967115           0.967117         0.967158        0.000059   \n",
       "4           0.966207           0.966206         0.966220        0.000019   \n",
       "5           0.964196           0.964008         0.964149        0.000101   \n",
       "6           0.970198           0.970134         0.970183        0.000035   \n",
       "7           0.966683           0.966717         0.966731        0.000046   \n",
       "8           0.967206           0.966993         0.967129        0.000096   \n",
       "9           0.966402           0.966494         0.966538        0.000133   \n",
       "\n",
       "   rank_test_score  split0_train_score  split1_train_score  \\\n",
       "0               10            0.981881            0.981888   \n",
       "1                1            0.979569            0.979593   \n",
       "2                8            0.970214            0.970403   \n",
       "3                3            0.975816            0.975771   \n",
       "4                7            0.979600            0.979608   \n",
       "5                9            0.981015            0.981007   \n",
       "6                2            0.979534            0.979555   \n",
       "7                5            0.978578            0.978603   \n",
       "8                4            0.975767            0.975869   \n",
       "9                6            0.975010            0.974854   \n",
       "\n",
       "   split2_train_score  mean_train_score  std_train_score  \n",
       "0            0.981943          0.981904         0.000028  \n",
       "1            0.979613          0.979592         0.000018  \n",
       "2            0.970345          0.970321         0.000079  \n",
       "3            0.975806          0.975798         0.000019  \n",
       "4            0.979615          0.979608         0.000006  \n",
       "5            0.981035          0.981019         0.000011  \n",
       "6            0.979580          0.979556         0.000019  \n",
       "7            0.978612          0.978598         0.000015  \n",
       "8            0.975792          0.975809         0.000043  \n",
       "9            0.975029          0.974964         0.000079  "
      ]
     },
     "execution_count": 19,
     "metadata": {},
     "output_type": "execute_result"
    }
   ],
   "source": [
    "rcv_results"
   ]
  },
  {
   "cell_type": "code",
   "execution_count": 21,
   "metadata": {},
   "outputs": [
    {
     "name": "stdout",
     "output_type": "stream",
     "text": [
      "Model Performance\n",
      "Accuracy = 99.14%.\n",
      "The absolute error of test data is :  0.05910903752818547\n",
      "The MSE of test data is :  0.00838429031579245\n",
      "The out of sample R square is  0.9706209251491623\n"
     ]
    }
   ],
   "source": [
    "best_random = rf_random.best_estimator_\n",
    "random_accuracy = evaluate(best_random, X_validation, Y_validation)"
   ]
  },
  {
   "cell_type": "code",
   "execution_count": 22,
   "metadata": {},
   "outputs": [
    {
     "name": "stdout",
     "output_type": "stream",
     "text": [
      "Improvement of 0.06%.\n"
     ]
    }
   ],
   "source": [
    "print('Improvement of {:0.2f}%.'.format( 100 * (random_accuracy - base_accuracy) / base_accuracy))"
   ]
  },
  {
   "cell_type": "markdown",
   "metadata": {},
   "source": [
    "**Grid Search with Cross Validation**\n",
    "\n",
    "Random search allowed us to narrow down the range for each hyperparameter. Now that we know where to concentrate our search, we can explicitly specify every combination of settings to try. We do this with GridSearchCV, a method that, instead of sampling randomly from a distribution, evaluates all combinations we define. To use Grid Search, we make another grid based on the best values provided by random search"
   ]
  },
  {
   "cell_type": "code",
   "execution_count": 24,
   "metadata": {},
   "outputs": [],
   "source": [
    "from sklearn.model_selection import GridSearchCV\n",
    "# Create the parameter grid based on the results of random search \n",
    "param_grid = {\n",
    "    'bootstrap': [True],\n",
    "    'max_depth': [30, 50],\n",
    "    'min_samples_leaf': [1],\n",
    "    'max_features': ['auto'],\n",
    "    'min_samples_split': [8, 10],\n",
    "    'n_estimators': [100, 120, 150]\n",
    "}\n",
    "# Create a based model\n",
    "rf = RandomForestRegressor(random_state=7)\n",
    "# Instantiate the grid search model\n",
    "grid_search = GridSearchCV(estimator = rf, param_grid = param_grid, \n",
    "                          cv = 3, n_jobs = -1, verbose = 2,scoring =scoring )"
   ]
  },
  {
   "cell_type": "code",
   "execution_count": 25,
   "metadata": {},
   "outputs": [
    {
     "name": "stdout",
     "output_type": "stream",
     "text": [
      "Fitting 3 folds for each of 12 candidates, totalling 36 fits\n"
     ]
    },
    {
     "name": "stderr",
     "output_type": "stream",
     "text": [
      "[Parallel(n_jobs=-1)]: Using backend LokyBackend with 8 concurrent workers.\n",
      "[Parallel(n_jobs=-1)]: Done  36 out of  36 | elapsed: 252.5min finished\n"
     ]
    },
    {
     "data": {
      "text/plain": [
       "GridSearchCV(cv=3, error_score='raise-deprecating',\n",
       "       estimator=RandomForestRegressor(bootstrap=True, criterion='mse', max_depth=None,\n",
       "           max_features='auto', max_leaf_nodes=None,\n",
       "           min_impurity_decrease=0.0, min_impurity_split=None,\n",
       "           min_samples_leaf=1, min_samples_split=2,\n",
       "           min_weight_fraction_leaf=0.0, n_estimators='warn', n_jobs=None,\n",
       "           oob_score=False, random_state=7, verbose=0, warm_start=False),\n",
       "       fit_params=None, iid='warn', n_jobs=-1,\n",
       "       param_grid={'bootstrap': [True], 'max_depth': [30, 50], 'min_samples_leaf': [1], 'max_features': ['auto'], 'min_samples_split': [8, 10], 'n_estimators': [100, 120, 150]},\n",
       "       pre_dispatch='2*n_jobs', refit=True, return_train_score='warn',\n",
       "       scoring='r2', verbose=2)"
      ]
     },
     "execution_count": 25,
     "metadata": {},
     "output_type": "execute_result"
    }
   ],
   "source": [
    "# Fit the grid search to the data\n",
    "grid_search.fit(X_train1, Y_train1)"
   ]
  },
  {
   "cell_type": "code",
   "execution_count": 26,
   "metadata": {},
   "outputs": [
    {
     "data": {
      "text/plain": [
       "{'bootstrap': True,\n",
       " 'max_depth': 30,\n",
       " 'max_features': 'auto',\n",
       " 'min_samples_leaf': 1,\n",
       " 'min_samples_split': 10,\n",
       " 'n_estimators': 150}"
      ]
     },
     "execution_count": 26,
     "metadata": {},
     "output_type": "execute_result"
    }
   ],
   "source": [
    "grid_search.best_params_"
   ]
  },
  {
   "cell_type": "code",
   "execution_count": 27,
   "metadata": {},
   "outputs": [
    {
     "name": "stdout",
     "output_type": "stream",
     "text": [
      "Model Performance\n",
      "Accuracy = 99.14%.\n",
      "The absolute error of test data is :  0.05917777329224039\n",
      "The MSE of test data is :  0.008342142802806757\n",
      "The out of sample R square is  0.9707686126566489\n"
     ]
    }
   ],
   "source": [
    "best_grid = grid_search.best_estimator_\n",
    "grid_accuracy = evaluate(best_grid, X_validation, Y_validation)"
   ]
  },
  {
   "cell_type": "code",
   "execution_count": 28,
   "metadata": {},
   "outputs": [
    {
     "name": "stdout",
     "output_type": "stream",
     "text": [
      "Improvement of 0.06%.\n"
     ]
    }
   ],
   "source": [
    "print('Improvement of {:0.2f}%.'.format( 100 * (grid_accuracy - base_accuracy) / base_accuracy))"
   ]
  },
  {
   "cell_type": "code",
   "execution_count": 29,
   "metadata": {},
   "outputs": [
    {
     "name": "stderr",
     "output_type": "stream",
     "text": [
      "C:\\ProgramData\\Anaconda3\\lib\\site-packages\\sklearn\\utils\\deprecation.py:125: FutureWarning: You are accessing a training score ('split0_train_score'), which will not be available by default any more in 0.21. If you need training scores, please set return_train_score=True\n",
      "  warnings.warn(*warn_args, **warn_kwargs)\n",
      "C:\\ProgramData\\Anaconda3\\lib\\site-packages\\sklearn\\utils\\deprecation.py:125: FutureWarning: You are accessing a training score ('split1_train_score'), which will not be available by default any more in 0.21. If you need training scores, please set return_train_score=True\n",
      "  warnings.warn(*warn_args, **warn_kwargs)\n",
      "C:\\ProgramData\\Anaconda3\\lib\\site-packages\\sklearn\\utils\\deprecation.py:125: FutureWarning: You are accessing a training score ('split2_train_score'), which will not be available by default any more in 0.21. If you need training scores, please set return_train_score=True\n",
      "  warnings.warn(*warn_args, **warn_kwargs)\n",
      "C:\\ProgramData\\Anaconda3\\lib\\site-packages\\sklearn\\utils\\deprecation.py:125: FutureWarning: You are accessing a training score ('mean_train_score'), which will not be available by default any more in 0.21. If you need training scores, please set return_train_score=True\n",
      "  warnings.warn(*warn_args, **warn_kwargs)\n",
      "C:\\ProgramData\\Anaconda3\\lib\\site-packages\\sklearn\\utils\\deprecation.py:125: FutureWarning: You are accessing a training score ('std_train_score'), which will not be available by default any more in 0.21. If you need training scores, please set return_train_score=True\n",
      "  warnings.warn(*warn_args, **warn_kwargs)\n"
     ]
    }
   ],
   "source": [
    "gcv_results = pd.DataFrame.from_dict(grid_search.cv_results_)\n",
    "gcv_results.to_csv('gcv_results.csv')"
   ]
  },
  {
   "cell_type": "code",
   "execution_count": 30,
   "metadata": {
    "scrolled": false
   },
   "outputs": [
    {
     "data": {
      "text/html": [
       "<div>\n",
       "<style scoped>\n",
       "    .dataframe tbody tr th:only-of-type {\n",
       "        vertical-align: middle;\n",
       "    }\n",
       "\n",
       "    .dataframe tbody tr th {\n",
       "        vertical-align: top;\n",
       "    }\n",
       "\n",
       "    .dataframe thead th {\n",
       "        text-align: right;\n",
       "    }\n",
       "</style>\n",
       "<table border=\"1\" class=\"dataframe\">\n",
       "  <thead>\n",
       "    <tr style=\"text-align: right;\">\n",
       "      <th></th>\n",
       "      <th>mean_fit_time</th>\n",
       "      <th>std_fit_time</th>\n",
       "      <th>mean_score_time</th>\n",
       "      <th>std_score_time</th>\n",
       "      <th>param_bootstrap</th>\n",
       "      <th>param_max_depth</th>\n",
       "      <th>param_max_features</th>\n",
       "      <th>param_min_samples_leaf</th>\n",
       "      <th>param_min_samples_split</th>\n",
       "      <th>param_n_estimators</th>\n",
       "      <th>params</th>\n",
       "      <th>split0_test_score</th>\n",
       "      <th>split1_test_score</th>\n",
       "      <th>split2_test_score</th>\n",
       "      <th>mean_test_score</th>\n",
       "      <th>std_test_score</th>\n",
       "      <th>rank_test_score</th>\n",
       "      <th>split0_train_score</th>\n",
       "      <th>split1_train_score</th>\n",
       "      <th>split2_train_score</th>\n",
       "      <th>mean_train_score</th>\n",
       "      <th>std_train_score</th>\n",
       "    </tr>\n",
       "  </thead>\n",
       "  <tbody>\n",
       "    <tr>\n",
       "      <th>0</th>\n",
       "      <td>2010.430445</td>\n",
       "      <td>44.259367</td>\n",
       "      <td>88.300408</td>\n",
       "      <td>0.923198</td>\n",
       "      <td>True</td>\n",
       "      <td>30</td>\n",
       "      <td>auto</td>\n",
       "      <td>1</td>\n",
       "      <td>8</td>\n",
       "      <td>100</td>\n",
       "      <td>{'bootstrap': True, 'max_depth': 30, 'max_feat...</td>\n",
       "      <td>0.969867</td>\n",
       "      <td>0.969820</td>\n",
       "      <td>0.969764</td>\n",
       "      <td>0.969817</td>\n",
       "      <td>0.000042</td>\n",
       "      <td>9</td>\n",
       "      <td>0.980010</td>\n",
       "      <td>0.980035</td>\n",
       "      <td>0.980055</td>\n",
       "      <td>0.980033</td>\n",
       "      <td>0.000018</td>\n",
       "    </tr>\n",
       "    <tr>\n",
       "      <th>1</th>\n",
       "      <td>2356.688211</td>\n",
       "      <td>29.271383</td>\n",
       "      <td>105.000645</td>\n",
       "      <td>1.976883</td>\n",
       "      <td>True</td>\n",
       "      <td>30</td>\n",
       "      <td>auto</td>\n",
       "      <td>1</td>\n",
       "      <td>8</td>\n",
       "      <td>120</td>\n",
       "      <td>{'bootstrap': True, 'max_depth': 30, 'max_feat...</td>\n",
       "      <td>0.969880</td>\n",
       "      <td>0.969833</td>\n",
       "      <td>0.969779</td>\n",
       "      <td>0.969831</td>\n",
       "      <td>0.000041</td>\n",
       "      <td>8</td>\n",
       "      <td>0.980022</td>\n",
       "      <td>0.980046</td>\n",
       "      <td>0.980064</td>\n",
       "      <td>0.980044</td>\n",
       "      <td>0.000017</td>\n",
       "    </tr>\n",
       "    <tr>\n",
       "      <th>2</th>\n",
       "      <td>3067.834925</td>\n",
       "      <td>115.653370</td>\n",
       "      <td>129.374582</td>\n",
       "      <td>6.943837</td>\n",
       "      <td>True</td>\n",
       "      <td>30</td>\n",
       "      <td>auto</td>\n",
       "      <td>1</td>\n",
       "      <td>8</td>\n",
       "      <td>150</td>\n",
       "      <td>{'bootstrap': True, 'max_depth': 30, 'max_feat...</td>\n",
       "      <td>0.969893</td>\n",
       "      <td>0.969856</td>\n",
       "      <td>0.969791</td>\n",
       "      <td>0.969847</td>\n",
       "      <td>0.000042</td>\n",
       "      <td>7</td>\n",
       "      <td>0.980033</td>\n",
       "      <td>0.980057</td>\n",
       "      <td>0.980074</td>\n",
       "      <td>0.980055</td>\n",
       "      <td>0.000017</td>\n",
       "    </tr>\n",
       "    <tr>\n",
       "      <th>3</th>\n",
       "      <td>2194.021427</td>\n",
       "      <td>50.367780</td>\n",
       "      <td>83.188370</td>\n",
       "      <td>2.118241</td>\n",
       "      <td>True</td>\n",
       "      <td>30</td>\n",
       "      <td>auto</td>\n",
       "      <td>1</td>\n",
       "      <td>10</td>\n",
       "      <td>100</td>\n",
       "      <td>{'bootstrap': True, 'max_depth': 30, 'max_feat...</td>\n",
       "      <td>0.970340</td>\n",
       "      <td>0.970302</td>\n",
       "      <td>0.970250</td>\n",
       "      <td>0.970297</td>\n",
       "      <td>0.000037</td>\n",
       "      <td>3</td>\n",
       "      <td>0.979350</td>\n",
       "      <td>0.979380</td>\n",
       "      <td>0.979399</td>\n",
       "      <td>0.979377</td>\n",
       "      <td>0.000020</td>\n",
       "    </tr>\n",
       "    <tr>\n",
       "      <th>4</th>\n",
       "      <td>2688.756166</td>\n",
       "      <td>91.146324</td>\n",
       "      <td>85.505878</td>\n",
       "      <td>10.300649</td>\n",
       "      <td>True</td>\n",
       "      <td>30</td>\n",
       "      <td>auto</td>\n",
       "      <td>1</td>\n",
       "      <td>10</td>\n",
       "      <td>120</td>\n",
       "      <td>{'bootstrap': True, 'max_depth': 30, 'max_feat...</td>\n",
       "      <td>0.970354</td>\n",
       "      <td>0.970312</td>\n",
       "      <td>0.970263</td>\n",
       "      <td>0.970309</td>\n",
       "      <td>0.000037</td>\n",
       "      <td>2</td>\n",
       "      <td>0.979361</td>\n",
       "      <td>0.979390</td>\n",
       "      <td>0.979408</td>\n",
       "      <td>0.979386</td>\n",
       "      <td>0.000020</td>\n",
       "    </tr>\n",
       "  </tbody>\n",
       "</table>\n",
       "</div>"
      ],
      "text/plain": [
       "   mean_fit_time  std_fit_time  mean_score_time  std_score_time  \\\n",
       "0    2010.430445     44.259367        88.300408        0.923198   \n",
       "1    2356.688211     29.271383       105.000645        1.976883   \n",
       "2    3067.834925    115.653370       129.374582        6.943837   \n",
       "3    2194.021427     50.367780        83.188370        2.118241   \n",
       "4    2688.756166     91.146324        85.505878       10.300649   \n",
       "\n",
       "  param_bootstrap param_max_depth param_max_features param_min_samples_leaf  \\\n",
       "0            True              30               auto                      1   \n",
       "1            True              30               auto                      1   \n",
       "2            True              30               auto                      1   \n",
       "3            True              30               auto                      1   \n",
       "4            True              30               auto                      1   \n",
       "\n",
       "  param_min_samples_split param_n_estimators  \\\n",
       "0                       8                100   \n",
       "1                       8                120   \n",
       "2                       8                150   \n",
       "3                      10                100   \n",
       "4                      10                120   \n",
       "\n",
       "                                              params  split0_test_score  \\\n",
       "0  {'bootstrap': True, 'max_depth': 30, 'max_feat...           0.969867   \n",
       "1  {'bootstrap': True, 'max_depth': 30, 'max_feat...           0.969880   \n",
       "2  {'bootstrap': True, 'max_depth': 30, 'max_feat...           0.969893   \n",
       "3  {'bootstrap': True, 'max_depth': 30, 'max_feat...           0.970340   \n",
       "4  {'bootstrap': True, 'max_depth': 30, 'max_feat...           0.970354   \n",
       "\n",
       "   split1_test_score  split2_test_score  mean_test_score  std_test_score  \\\n",
       "0           0.969820           0.969764         0.969817        0.000042   \n",
       "1           0.969833           0.969779         0.969831        0.000041   \n",
       "2           0.969856           0.969791         0.969847        0.000042   \n",
       "3           0.970302           0.970250         0.970297        0.000037   \n",
       "4           0.970312           0.970263         0.970309        0.000037   \n",
       "\n",
       "   rank_test_score  split0_train_score  split1_train_score  \\\n",
       "0                9            0.980010            0.980035   \n",
       "1                8            0.980022            0.980046   \n",
       "2                7            0.980033            0.980057   \n",
       "3                3            0.979350            0.979380   \n",
       "4                2            0.979361            0.979390   \n",
       "\n",
       "   split2_train_score  mean_train_score  std_train_score  \n",
       "0            0.980055          0.980033         0.000018  \n",
       "1            0.980064          0.980044         0.000017  \n",
       "2            0.980074          0.980055         0.000017  \n",
       "3            0.979399          0.979377         0.000020  \n",
       "4            0.979408          0.979386         0.000020  "
      ]
     },
     "execution_count": 30,
     "metadata": {},
     "output_type": "execute_result"
    }
   ],
   "source": [
    "gcv_results.head()"
   ]
  },
  {
   "cell_type": "code",
   "execution_count": 31,
   "metadata": {},
   "outputs": [],
   "source": [
    "# Create the parameter grid based on the results of grid search and random search again \n",
    "param_grid1 = {\n",
    "    'bootstrap': [True],\n",
    "    'max_depth': [30],\n",
    "    'min_samples_leaf': [1],\n",
    "    'max_features': ['auto'],\n",
    "    'min_samples_split': [10],\n",
    "    'n_estimators': [1,3,5,10,20,50,100,120,150,300,400,500]\n",
    "}\n",
    "# Create a based model\n",
    "rf = RandomForestRegressor(random_state=7)\n",
    "# Instantiate the grid search model\n",
    "grid_search1 = GridSearchCV(estimator = rf, param_grid = param_grid1, \n",
    "                          cv = 3, n_jobs = -1, verbose = 2,scoring =scoring )"
   ]
  },
  {
   "cell_type": "code",
   "execution_count": 32,
   "metadata": {},
   "outputs": [
    {
     "name": "stdout",
     "output_type": "stream",
     "text": [
      "Fitting 3 folds for each of 12 candidates, totalling 36 fits\n"
     ]
    },
    {
     "name": "stderr",
     "output_type": "stream",
     "text": [
      "[Parallel(n_jobs=-1)]: Using backend LokyBackend with 8 concurrent workers.\n",
      "[Parallel(n_jobs=-1)]: Done  36 out of  36 | elapsed: 309.4min finished\n"
     ]
    },
    {
     "data": {
      "text/plain": [
       "GridSearchCV(cv=3, error_score='raise-deprecating',\n",
       "       estimator=RandomForestRegressor(bootstrap=True, criterion='mse', max_depth=None,\n",
       "           max_features='auto', max_leaf_nodes=None,\n",
       "           min_impurity_decrease=0.0, min_impurity_split=None,\n",
       "           min_samples_leaf=1, min_samples_split=2,\n",
       "           min_weight_fraction_leaf=0.0, n_estimators='warn', n_jobs=None,\n",
       "           oob_score=False, random_state=None, verbose=0, warm_start=False),\n",
       "       fit_params=None, iid='warn', n_jobs=-1,\n",
       "       param_grid={'bootstrap': [True], 'max_depth': [30], 'min_samples_leaf': [1], 'max_features': ['auto'], 'min_samples_split': [10], 'n_estimators': [1, 3, 5, 10, 20, 50, 100, 120, 150, 300, 400, 500]},\n",
       "       pre_dispatch='2*n_jobs', refit=True, return_train_score='warn',\n",
       "       scoring='r2', verbose=2)"
      ]
     },
     "execution_count": 32,
     "metadata": {},
     "output_type": "execute_result"
    }
   ],
   "source": [
    "# Fit the grid search to the data\n",
    "grid_search1.fit(X_train1, Y_train1)"
   ]
  },
  {
   "cell_type": "code",
   "execution_count": 33,
   "metadata": {},
   "outputs": [
    {
     "data": {
      "text/plain": [
       "{'bootstrap': True,\n",
       " 'max_depth': 30,\n",
       " 'max_features': 'auto',\n",
       " 'min_samples_leaf': 1,\n",
       " 'min_samples_split': 10,\n",
       " 'n_estimators': 500}"
      ]
     },
     "execution_count": 33,
     "metadata": {},
     "output_type": "execute_result"
    }
   ],
   "source": [
    "grid_search1.best_params_"
   ]
  },
  {
   "cell_type": "code",
   "execution_count": 34,
   "metadata": {},
   "outputs": [
    {
     "name": "stdout",
     "output_type": "stream",
     "text": [
      "Model Performance\n",
      "Accuracy = 99.14%.\n",
      "The absolute error of test data is :  0.059145725783166\n",
      "The MSE of test data is :  0.008332583024021388\n",
      "The out of sample R square is  0.970802110716224\n",
      "Improvement of -0.00%.\n"
     ]
    }
   ],
   "source": [
    "best_grid1 = grid_search1.best_estimator_\n",
    "grid_accuracy1 = evaluate(best_grid1, X_validation, Y_validation)"
   ]
  },
  {
   "cell_type": "code",
   "execution_count": 42,
   "metadata": {},
   "outputs": [
    {
     "name": "stdout",
     "output_type": "stream",
     "text": [
      "Improvement of 0.06%.\n"
     ]
    }
   ],
   "source": [
    "print('Improvement of {:0.2f}%.'.format( 100 * (grid_accuracy1 - base_accuracy) / base_accuracy))"
   ]
  },
  {
   "cell_type": "code",
   "execution_count": 43,
   "metadata": {
    "collapsed": true
   },
   "outputs": [
    {
     "name": "stderr",
     "output_type": "stream",
     "text": [
      "C:\\ProgramData\\Anaconda3\\lib\\site-packages\\sklearn\\utils\\deprecation.py:125: FutureWarning: You are accessing a training score ('split0_train_score'), which will not be available by default any more in 0.21. If you need training scores, please set return_train_score=True\n",
      "  warnings.warn(*warn_args, **warn_kwargs)\n",
      "C:\\ProgramData\\Anaconda3\\lib\\site-packages\\sklearn\\utils\\deprecation.py:125: FutureWarning: You are accessing a training score ('split1_train_score'), which will not be available by default any more in 0.21. If you need training scores, please set return_train_score=True\n",
      "  warnings.warn(*warn_args, **warn_kwargs)\n",
      "C:\\ProgramData\\Anaconda3\\lib\\site-packages\\sklearn\\utils\\deprecation.py:125: FutureWarning: You are accessing a training score ('split2_train_score'), which will not be available by default any more in 0.21. If you need training scores, please set return_train_score=True\n",
      "  warnings.warn(*warn_args, **warn_kwargs)\n",
      "C:\\ProgramData\\Anaconda3\\lib\\site-packages\\sklearn\\utils\\deprecation.py:125: FutureWarning: You are accessing a training score ('std_train_score'), which will not be available by default any more in 0.21. If you need training scores, please set return_train_score=True\n",
      "  warnings.warn(*warn_args, **warn_kwargs)\n"
     ]
    }
   ],
   "source": [
    "gcv_results1 = pd.DataFrame.from_dict(grid_search1.cv_results_)\n",
    "gcv_results1.to_csv('gcv_results1.csv')"
   ]
  },
  {
   "cell_type": "code",
   "execution_count": 99,
   "metadata": {},
   "outputs": [
    {
     "data": {
      "image/png": "[encoded data removed]",
      "text/plain": [
       "<Figure size 1080x432 with 2 Axes>"
      ]
     },
     "metadata": {},
     "output_type": "display_data"
    }
   ],
   "source": [
    "def plot_results(model, param = 'n_estimators', name = 'Num Trees'):\n",
    "    param_name = 'param_%s' % param\n",
    "\n",
    "    # Extract information from the cross validation model\n",
    "    train_scores = model.cv_results_['mean_train_score']\n",
    "    test_scores = model.cv_results_['mean_test_score']\n",
    "    train_time = model.cv_results_['mean_fit_time']\n",
    "    param_values = list(model.cv_results_[param_name])\n",
    "    \n",
    "    # Plot the scores over the parameter\n",
    "    plt.subplots(1, 2, figsize=(15, 6))\n",
    "    plt.subplot(121)\n",
    "    plt.plot(param_values, train_scores, 'bo-', label = 'train')\n",
    "    plt.plot(param_values, test_scores, 'go-', label = 'test')\n",
    "    plt.legend()\n",
    "    plt.xlabel(name)\n",
    "    plt.ylabel('R2')\n",
    "    plt.title('Score vs %s' % name)\n",
    "    \n",
    "    plt.subplot(122)\n",
    "    plt.plot(param_values, train_time, 'ro-')\n",
    "    plt.xlabel(name)\n",
    "    plt.ylabel('Train Time (sec)')\n",
    "    plt.title('Training Time vs %s' % name)   \n",
    "    plt.tight_layout(pad = 4)\n",
    "    \n",
    "plot_results(grid_search1)"
   ]
  },
  {
   "cell_type": "markdown",
   "metadata": {},
   "source": [
    "# Evaluation of all Models on Hold Out Dataset"
   ]
  },
  {
   "cell_type": "code",
   "execution_count": 53,
   "metadata": {},
   "outputs": [],
   "source": [
    "def evaluate1(model, test_features, test_labels,algo,test_type='train'):\n",
    "    predictions = model.predict(test_features)\n",
    "    errors = abs(predictions - test_labels)\n",
    "    mape = 100 * np.mean(errors / test_labels)\n",
    "    accuracy = 100 - mape\n",
    "    r2 = r2_score(test_labels, predictions)\n",
    "    mae = mean_absolute_error(test_labels, predictions)\n",
    "    mse = mean_squared_error(test_labels, predictions)\n",
    "    print('Model Performance on ' , test_type)\n",
    "    print('Accuracy = {:0.2f}%.'.format(accuracy))\n",
    "    print(\"The absolute error of \", test_type, \" data is : \", mae)\n",
    "    print(\"The MSE of \" ,test_type, \" data is : \", mse)\n",
    "    print(\"The out of sample R square of \" ,test_type, \" data is \" , r2)\n",
    "    scores = [algo,r2,mae,mse,accuracy]\n",
    "    return scores "
   ]
  },
  {
   "cell_type": "code",
   "execution_count": 56,
   "metadata": {},
   "outputs": [
    {
     "name": "stdout",
     "output_type": "stream",
     "text": [
      "Model Performance on  train\n",
      "Accuracy = 97.69%.\n",
      "The absolute error of  train  data is :  0.16668833812437642\n",
      "The MSE of  train  data is :  0.041973706043149143\n",
      "The out of sample R square of  train  data is  0.823046417437425\n",
      "Model Performance on  train\n",
      "Accuracy = 97.69%.\n",
      "The absolute error of  train  data is :  0.16669682318184897\n",
      "The MSE of  train  data is :  0.041976355888213\n",
      "The out of sample R square of  train  data is  0.8230352461680402\n",
      "Model Performance on  train\n",
      "Accuracy = 98.24%.\n",
      "The absolute error of  train  data is :  0.12652926664219816\n",
      "The MSE of  train  data is :  0.030455833727324255\n",
      "The out of sample R square of  train  data is  0.8716036920247181\n",
      "Model Performance on  train\n",
      "Accuracy = 98.33%.\n",
      "The absolute error of  train  data is :  0.11990484926408404\n",
      "The MSE of  train  data is :  0.023818224583339657\n",
      "The out of sample R square of  train  data is  0.8995866563231467\n",
      "Model Performance on  train\n",
      "Accuracy = 98.33%.\n",
      "The absolute error of  train  data is :  0.1199286549365729\n",
      "The MSE of  train  data is :  0.02379113590634995\n",
      "The out of sample R square of  train  data is  0.8997008573049539\n",
      "Model Performance on  train\n",
      "Accuracy = 98.33%.\n",
      "The absolute error of  train  data is :  0.1199286549365729\n",
      "The MSE of  train  data is :  0.02379113590634995\n",
      "The out of sample R square of  train  data is  0.8997008573049539\n"
     ]
    }
   ],
   "source": [
    "columns=['ALG','R2','MAE','MSE','Accuracy']\n",
    "score_test= pd.DataFrame(columns=columns)\n",
    "estimators = {'OLS': m, 'Lin Reg' : lr,'base_model':base_model,'RandomCV':best_random,'GridCV1':best_grid,'GridCV2':best_grid}\n",
    "\n",
    "for Algo , estimator in estimators.items():\n",
    "    score_test.loc[len(score_test)] = evaluate1(estimator, X_test, y_test,Algo,test_type='train')"
   ]
  },
  {
   "cell_type": "code",
   "execution_count": 57,
   "metadata": {},
   "outputs": [
    {
     "data": {
      "text/html": [
       "<div>\n",
       "<style scoped>\n",
       "    .dataframe tbody tr th:only-of-type {\n",
       "        vertical-align: middle;\n",
       "    }\n",
       "\n",
       "    .dataframe tbody tr th {\n",
       "        vertical-align: top;\n",
       "    }\n",
       "\n",
       "    .dataframe thead th {\n",
       "        text-align: right;\n",
       "    }\n",
       "</style>\n",
       "<table border=\"1\" class=\"dataframe\">\n",
       "  <thead>\n",
       "    <tr style=\"text-align: right;\">\n",
       "      <th></th>\n",
       "      <th>ALG</th>\n",
       "      <th>R2</th>\n",
       "      <th>MAE</th>\n",
       "      <th>MSE</th>\n",
       "      <th>Accuracy</th>\n",
       "    </tr>\n",
       "  </thead>\n",
       "  <tbody>\n",
       "    <tr>\n",
       "      <th>0</th>\n",
       "      <td>OLS</td>\n",
       "      <td>0.823046</td>\n",
       "      <td>0.166688</td>\n",
       "      <td>0.041974</td>\n",
       "      <td>97.692620</td>\n",
       "    </tr>\n",
       "    <tr>\n",
       "      <th>1</th>\n",
       "      <td>Lin Reg</td>\n",
       "      <td>0.823035</td>\n",
       "      <td>0.166697</td>\n",
       "      <td>0.041976</td>\n",
       "      <td>97.692543</td>\n",
       "    </tr>\n",
       "    <tr>\n",
       "      <th>2</th>\n",
       "      <td>base_model</td>\n",
       "      <td>0.871604</td>\n",
       "      <td>0.126529</td>\n",
       "      <td>0.030456</td>\n",
       "      <td>98.236963</td>\n",
       "    </tr>\n",
       "    <tr>\n",
       "      <th>3</th>\n",
       "      <td>RandomCV</td>\n",
       "      <td>0.899587</td>\n",
       "      <td>0.119905</td>\n",
       "      <td>0.023818</td>\n",
       "      <td>98.328908</td>\n",
       "    </tr>\n",
       "    <tr>\n",
       "      <th>4</th>\n",
       "      <td>GridCV1</td>\n",
       "      <td>0.899701</td>\n",
       "      <td>0.119929</td>\n",
       "      <td>0.023791</td>\n",
       "      <td>98.328548</td>\n",
       "    </tr>\n",
       "    <tr>\n",
       "      <th>5</th>\n",
       "      <td>GridCV2</td>\n",
       "      <td>0.899701</td>\n",
       "      <td>0.119929</td>\n",
       "      <td>0.023791</td>\n",
       "      <td>98.328548</td>\n",
       "    </tr>\n",
       "  </tbody>\n",
       "</table>\n",
       "</div>"
      ],
      "text/plain": [
       "          ALG        R2       MAE       MSE   Accuracy\n",
       "0         OLS  0.823046  0.166688  0.041974  97.692620\n",
       "1     Lin Reg  0.823035  0.166697  0.041976  97.692543\n",
       "2  base_model  0.871604  0.126529  0.030456  98.236963\n",
       "3    RandomCV  0.899587  0.119905  0.023818  98.328908\n",
       "4     GridCV1  0.899701  0.119929  0.023791  98.328548\n",
       "5     GridCV2  0.899701  0.119929  0.023791  98.328548"
      ]
     },
     "execution_count": 57,
     "metadata": {},
     "output_type": "execute_result"
    }
   ],
   "source": [
    "score_test"
   ]
  },
  {
   "cell_type": "code",
   "execution_count": 119,
   "metadata": {},
   "outputs": [
    {
     "data": {
      "text/plain": [
       "Text(0.5, 1.0, 'Accuracy Vs Algorithm')"
      ]
     },
     "execution_count": 119,
     "metadata": {},
     "output_type": "execute_result"
    },
    {
     "data": {
      "image/png": "[encoded data removed]",
      "text/plain": [
       "<Figure size 1440x1080 with 4 Axes>"
      ]
     },
     "metadata": {},
     "output_type": "display_data"
    }
   ],
   "source": [
    "# Plot the scores over the Algorithm\n",
    "plt.subplots(2, 2, figsize=(20, 15))\n",
    "plt.subplot(221)\n",
    "plt.plot(score_test['ALG'], score_test['R2'], 'bo-')\n",
    "plt.ylabel('R2')\n",
    "plt.xlabel('Algorithms')\n",
    "plt.title('Score Vs Algorithm')\n",
    "    \n",
    "plt.subplot(222)\n",
    "plt.plot(score_test['ALG'], score_test['MAE'], 'go-')\n",
    "plt.ylabel('Mean Absolute Error')\n",
    "plt.xlabel('Algorithms')\n",
    "plt.title('MAE Vs Algorithm')\n",
    "\n",
    "plt.subplot(223)\n",
    "plt.plot(score_test['ALG'], score_test['MSE'], 'ro-')\n",
    "plt.ylabel('Mean Square Error')\n",
    "plt.xlabel('Algorithms')\n",
    "plt.title('MSE Vs Algorithm')\n",
    "\n",
    "plt.subplot(224)\n",
    "plt.plot(score_test['ALG'], score_test['Accuracy'], 'yo-')\n",
    "plt.ylabel('Accuracy')\n",
    "plt.xlabel('Algorithms')\n",
    "plt.title('Accuracy Vs Algorithm')\n",
    "\n"
   ]
  }
 ],
 "metadata": {
  "kernelspec": {
   "display_name": "Python 3",
   "language": "python",
   "name": "python3"
  },
  "language_info": {
   "codemirror_mode": {
    "name": "ipython",
    "version": 3
   },
   "file_extension": ".py",
   "mimetype": "text/x-python",
   "name": "python",
   "nbconvert_exporter": "python",
   "pygments_lexer": "ipython3",
   "version": "3.7.0"
  }
 },
 "nbformat": 4,
 "nbformat_minor": 2
}
