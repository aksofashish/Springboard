{
 "cells": [
  {
   "cell_type": "code",
   "execution_count": 1,
   "metadata": {},
   "outputs": [],
   "source": [
    "import numpy as np\n",
    "import pandas as pd\n",
    "pd.options.display.max_columns = None"
   ]
  },
  {
   "cell_type": "markdown",
   "metadata": {},
   "source": [
    "# Rate Dataset\n",
    "This Dataset has plan-level data on individual rates based on an eligible subscriber's age, tobacco use, and geographic location.\n",
    "Below columns are going to be used for analysis of how the plan are distributed across all states based on the average individual premium. Like on average which state pays more for individual premiums. For further information please refer to link http://www.nber.org/cciio/marketplace-puf/2018/rate2018.pdf\n",
    "Referring to the link given, 2017 onwards there few columns missing\n",
    "They are 'IssuerId2', 'RowNumber' and  'VersionNum'.\n",
    "So we will not take them in our analysis.\n"
   ]
  },
  {
   "cell_type": "code",
   "execution_count": 2,
   "metadata": {},
   "outputs": [],
   "source": [
    "# As we dont have all the columns in all files, we are setting required columns for the analysis and filter only those columns \n",
    "# from the files.\n",
    "required_colmuns = ['BusinessYear', 'StateCode', 'IssuerId', 'RateEffectiveDate',\n",
    "       'RateExpirationDate', 'PlanId', 'RatingAreaId', 'Tobacco', 'Age',\n",
    "       'IndividualRate', 'IndividualTobaccoRate', 'Couple',\n",
    "       'PrimarySubscriberAndOneDependent', 'PrimarySubscriberAndTwoDependents',\n",
    "       'PrimarySubscriberAndThreeOrMoreDependents', 'CoupleAndOneDependent',\n",
    "       'CoupleAndTwoDependents', 'CoupleAndThreeOrMoreDependents']"
   ]
  },
  {
   "cell_type": "code",
   "execution_count": 3,
   "metadata": {},
   "outputs": [],
   "source": [
    "Rate_2014 = pd.read_csv('Exchange Data/2014/Rate_PUF.csv',low_memory=False)\n",
    "Rate_2014 = Rate_2014[required_colmuns]\n",
    "Rate_2015 = pd.read_csv('Exchange Data/2015/Rate_PUF.csv',low_memory=False)\n",
    "Rate_2015 = Rate_2015[required_colmuns]\n",
    "Rate_2016 = pd.read_csv('Exchange Data/2016/Rate_PUF.csv',low_memory=False)\n",
    "Rate_2016 = Rate_2016[required_colmuns]\n",
    "Rate_2017 = pd.read_csv('Exchange Data/2017/Rate_PUF.csv',low_memory=False)\n",
    "Rate_2017 = Rate_2017[required_colmuns]\n",
    "Rate_2018 = pd.read_csv('Exchange Data/2018/Rate_PUF.csv',low_memory=False)\n",
    "Rate_2018 = Rate_2018[required_colmuns]\n",
    "Rate_2019 = pd.read_csv('Exchange Data/2019/Rate_PUF.csv',low_memory=False)\n",
    "Rate_2019 = Rate_2019[required_colmuns]"
   ]
  },
  {
   "cell_type": "code",
   "execution_count": 4,
   "metadata": {},
   "outputs": [],
   "source": [
    "rate_all = pd.concat([Rate_2014,Rate_2015,Rate_2016,Rate_2017,Rate_2018,Rate_2019])"
   ]
  },
  {
   "cell_type": "code",
   "execution_count": 5,
   "metadata": {},
   "outputs": [
    {
     "name": "stdout",
     "output_type": "stream",
     "text": [
      "<class 'pandas.core.frame.DataFrame'>\n",
      "Int64Index: 19999814 entries, 0 to 1968925\n",
      "Data columns (total 18 columns):\n",
      "BusinessYear                                 int64\n",
      "StateCode                                    object\n",
      "IssuerId                                     int64\n",
      "RateEffectiveDate                            object\n",
      "RateExpirationDate                           object\n",
      "PlanId                                       object\n",
      "RatingAreaId                                 object\n",
      "Tobacco                                      object\n",
      "Age                                          object\n",
      "IndividualRate                               float64\n",
      "IndividualTobaccoRate                        float64\n",
      "Couple                                       float64\n",
      "PrimarySubscriberAndOneDependent             float64\n",
      "PrimarySubscriberAndTwoDependents            float64\n",
      "PrimarySubscriberAndThreeOrMoreDependents    float64\n",
      "CoupleAndOneDependent                        float64\n",
      "CoupleAndTwoDependents                       float64\n",
      "CoupleAndThreeOrMoreDependents               float64\n",
      "dtypes: float64(9), int64(2), object(7)\n",
      "memory usage: 2.8+ GB\n"
     ]
    }
   ],
   "source": [
    "rate_all.info()"
   ]
  },
  {
   "cell_type": "code",
   "execution_count": 6,
   "metadata": {},
   "outputs": [],
   "source": [
    "#Change the categorical data in category\n",
    "rate_all['Age'] = rate_all['Age'].astype('category')\n",
    "rate_all['Tobacco'] = rate_all['Tobacco'].astype('category')\n",
    "rate_all['RatingAreaId'] = rate_all['RatingAreaId'].astype('category')\n",
    "rate_all['StateCode'] = rate_all['StateCode'].astype('category')\n",
    "rate_all['RateEffectiveDate'] = pd.to_datetime(rate_all['RateEffectiveDate'])\n",
    "rate_all['RateExpirationDate'] = pd.to_datetime(rate_all['RateExpirationDate'])"
   ]
  },
  {
   "cell_type": "code",
   "execution_count": 7,
   "metadata": {},
   "outputs": [
    {
     "data": {
      "text/plain": [
       "0.000000         1122377\n",
       "99.990000         102071\n",
       "999999.000000      47790\n",
       "9999.000000        45433\n",
       "99.000000          36455\n",
       "25.650000          25566\n",
       "1.500000           24660\n",
       "18.490000          19929\n",
       "21.990000          18093\n",
       "32.800000          17475\n",
       "22.490000          17320\n",
       "28.270000          17045\n",
       "11.500000          15135\n",
       "11.280000          14942\n",
       "29.000000          14732\n",
       "29.990000          14570\n",
       "25.680000          14522\n",
       "25.350000          14337\n",
       "26.300000          14073\n",
       "35.000000          13836\n",
       "26.000000          13332\n",
       "38.000000          13206\n",
       "29.130000          13076\n",
       "27.000000          12380\n",
       "34.470000          12233\n",
       "21.590000          12213\n",
       "17.490000          12101\n",
       "36.300000          11622\n",
       "36.010000          11551\n",
       "20.750000          11526\n",
       "                  ...   \n",
       "1273.810000            1\n",
       "1702.720000            1\n",
       "1274.440000            1\n",
       "1756.220000            1\n",
       "1754.780000            1\n",
       "1416.850000            1\n",
       "1423.100000            1\n",
       "1757.470000            1\n",
       "1272.940000            1\n",
       "1757.970000            1\n",
       "1757.780000            1\n",
       "1757.280000            1\n",
       "2667.000000            1\n",
       "1270.060000            1\n",
       "1754.970000            1\n",
       "394.796904             1\n",
       "1697.780000            1\n",
       "1755.720000            1\n",
       "2669.000000            1\n",
       "1759.780000            1\n",
       "547.246238             1\n",
       "1759.280000            1\n",
       "1275.190000            1\n",
       "1752.720000            1\n",
       "1759.030000            1\n",
       "1758.780000            1\n",
       "1422.100000            1\n",
       "1758.280000            1\n",
       "1409.650000            1\n",
       "1323.630000            1\n",
       "Name: IndividualRate, Length: 180491, dtype: int64"
      ]
     },
     "execution_count": 7,
     "metadata": {},
     "output_type": "execute_result"
    }
   ],
   "source": [
    "rate_all['IndividualRate'].sort_values(ascending=False).value_counts()\n",
    "#There is some weird data with rates over 9000. As per the ACA rules it cannot be that much of amount. "
   ]
  },
  {
   "cell_type": "code",
   "execution_count": 8,
   "metadata": {},
   "outputs": [
    {
     "name": "stdout",
     "output_type": "stream",
     "text": [
      "[999999.     9999.     9999.99]\n"
     ]
    }
   ],
   "source": [
    "#Lets delete that data from the dataset. These seems to be outliers in the dataset\n",
    "print(rate_all[rate_all.IndividualRate>9000].IndividualRate.unique())\n"
   ]
  },
  {
   "cell_type": "code",
   "execution_count": 9,
   "metadata": {},
   "outputs": [
    {
     "data": {
      "text/html": [
       "<div>\n",
       "<style scoped>\n",
       "    .dataframe tbody tr th:only-of-type {\n",
       "        vertical-align: middle;\n",
       "    }\n",
       "\n",
       "    .dataframe tbody tr th {\n",
       "        vertical-align: top;\n",
       "    }\n",
       "\n",
       "    .dataframe thead th {\n",
       "        text-align: right;\n",
       "    }\n",
       "</style>\n",
       "<table border=\"1\" class=\"dataframe\">\n",
       "  <thead>\n",
       "    <tr style=\"text-align: right;\">\n",
       "      <th></th>\n",
       "      <th>BusinessYear</th>\n",
       "      <th>StateCode</th>\n",
       "      <th>IssuerId</th>\n",
       "      <th>RateEffectiveDate</th>\n",
       "      <th>RateExpirationDate</th>\n",
       "      <th>PlanId</th>\n",
       "      <th>RatingAreaId</th>\n",
       "      <th>Tobacco</th>\n",
       "      <th>Age</th>\n",
       "      <th>IndividualRate</th>\n",
       "      <th>IndividualTobaccoRate</th>\n",
       "      <th>Couple</th>\n",
       "      <th>PrimarySubscriberAndOneDependent</th>\n",
       "      <th>PrimarySubscriberAndTwoDependents</th>\n",
       "      <th>PrimarySubscriberAndThreeOrMoreDependents</th>\n",
       "      <th>CoupleAndOneDependent</th>\n",
       "      <th>CoupleAndTwoDependents</th>\n",
       "      <th>CoupleAndThreeOrMoreDependents</th>\n",
       "    </tr>\n",
       "  </thead>\n",
       "  <tbody>\n",
       "    <tr>\n",
       "      <th>0</th>\n",
       "      <td>2014</td>\n",
       "      <td>AK</td>\n",
       "      <td>21989</td>\n",
       "      <td>2014-01-01</td>\n",
       "      <td>2014-12-31</td>\n",
       "      <td>21989AK0010001</td>\n",
       "      <td>Rating Area 1</td>\n",
       "      <td>No Preference</td>\n",
       "      <td>0-20</td>\n",
       "      <td>29.00</td>\n",
       "      <td>NaN</td>\n",
       "      <td>NaN</td>\n",
       "      <td>NaN</td>\n",
       "      <td>NaN</td>\n",
       "      <td>NaN</td>\n",
       "      <td>NaN</td>\n",
       "      <td>NaN</td>\n",
       "      <td>NaN</td>\n",
       "    </tr>\n",
       "    <tr>\n",
       "      <th>1</th>\n",
       "      <td>2014</td>\n",
       "      <td>AK</td>\n",
       "      <td>21989</td>\n",
       "      <td>2014-01-01</td>\n",
       "      <td>2014-12-31</td>\n",
       "      <td>21989AK0020001</td>\n",
       "      <td>Rating Area 1</td>\n",
       "      <td>No Preference</td>\n",
       "      <td>Family Option</td>\n",
       "      <td>36.95</td>\n",
       "      <td>NaN</td>\n",
       "      <td>73.9</td>\n",
       "      <td>107.61</td>\n",
       "      <td>107.61</td>\n",
       "      <td>107.61</td>\n",
       "      <td>144.56</td>\n",
       "      <td>144.56</td>\n",
       "      <td>144.56</td>\n",
       "    </tr>\n",
       "    <tr>\n",
       "      <th>2</th>\n",
       "      <td>2014</td>\n",
       "      <td>AK</td>\n",
       "      <td>21989</td>\n",
       "      <td>2014-01-01</td>\n",
       "      <td>2014-12-31</td>\n",
       "      <td>21989AK0020001</td>\n",
       "      <td>Rating Area 2</td>\n",
       "      <td>No Preference</td>\n",
       "      <td>Family Option</td>\n",
       "      <td>36.95</td>\n",
       "      <td>NaN</td>\n",
       "      <td>73.9</td>\n",
       "      <td>107.61</td>\n",
       "      <td>107.61</td>\n",
       "      <td>107.61</td>\n",
       "      <td>144.56</td>\n",
       "      <td>144.56</td>\n",
       "      <td>144.56</td>\n",
       "    </tr>\n",
       "  </tbody>\n",
       "</table>\n",
       "</div>"
      ],
      "text/plain": [
       "   BusinessYear StateCode  IssuerId RateEffectiveDate RateExpirationDate  \\\n",
       "0          2014        AK     21989        2014-01-01         2014-12-31   \n",
       "1          2014        AK     21989        2014-01-01         2014-12-31   \n",
       "2          2014        AK     21989        2014-01-01         2014-12-31   \n",
       "\n",
       "           PlanId   RatingAreaId        Tobacco            Age  \\\n",
       "0  21989AK0010001  Rating Area 1  No Preference           0-20   \n",
       "1  21989AK0020001  Rating Area 1  No Preference  Family Option   \n",
       "2  21989AK0020001  Rating Area 2  No Preference  Family Option   \n",
       "\n",
       "   IndividualRate  IndividualTobaccoRate  Couple  \\\n",
       "0           29.00                    NaN     NaN   \n",
       "1           36.95                    NaN    73.9   \n",
       "2           36.95                    NaN    73.9   \n",
       "\n",
       "   PrimarySubscriberAndOneDependent  PrimarySubscriberAndTwoDependents  \\\n",
       "0                               NaN                                NaN   \n",
       "1                            107.61                             107.61   \n",
       "2                            107.61                             107.61   \n",
       "\n",
       "   PrimarySubscriberAndThreeOrMoreDependents  CoupleAndOneDependent  \\\n",
       "0                                        NaN                    NaN   \n",
       "1                                     107.61                 144.56   \n",
       "2                                     107.61                 144.56   \n",
       "\n",
       "   CoupleAndTwoDependents  CoupleAndThreeOrMoreDependents  \n",
       "0                     NaN                             NaN  \n",
       "1                  144.56                          144.56  \n",
       "2                  144.56                          144.56  "
      ]
     },
     "execution_count": 9,
     "metadata": {},
     "output_type": "execute_result"
    }
   ],
   "source": [
    "rate_all = rate_all[rate_all.IndividualRate <9000]\n",
    "rate_all.head(3)"
   ]
  },
  {
   "cell_type": "code",
   "execution_count": 10,
   "metadata": {},
   "outputs": [
    {
     "data": {
      "text/plain": [
       "False    13285471\n",
       "True      6620040\n",
       "Name: IndividualTobaccoRate, dtype: int64"
      ]
     },
     "execution_count": 10,
     "metadata": {},
     "output_type": "execute_result"
    }
   ],
   "source": [
    "rate_all['IndividualTobaccoRate'].notnull().value_counts()\n",
    "#There many values where ther is null. It should be 0 "
   ]
  },
  {
   "cell_type": "code",
   "execution_count": 11,
   "metadata": {},
   "outputs": [
    {
     "data": {
      "text/plain": [
       "True    19905511\n",
       "Name: IndividualTobaccoRate, dtype: int64"
      ]
     },
     "execution_count": 11,
     "metadata": {},
     "output_type": "execute_result"
    }
   ],
   "source": [
    "rate_all['IndividualTobaccoRate'] = rate_all['IndividualTobaccoRate'].fillna(0)\n",
    "rate_all['IndividualTobaccoRate'].notnull().value_counts()"
   ]
  },
  {
   "cell_type": "code",
   "execution_count": 12,
   "metadata": {},
   "outputs": [
    {
     "data": {
      "text/plain": [
       "False    19858296\n",
       "True        47215\n",
       "Name: Couple, dtype: int64"
      ]
     },
     "execution_count": 12,
     "metadata": {},
     "output_type": "execute_result"
    }
   ],
   "source": [
    "rate_all['Couple'].notnull().value_counts()\n",
    "#There many values where there is null. It should be 0 "
   ]
  },
  {
   "cell_type": "code",
   "execution_count": 13,
   "metadata": {},
   "outputs": [
    {
     "data": {
      "text/plain": [
       "True    19905511\n",
       "Name: Couple, dtype: int64"
      ]
     },
     "execution_count": 13,
     "metadata": {},
     "output_type": "execute_result"
    }
   ],
   "source": [
    "rate_all['Couple'] = rate_all['Couple'].fillna(0)\n",
    "rate_all['Couple'].notnull().value_counts()"
   ]
  },
  {
   "cell_type": "code",
   "execution_count": 14,
   "metadata": {},
   "outputs": [
    {
     "data": {
      "text/plain": [
       "False    19858296\n",
       "True        47215\n",
       "Name: PrimarySubscriberAndOneDependent, dtype: int64"
      ]
     },
     "execution_count": 14,
     "metadata": {},
     "output_type": "execute_result"
    }
   ],
   "source": [
    "rate_all['PrimarySubscriberAndOneDependent'].notnull().value_counts()\n",
    "#There many values where there is null. It should be 0"
   ]
  },
  {
   "cell_type": "code",
   "execution_count": 15,
   "metadata": {},
   "outputs": [
    {
     "data": {
      "text/plain": [
       "True    19905511\n",
       "Name: PrimarySubscriberAndOneDependent, dtype: int64"
      ]
     },
     "execution_count": 15,
     "metadata": {},
     "output_type": "execute_result"
    }
   ],
   "source": [
    "rate_all['PrimarySubscriberAndOneDependent'] = rate_all['PrimarySubscriberAndOneDependent'].fillna(0)\n",
    "rate_all['PrimarySubscriberAndOneDependent'].notnull().value_counts()"
   ]
  },
  {
   "cell_type": "code",
   "execution_count": 16,
   "metadata": {},
   "outputs": [
    {
     "data": {
      "text/plain": [
       "False    19858296\n",
       "True        47215\n",
       "Name: PrimarySubscriberAndTwoDependents, dtype: int64"
      ]
     },
     "execution_count": 16,
     "metadata": {},
     "output_type": "execute_result"
    }
   ],
   "source": [
    "rate_all['PrimarySubscriberAndTwoDependents'].notnull().value_counts()\n",
    "#There many values where there is null. It should be 0"
   ]
  },
  {
   "cell_type": "code",
   "execution_count": 17,
   "metadata": {},
   "outputs": [
    {
     "data": {
      "text/plain": [
       "True    19905511\n",
       "Name: PrimarySubscriberAndTwoDependents, dtype: int64"
      ]
     },
     "execution_count": 17,
     "metadata": {},
     "output_type": "execute_result"
    }
   ],
   "source": [
    "rate_all['PrimarySubscriberAndTwoDependents'] = rate_all['PrimarySubscriberAndTwoDependents'].fillna(0)\n",
    "rate_all['PrimarySubscriberAndTwoDependents'].notnull().value_counts()"
   ]
  },
  {
   "cell_type": "code",
   "execution_count": 18,
   "metadata": {},
   "outputs": [
    {
     "data": {
      "text/plain": [
       "False    19858296\n",
       "True        47215\n",
       "Name: PrimarySubscriberAndThreeOrMoreDependents, dtype: int64"
      ]
     },
     "execution_count": 18,
     "metadata": {},
     "output_type": "execute_result"
    }
   ],
   "source": [
    "rate_all['PrimarySubscriberAndThreeOrMoreDependents'].notnull().value_counts()\n",
    "#There many values where there is null. It should be 0"
   ]
  },
  {
   "cell_type": "code",
   "execution_count": 19,
   "metadata": {},
   "outputs": [
    {
     "data": {
      "text/plain": [
       "True    19905511\n",
       "Name: PrimarySubscriberAndThreeOrMoreDependents, dtype: int64"
      ]
     },
     "execution_count": 19,
     "metadata": {},
     "output_type": "execute_result"
    }
   ],
   "source": [
    "rate_all['PrimarySubscriberAndThreeOrMoreDependents'] = rate_all['PrimarySubscriberAndThreeOrMoreDependents'].fillna(0)\n",
    "rate_all['PrimarySubscriberAndThreeOrMoreDependents'].notnull().value_counts()"
   ]
  },
  {
   "cell_type": "code",
   "execution_count": 20,
   "metadata": {},
   "outputs": [
    {
     "data": {
      "text/plain": [
       "False    19858296\n",
       "True        47215\n",
       "Name: CoupleAndOneDependent, dtype: int64"
      ]
     },
     "execution_count": 20,
     "metadata": {},
     "output_type": "execute_result"
    }
   ],
   "source": [
    "rate_all['CoupleAndOneDependent'].notnull().value_counts()\n",
    "#There many values where there is null. It should be 0"
   ]
  },
  {
   "cell_type": "code",
   "execution_count": 21,
   "metadata": {},
   "outputs": [
    {
     "data": {
      "text/plain": [
       "True    19905511\n",
       "Name: CoupleAndOneDependent, dtype: int64"
      ]
     },
     "execution_count": 21,
     "metadata": {},
     "output_type": "execute_result"
    }
   ],
   "source": [
    "rate_all['CoupleAndOneDependent'] = rate_all['CoupleAndOneDependent'].fillna(0)\n",
    "rate_all['CoupleAndOneDependent'].notnull().value_counts()"
   ]
  },
  {
   "cell_type": "code",
   "execution_count": 22,
   "metadata": {},
   "outputs": [
    {
     "data": {
      "text/plain": [
       "False    19858296\n",
       "True        47215\n",
       "Name: CoupleAndTwoDependents, dtype: int64"
      ]
     },
     "execution_count": 22,
     "metadata": {},
     "output_type": "execute_result"
    }
   ],
   "source": [
    "rate_all['CoupleAndTwoDependents'].notnull().value_counts()\n",
    "#There many values where there is null. It should be 0"
   ]
  },
  {
   "cell_type": "code",
   "execution_count": 23,
   "metadata": {},
   "outputs": [
    {
     "data": {
      "text/plain": [
       "True    19905511\n",
       "Name: CoupleAndTwoDependents, dtype: int64"
      ]
     },
     "execution_count": 23,
     "metadata": {},
     "output_type": "execute_result"
    }
   ],
   "source": [
    "rate_all['CoupleAndTwoDependents'] = rate_all['CoupleAndTwoDependents'].fillna(0)\n",
    "rate_all['CoupleAndTwoDependents'].notnull().value_counts()"
   ]
  },
  {
   "cell_type": "code",
   "execution_count": 24,
   "metadata": {},
   "outputs": [
    {
     "data": {
      "text/plain": [
       "False    19858296\n",
       "True        47215\n",
       "Name: CoupleAndThreeOrMoreDependents, dtype: int64"
      ]
     },
     "execution_count": 24,
     "metadata": {},
     "output_type": "execute_result"
    }
   ],
   "source": [
    "rate_all['CoupleAndThreeOrMoreDependents'].notnull().value_counts()\n",
    "#There many values where there is null. It should be 0"
   ]
  },
  {
   "cell_type": "code",
   "execution_count": 25,
   "metadata": {},
   "outputs": [
    {
     "data": {
      "text/plain": [
       "True    19905511\n",
       "Name: CoupleAndThreeOrMoreDependents, dtype: int64"
      ]
     },
     "execution_count": 25,
     "metadata": {},
     "output_type": "execute_result"
    }
   ],
   "source": [
    "rate_all['CoupleAndThreeOrMoreDependents'] = rate_all['CoupleAndThreeOrMoreDependents'].fillna(0)\n",
    "rate_all['CoupleAndThreeOrMoreDependents'].notnull().value_counts()"
   ]
  },
  {
   "cell_type": "code",
   "execution_count": 26,
   "metadata": {},
   "outputs": [],
   "source": [
    "#In the last few check we can see that all of them has same number of NUll values(47217)\n",
    "#We could have dropped the same rows as well. But imputing 0 will be a better idea as per the business rules "
   ]
  },
  {
   "cell_type": "code",
   "execution_count": 27,
   "metadata": {},
   "outputs": [],
   "source": [
    "rate_all.to_csv('merged_rate.csv')"
   ]
  },
  {
   "cell_type": "code",
   "execution_count": null,
   "metadata": {},
   "outputs": [],
   "source": []
  },
  {
   "cell_type": "code",
   "execution_count": null,
   "metadata": {},
   "outputs": [],
   "source": []
  },
  {
   "cell_type": "code",
   "execution_count": null,
   "metadata": {},
   "outputs": [],
   "source": []
  },
  {
   "cell_type": "code",
   "execution_count": null,
   "metadata": {},
   "outputs": [],
   "source": []
  }
 ],
 "metadata": {
  "kernelspec": {
   "display_name": "Python 3",
   "language": "python",
   "name": "python3"
  },
  "language_info": {
   "codemirror_mode": {
    "name": "ipython",
    "version": 3
   },
   "file_extension": ".py",
   "mimetype": "text/x-python",
   "name": "python",
   "nbconvert_exporter": "python",
   "pygments_lexer": "ipython3",
   "version": "3.7.0"
  }
 },
 "nbformat": 4,
 "nbformat_minor": 2
}
