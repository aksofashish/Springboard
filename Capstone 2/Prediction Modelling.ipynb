{
 "cells": [
  {
   "cell_type": "code",
   "execution_count": 1,
   "metadata": {},
   "outputs": [
    {
     "name": "stderr",
     "output_type": "stream",
     "text": [
      "C:\\Users\\amsha\\AppData\\Local\\Continuum\\anaconda3\\lib\\site-packages\\gensim\\utils.py:1197: UserWarning: detected Windows; aliasing chunkize to chunkize_serial\n",
      "  warnings.warn(\"detected Windows; aliasing chunkize to chunkize_serial\")\n",
      "[nltk_data] Downloading package stopwords to\n",
      "[nltk_data]     C:\\Users\\amsha\\AppData\\Roaming\\nltk_data...\n",
      "[nltk_data]   Package stopwords is already up-to-date!\n",
      "[nltk_data] Downloading package punkt to\n",
      "[nltk_data]     C:\\Users\\amsha\\AppData\\Roaming\\nltk_data...\n",
      "[nltk_data]   Package punkt is already up-to-date!\n",
      "[nltk_data] Downloading package wordnet to\n",
      "[nltk_data]     C:\\Users\\amsha\\AppData\\Roaming\\nltk_data...\n",
      "[nltk_data]   Package wordnet is already up-to-date!\n",
      "[nltk_data] Downloading package averaged_perceptron_tagger to\n",
      "[nltk_data]     C:\\Users\\amsha\\AppData\\Roaming\\nltk_data...\n",
      "[nltk_data]   Package averaged_perceptron_tagger is already up-to-\n",
      "[nltk_data]       date!\n",
      "[nltk_data] Downloading package words to\n",
      "[nltk_data]     C:\\Users\\amsha\\AppData\\Roaming\\nltk_data...\n",
      "[nltk_data]   Package words is already up-to-date!\n"
     ]
    }
   ],
   "source": [
    "#Import Necessary Packages\n",
    "import pandas as pd\n",
    "import numpy as np\n",
    "import matplotlib.pyplot as plt\n",
    "import seaborn as sns\n",
    "import itertools\n",
    "from nltk.corpus import stopwords\n",
    "from os import path\n",
    "from PIL import Image\n",
    "from wordcloud import WordCloud, STOPWORDS, ImageColorGenerator\n",
    "import nltk\n",
    "import copy\n",
    "from sklearn.feature_extraction.text import TfidfTransformer\n",
    "from sklearn.feature_extraction.text import TfidfVectorizer\n",
    "from sklearn.feature_extraction.text import CountVectorizer\n",
    "from sklearn.model_selection import cross_validate\n",
    "from sklearn.svm import LinearSVC\n",
    "import gc #garbage collector\n",
    "import time\n",
    "from gensim.utils import lemmatize\n",
    "#from pattern.en import parse\n",
    "\n",
    "#------------------------------------------------------------------------#\n",
    "import re #regular expression/pattern matching\n",
    "import random\n",
    "import nltk\n",
    "import string\n",
    "from nltk.corpus import stopwords\n",
    "from nltk.corpus import wordnet\n",
    "from nltk.tokenize import word_tokenize \n",
    "from nltk.stem import WordNetLemmatizer \n",
    "nltk.download('stopwords')\n",
    "nltk.download('punkt')\n",
    "nltk.download('wordnet')\n",
    "nltk.download('averaged_perceptron_tagger')\n",
    "nltk.download('words')\n",
    "\n",
    "#------------------------------------------------------------------------#\n",
    "\n",
    "from sklearn.linear_model import LogisticRegression\n",
    "from sklearn.ensemble import RandomForestClassifier\n",
    "from sklearn.svm import SVC\n",
    "from sklearn.neighbors import KNeighborsClassifier\n",
    "from sklearn.linear_model import SGDClassifier\n",
    "from sklearn.naive_bayes import MultinomialNB, BernoulliNB\n",
    "\n",
    "from sklearn.metrics import confusion_matrix, accuracy_score, classification_report,roc_curve\n",
    "from sklearn.metrics import accuracy_score, f1_score, precision_score, recall_score, classification_report"
   ]
  },
  {
   "cell_type": "code",
   "execution_count": 3,
   "metadata": {},
   "outputs": [
    {
     "name": "stdout",
     "output_type": "stream",
     "text": [
      "Train: (1306122, 4)\n",
      "Test: (375806, 3)\n"
     ]
    }
   ],
   "source": [
    "train_df = pd.read_csv(\"train_clean1.csv\", encoding='utf8')\n",
    "test_df = pd.read_csv(\"test_clean1.csv\", encoding='utf8')\n",
    "all_test_texts = ''.join(test_df.question_text.values.tolist())\n",
    "\n",
    "print('Train:', train_df.shape)\n",
    "print('Test:', test_df.shape)"
   ]
  },
  {
   "cell_type": "code",
   "execution_count": 4,
   "metadata": {},
   "outputs": [
    {
     "name": "stdout",
     "output_type": "stream",
     "text": [
      "Total number of row with NaN values\n",
      "85\n",
      "After Filing Null values\n",
      "Series([], Name: clean_question_text, dtype: object)\n",
      "Total number of row with NaN values\n",
      "37\n",
      "After Filing Null values\n",
      "Series([], Name: clean_question_text, dtype: object)\n",
      "Total Train: (1681928,)\n"
     ]
    }
   ],
   "source": [
    "X_train = train_df['clean_question_text']\n",
    "y_train = train_df['target']\n",
    "X_test = test_df['clean_question_text']\n",
    "\n",
    "# Check for Null values and fill them so that Vectorizer works fine\n",
    "print(\"Total number of row with NaN values\")\n",
    "print(len(X_train[X_train.isnull()]))\n",
    "X_train = X_train.fillna(\"_na_\")\n",
    "print(\"After Filing Null values\")\n",
    "print(X_train[X_train.isnull()])\n",
    "\n",
    "print(\"Total number of row with NaN values\")\n",
    "print(len(X_test[X_test.isnull()]))\n",
    "X_test = X_test.fillna(\"_na_\")\n",
    "print(\"After Filing Null values\")\n",
    "print(X_test[X_test.isnull()])\n",
    "\n",
    "X_total = pd.concat([X_train,X_test],axis=0)\n",
    "X_total = X_total.reset_index()['clean_question_text']\n",
    "print('Total Train:', X_total.shape)\n",
    "Y_train = train_df['target']"
   ]
  },
  {
   "cell_type": "code",
   "execution_count": 5,
   "metadata": {},
   "outputs": [],
   "source": [
    "def remove_non_english_words(sent):\n",
    "    sent = \" \".join(w for w in nltk.wordpunct_tokenize(sent) \\\n",
    "             if w.lower() in words or not w.isalpha())\n",
    "    return sent\n",
    "words = set(nltk.corpus.words.words())\n",
    "X_total = X_total.apply(lambda x: remove_non_english_words(x))"
   ]
  },
  {
   "cell_type": "code",
   "execution_count": 6,
   "metadata": {},
   "outputs": [],
   "source": [
    "scorer = ['accuracy', 'precision', 'recall', 'f1', 'roc_auc']\n",
    "num_splits = 5\n",
    "\n",
    "# This function shows how well the procedure performs on average\n",
    "def show_avg_scores(cv_results, n_splits):\n",
    "    print(\"Accuracy: \" + str(np.mean(cv_results['test_accuracy'])))\n",
    "    print(\"Precision: \" + str(np.mean(cv_results['test_precision'])))\n",
    "    print(\"Recall: \" + str(np.mean(cv_results['test_recall'])))\n",
    "    print(\"F_Score: \" + str(np.mean(cv_results['test_f1'])))\n",
    "    print(\"ROC AUC Mean: \" + str(np.mean(cv_results['test_roc_auc'])))\n",
    "\n",
    "\n",
    "# this function shows how much we expect the performance of the model to vary\n",
    "def show_std_scores(cv_results, n_splits):\n",
    "    print(\"Accuracy: \" + str(np.std(cv_results['test_accuracy'])))\n",
    "    print(\"Precision: \" + str(np.std(cv_results['test_precision'])))\n",
    "    print(\"Recall: \" + str(np.std(cv_results['test_recall'])))\n",
    "    print(\"F_Score: \" + str(np.std(cv_results['test_f1'])))\n",
    "    print(\"ROC AUC Mean: \" + str(np.mean(cv_results['test_roc_auc'])))\n",
    "    \n",
    "def print_result(cv_results,num_splits):\n",
    "    print(\"Average Scores\") \n",
    "    show_avg_scores(cv_results, num_splits)\n",
    "    print(\"\\nScores Deviation\")\n",
    "    show_std_scores(cv_results, num_splits)"
   ]
  },
  {
   "cell_type": "code",
   "execution_count": 15,
   "metadata": {},
   "outputs": [],
   "source": [
    "from sklearn.model_selection import train_test_split\n",
    "\n",
    "X_train_part, X_valid, y_train_part, y_valid = train_test_split(X_train,y_train, test_size=0.3,random_state=20, \n",
    "                                                                stratify=y_train)"
   ]
  },
  {
   "cell_type": "code",
   "execution_count": 23,
   "metadata": {},
   "outputs": [],
   "source": [
    "def result(pred):\n",
    "    results = confusion_matrix(y_valid, pred) \n",
    "    print ('Confusion Matrix :')\n",
    "    print(results) \n",
    "    print ('Accuracy Score :',accuracy_score(y_valid, pred))\n",
    "    print ('Report : ')\n",
    "    print (classification_report(y_valid, pred))\n",
    "\n",
    "def roccurve(label,title,pipeline):\n",
    "    predx = pipeline.predict_proba(X_valid)\n",
    "    fpr1, tpr1, _ = roc_curve(y_valid, predx[:,1])\n",
    "    plt.figure(1)\n",
    "    plt.plot([0, 1], [0, 1], 'k--')\n",
    "    plt.plot(fpr1, tpr1, label=label)\n",
    "    plt.xlabel('False positive rate')\n",
    "    plt.ylabel('True positive rate')\n",
    "    plt.title(title)\n",
    "    plt.legend(loc='best')\n",
    "    plt.show()\n"
   ]
  },
  {
   "cell_type": "code",
   "execution_count": 75,
   "metadata": {},
   "outputs": [
    {
     "name": "stdout",
     "output_type": "stream",
     "text": [
      "All values are filled with Zeroes :  0    391837\n",
      "Name: target, dtype: int64\n",
      "F-Score is  0.0\n",
      "Precision score is  0.0\n"
     ]
    },
    {
     "name": "stderr",
     "output_type": "stream",
     "text": [
      "C:\\Users\\amsha\\AppData\\Local\\Continuum\\anaconda3\\lib\\site-packages\\sklearn\\metrics\\classification.py:1143: UndefinedMetricWarning: F-score is ill-defined and being set to 0.0 due to no predicted samples.\n",
      "  'precision', 'predicted', average, warn_for)\n",
      "C:\\Users\\amsha\\AppData\\Local\\Continuum\\anaconda3\\lib\\site-packages\\sklearn\\metrics\\classification.py:1143: UndefinedMetricWarning: Precision is ill-defined and being set to 0.0 due to no predicted samples.\n",
      "  'precision', 'predicted', average, warn_for)\n"
     ]
    },
    {
     "name": "stdout",
     "output_type": "stream",
     "text": [
      "recall score is  0.0\n",
      "Confusion Matrix :\n",
      "[[367594      0]\n",
      " [ 24243      0]]\n",
      "Accuracy Score : 0.9381298856412232\n",
      "Report : \n"
     ]
    },
    {
     "name": "stderr",
     "output_type": "stream",
     "text": [
      "C:\\Users\\amsha\\AppData\\Local\\Continuum\\anaconda3\\lib\\site-packages\\sklearn\\metrics\\classification.py:1143: UndefinedMetricWarning: Precision and F-score are ill-defined and being set to 0.0 in labels with no predicted samples.\n",
      "  'precision', 'predicted', average, warn_for)\n",
      "C:\\Users\\amsha\\AppData\\Local\\Continuum\\anaconda3\\lib\\site-packages\\sklearn\\metrics\\classification.py:1143: UndefinedMetricWarning: Precision and F-score are ill-defined and being set to 0.0 in labels with no predicted samples.\n",
      "  'precision', 'predicted', average, warn_for)\n",
      "C:\\Users\\amsha\\AppData\\Local\\Continuum\\anaconda3\\lib\\site-packages\\sklearn\\metrics\\classification.py:1143: UndefinedMetricWarning: Precision and F-score are ill-defined and being set to 0.0 in labels with no predicted samples.\n",
      "  'precision', 'predicted', average, warn_for)\n"
     ]
    },
    {
     "name": "stdout",
     "output_type": "stream",
     "text": [
      "              precision    recall  f1-score   support\n",
      "\n",
      "           0       0.94      1.00      0.97    367594\n",
      "           1       0.00      0.00      0.00     24243\n",
      "\n",
      "   micro avg       0.94      0.94      0.94    391837\n",
      "   macro avg       0.47      0.50      0.48    391837\n",
      "weighted avg       0.88      0.94      0.91    391837\n",
      "\n"
     ]
    },
    {
     "data": {
      "image/png": "[encoded data removed]",
      "text/plain": [
       "<Figure size 432x288 with 2 Axes>"
      ]
     },
     "metadata": {
      "needs_background": "light"
     },
     "output_type": "display_data"
    }
   ],
   "source": [
    "# Baseline Model\n",
    "y_baseline = y_valid*0\n",
    "print(\"All values are filled with Zeroes : \" , y_baseline.value_counts())\n",
    "print (\"F-Score is \", f1_score(y_valid, y_baseline))\n",
    "print(\"Precision score is \" ,precision_score(y_valid, y_baseline) )\n",
    "print(\"recall score is \" ,recall_score(y_valid, y_baseline) )\n",
    "result(y_baseline)\n",
    "\n",
    "conf = confusion_matrix(y_valid, y_baseline)\n",
    "conf = pd.DataFrame(conf, range(2),range(2))\n",
    "sns.heatmap(conf, annot=True, fmt='g', annot_kws={\"size\": 16})\n",
    "plt.title('Confusion matrix for baseline prediction')\n",
    "plt.show()"
   ]
  },
  {
   "cell_type": "markdown",
   "metadata": {},
   "source": [
    "# Count Vectorizer base model"
   ]
  },
  {
   "cell_type": "code",
   "execution_count": 7,
   "metadata": {},
   "outputs": [
    {
     "name": "stderr",
     "output_type": "stream",
     "text": [
      "C:\\Users\\amsha\\AppData\\Local\\Continuum\\anaconda3\\lib\\site-packages\\sklearn\\linear_model\\logistic.py:433: FutureWarning: Default solver will be changed to 'lbfgs' in 0.22. Specify a solver to silence this warning.\n",
      "  FutureWarning)\n",
      "C:\\Users\\amsha\\AppData\\Local\\Continuum\\anaconda3\\lib\\site-packages\\sklearn\\linear_model\\logistic.py:433: FutureWarning: Default solver will be changed to 'lbfgs' in 0.22. Specify a solver to silence this warning.\n",
      "  FutureWarning)\n",
      "C:\\Users\\amsha\\AppData\\Local\\Continuum\\anaconda3\\lib\\site-packages\\sklearn\\linear_model\\logistic.py:433: FutureWarning: Default solver will be changed to 'lbfgs' in 0.22. Specify a solver to silence this warning.\n",
      "  FutureWarning)\n",
      "C:\\Users\\amsha\\AppData\\Local\\Continuum\\anaconda3\\lib\\site-packages\\sklearn\\linear_model\\logistic.py:433: FutureWarning: Default solver will be changed to 'lbfgs' in 0.22. Specify a solver to silence this warning.\n",
      "  FutureWarning)\n",
      "C:\\Users\\amsha\\AppData\\Local\\Continuum\\anaconda3\\lib\\site-packages\\sklearn\\linear_model\\logistic.py:433: FutureWarning: Default solver will be changed to 'lbfgs' in 0.22. Specify a solver to silence this warning.\n",
      "  FutureWarning)\n"
     ]
    },
    {
     "name": "stdout",
     "output_type": "stream",
     "text": [
      "Average Scores\n",
      "Accuracy: 0.946550169030299\n",
      "Precision: 0.641982057996804\n",
      "Recall: 0.3076970671946542\n",
      "F_Score: 0.41600189162138557\n",
      "ROC AUC Mean: 0.913775983421037\n",
      "\n",
      "Scores Deviation\n",
      "Accuracy: 0.00032043320011954486\n",
      "Precision: 0.005486900407273559\n",
      "Recall: 0.0030075882444681396\n",
      "F_Score: 0.003699371063739796\n",
      "ROC AUC Mean: 0.913775983421037\n"
     ]
    },
    {
     "data": {
      "text/html": [
       "<div>\n",
       "<style scoped>\n",
       "    .dataframe tbody tr th:only-of-type {\n",
       "        vertical-align: middle;\n",
       "    }\n",
       "\n",
       "    .dataframe tbody tr th {\n",
       "        vertical-align: top;\n",
       "    }\n",
       "\n",
       "    .dataframe thead th {\n",
       "        text-align: right;\n",
       "    }\n",
       "</style>\n",
       "<table border=\"1\" class=\"dataframe\">\n",
       "  <thead>\n",
       "    <tr style=\"text-align: right;\">\n",
       "      <th></th>\n",
       "      <th>fit_time</th>\n",
       "      <th>score_time</th>\n",
       "      <th>test_accuracy</th>\n",
       "      <th>train_accuracy</th>\n",
       "      <th>test_precision</th>\n",
       "      <th>train_precision</th>\n",
       "      <th>test_recall</th>\n",
       "      <th>train_recall</th>\n",
       "      <th>test_f1</th>\n",
       "      <th>train_f1</th>\n",
       "      <th>test_roc_auc</th>\n",
       "      <th>train_roc_auc</th>\n",
       "    </tr>\n",
       "  </thead>\n",
       "  <tbody>\n",
       "    <tr>\n",
       "      <th>0</th>\n",
       "      <td>21.551628</td>\n",
       "      <td>0.366022</td>\n",
       "      <td>0.947053</td>\n",
       "      <td>0.949318</td>\n",
       "      <td>0.650835</td>\n",
       "      <td>0.687362</td>\n",
       "      <td>0.311162</td>\n",
       "      <td>0.331719</td>\n",
       "      <td>0.421031</td>\n",
       "      <td>0.447484</td>\n",
       "      <td>0.912492</td>\n",
       "      <td>0.931055</td>\n",
       "    </tr>\n",
       "    <tr>\n",
       "      <th>1</th>\n",
       "      <td>23.350200</td>\n",
       "      <td>0.409905</td>\n",
       "      <td>0.946173</td>\n",
       "      <td>0.949530</td>\n",
       "      <td>0.634559</td>\n",
       "      <td>0.690604</td>\n",
       "      <td>0.306521</td>\n",
       "      <td>0.333808</td>\n",
       "      <td>0.413367</td>\n",
       "      <td>0.450071</td>\n",
       "      <td>0.912953</td>\n",
       "      <td>0.930985</td>\n",
       "    </tr>\n",
       "    <tr>\n",
       "      <th>2</th>\n",
       "      <td>22.463930</td>\n",
       "      <td>0.367019</td>\n",
       "      <td>0.946766</td>\n",
       "      <td>0.949321</td>\n",
       "      <td>0.644690</td>\n",
       "      <td>0.688601</td>\n",
       "      <td>0.310976</td>\n",
       "      <td>0.330219</td>\n",
       "      <td>0.419568</td>\n",
       "      <td>0.446377</td>\n",
       "      <td>0.914354</td>\n",
       "      <td>0.930668</td>\n",
       "    </tr>\n",
       "    <tr>\n",
       "      <th>3</th>\n",
       "      <td>23.589180</td>\n",
       "      <td>0.361035</td>\n",
       "      <td>0.946299</td>\n",
       "      <td>0.949363</td>\n",
       "      <td>0.639150</td>\n",
       "      <td>0.688350</td>\n",
       "      <td>0.303242</td>\n",
       "      <td>0.331781</td>\n",
       "      <td>0.411330</td>\n",
       "      <td>0.447750</td>\n",
       "      <td>0.914527</td>\n",
       "      <td>0.930717</td>\n",
       "    </tr>\n",
       "    <tr>\n",
       "      <th>4</th>\n",
       "      <td>22.815989</td>\n",
       "      <td>0.382974</td>\n",
       "      <td>0.946460</td>\n",
       "      <td>0.949469</td>\n",
       "      <td>0.640678</td>\n",
       "      <td>0.690225</td>\n",
       "      <td>0.306583</td>\n",
       "      <td>0.332493</td>\n",
       "      <td>0.414714</td>\n",
       "      <td>0.448794</td>\n",
       "      <td>0.914555</td>\n",
       "      <td>0.930585</td>\n",
       "    </tr>\n",
       "  </tbody>\n",
       "</table>\n",
       "</div>"
      ],
      "text/plain": [
       "    fit_time  score_time  test_accuracy  train_accuracy  test_precision  \\\n",
       "0  21.551628    0.366022       0.947053        0.949318        0.650835   \n",
       "1  23.350200    0.409905       0.946173        0.949530        0.634559   \n",
       "2  22.463930    0.367019       0.946766        0.949321        0.644690   \n",
       "3  23.589180    0.361035       0.946299        0.949363        0.639150   \n",
       "4  22.815989    0.382974       0.946460        0.949469        0.640678   \n",
       "\n",
       "   train_precision  test_recall  train_recall   test_f1  train_f1  \\\n",
       "0         0.687362     0.311162      0.331719  0.421031  0.447484   \n",
       "1         0.690604     0.306521      0.333808  0.413367  0.450071   \n",
       "2         0.688601     0.310976      0.330219  0.419568  0.446377   \n",
       "3         0.688350     0.303242      0.331781  0.411330  0.447750   \n",
       "4         0.690225     0.306583      0.332493  0.414714  0.448794   \n",
       "\n",
       "   test_roc_auc  train_roc_auc  \n",
       "0      0.912492       0.931055  \n",
       "1      0.912953       0.930985  \n",
       "2      0.914354       0.930668  \n",
       "3      0.914527       0.930717  \n",
       "4      0.914555       0.930585  "
      ]
     },
     "execution_count": 7,
     "metadata": {},
     "output_type": "execute_result"
    }
   ],
   "source": [
    "# initalise the vectoriser for Count Vectoriser\n",
    "cvec1 = CountVectorizer(binary=True, ngram_range=(1, 1))\n",
    "cvec1.fit(X_total)\n",
    "#transform training data into sparse matrix\n",
    "X_train_cvec1 = cvec1.transform(X_total)\n",
    "cv_lr1 = LogisticRegression()\n",
    "cv_results1 = cross_validate(cv_lr1, X_train_cvec1[:len(X_total) - len(X_test)],\n",
    "                                       Y_train, scoring = ('accuracy', 'precision', 'recall', 'f1','roc_auc'), \n",
    "                                       cv = num_splits, return_train_score = True)\n",
    "\n",
    "print_result(cv_results1, num_splits)\n",
    "scores_cvec1 = pd.DataFrame(cv_results1)\n",
    "scores_cvec1"
   ]
  },
  {
   "cell_type": "code",
   "execution_count": 8,
   "metadata": {},
   "outputs": [
    {
     "name": "stderr",
     "output_type": "stream",
     "text": [
      "C:\\Users\\amsha\\AppData\\Local\\Continuum\\anaconda3\\lib\\site-packages\\sklearn\\linear_model\\logistic.py:433: FutureWarning: Default solver will be changed to 'lbfgs' in 0.22. Specify a solver to silence this warning.\n",
      "  FutureWarning)\n",
      "C:\\Users\\amsha\\AppData\\Local\\Continuum\\anaconda3\\lib\\site-packages\\sklearn\\linear_model\\logistic.py:433: FutureWarning: Default solver will be changed to 'lbfgs' in 0.22. Specify a solver to silence this warning.\n",
      "  FutureWarning)\n",
      "C:\\Users\\amsha\\AppData\\Local\\Continuum\\anaconda3\\lib\\site-packages\\sklearn\\linear_model\\logistic.py:433: FutureWarning: Default solver will be changed to 'lbfgs' in 0.22. Specify a solver to silence this warning.\n",
      "  FutureWarning)\n",
      "C:\\Users\\amsha\\AppData\\Local\\Continuum\\anaconda3\\lib\\site-packages\\sklearn\\linear_model\\logistic.py:433: FutureWarning: Default solver will be changed to 'lbfgs' in 0.22. Specify a solver to silence this warning.\n",
      "  FutureWarning)\n",
      "C:\\Users\\amsha\\AppData\\Local\\Continuum\\anaconda3\\lib\\site-packages\\sklearn\\linear_model\\logistic.py:433: FutureWarning: Default solver will be changed to 'lbfgs' in 0.22. Specify a solver to silence this warning.\n",
      "  FutureWarning)\n"
     ]
    },
    {
     "name": "stdout",
     "output_type": "stream",
     "text": [
      "Average Scores\n",
      "Accuracy: 0.9479596852963356\n",
      "Precision: 0.6509807892042717\n",
      "Recall: 0.3425689889865116\n",
      "F_Score: 0.4488988559820892\n",
      "ROC AUC Mean: 0.9173453430051246\n",
      "\n",
      "Scores Deviation\n",
      "Accuracy: 0.00017400656918091368\n",
      "Precision: 0.003778571825125802\n",
      "Recall: 0.0017100393189085144\n",
      "F_Score: 0.001369867429268248\n",
      "ROC AUC Mean: 0.9173453430051246\n"
     ]
    },
    {
     "data": {
      "text/html": [
       "<div>\n",
       "<style scoped>\n",
       "    .dataframe tbody tr th:only-of-type {\n",
       "        vertical-align: middle;\n",
       "    }\n",
       "\n",
       "    .dataframe tbody tr th {\n",
       "        vertical-align: top;\n",
       "    }\n",
       "\n",
       "    .dataframe thead th {\n",
       "        text-align: right;\n",
       "    }\n",
       "</style>\n",
       "<table border=\"1\" class=\"dataframe\">\n",
       "  <thead>\n",
       "    <tr style=\"text-align: right;\">\n",
       "      <th></th>\n",
       "      <th>fit_time</th>\n",
       "      <th>score_time</th>\n",
       "      <th>test_accuracy</th>\n",
       "      <th>train_accuracy</th>\n",
       "      <th>test_precision</th>\n",
       "      <th>train_precision</th>\n",
       "      <th>test_recall</th>\n",
       "      <th>train_recall</th>\n",
       "      <th>test_f1</th>\n",
       "      <th>train_f1</th>\n",
       "      <th>test_roc_auc</th>\n",
       "      <th>train_roc_auc</th>\n",
       "    </tr>\n",
       "  </thead>\n",
       "  <tbody>\n",
       "    <tr>\n",
       "      <th>0</th>\n",
       "      <td>108.281497</td>\n",
       "      <td>0.438826</td>\n",
       "      <td>0.948029</td>\n",
       "      <td>0.977299</td>\n",
       "      <td>0.651476</td>\n",
       "      <td>0.955059</td>\n",
       "      <td>0.344079</td>\n",
       "      <td>0.664352</td>\n",
       "      <td>0.450320</td>\n",
       "      <td>0.783612</td>\n",
       "      <td>0.916571</td>\n",
       "      <td>0.988686</td>\n",
       "    </tr>\n",
       "    <tr>\n",
       "      <th>1</th>\n",
       "      <td>86.367044</td>\n",
       "      <td>0.403920</td>\n",
       "      <td>0.947811</td>\n",
       "      <td>0.977317</td>\n",
       "      <td>0.646881</td>\n",
       "      <td>0.954653</td>\n",
       "      <td>0.344574</td>\n",
       "      <td>0.664970</td>\n",
       "      <td>0.449639</td>\n",
       "      <td>0.783906</td>\n",
       "      <td>0.916822</td>\n",
       "      <td>0.988607</td>\n",
       "    </tr>\n",
       "    <tr>\n",
       "      <th>2</th>\n",
       "      <td>124.484289</td>\n",
       "      <td>0.600394</td>\n",
       "      <td>0.948259</td>\n",
       "      <td>0.977188</td>\n",
       "      <td>0.657350</td>\n",
       "      <td>0.954477</td>\n",
       "      <td>0.341975</td>\n",
       "      <td>0.662913</td>\n",
       "      <td>0.449898</td>\n",
       "      <td>0.782415</td>\n",
       "      <td>0.918089</td>\n",
       "      <td>0.988525</td>\n",
       "    </tr>\n",
       "    <tr>\n",
       "      <th>3</th>\n",
       "      <td>106.139592</td>\n",
       "      <td>0.406913</td>\n",
       "      <td>0.947922</td>\n",
       "      <td>0.977335</td>\n",
       "      <td>0.651828</td>\n",
       "      <td>0.955278</td>\n",
       "      <td>0.339748</td>\n",
       "      <td>0.664785</td>\n",
       "      <td>0.446677</td>\n",
       "      <td>0.783987</td>\n",
       "      <td>0.918145</td>\n",
       "      <td>0.988591</td>\n",
       "    </tr>\n",
       "    <tr>\n",
       "      <th>4</th>\n",
       "      <td>95.873601</td>\n",
       "      <td>0.459771</td>\n",
       "      <td>0.947777</td>\n",
       "      <td>0.977250</td>\n",
       "      <td>0.647368</td>\n",
       "      <td>0.955271</td>\n",
       "      <td>0.342470</td>\n",
       "      <td>0.663362</td>\n",
       "      <td>0.447961</td>\n",
       "      <td>0.782994</td>\n",
       "      <td>0.917100</td>\n",
       "      <td>0.988591</td>\n",
       "    </tr>\n",
       "  </tbody>\n",
       "</table>\n",
       "</div>"
      ],
      "text/plain": [
       "     fit_time  score_time  test_accuracy  train_accuracy  test_precision  \\\n",
       "0  108.281497    0.438826       0.948029        0.977299        0.651476   \n",
       "1   86.367044    0.403920       0.947811        0.977317        0.646881   \n",
       "2  124.484289    0.600394       0.948259        0.977188        0.657350   \n",
       "3  106.139592    0.406913       0.947922        0.977335        0.651828   \n",
       "4   95.873601    0.459771       0.947777        0.977250        0.647368   \n",
       "\n",
       "   train_precision  test_recall  train_recall   test_f1  train_f1  \\\n",
       "0         0.955059     0.344079      0.664352  0.450320  0.783612   \n",
       "1         0.954653     0.344574      0.664970  0.449639  0.783906   \n",
       "2         0.954477     0.341975      0.662913  0.449898  0.782415   \n",
       "3         0.955278     0.339748      0.664785  0.446677  0.783987   \n",
       "4         0.955271     0.342470      0.663362  0.447961  0.782994   \n",
       "\n",
       "   test_roc_auc  train_roc_auc  \n",
       "0      0.916571       0.988686  \n",
       "1      0.916822       0.988607  \n",
       "2      0.918089       0.988525  \n",
       "3      0.918145       0.988591  \n",
       "4      0.917100       0.988591  "
      ]
     },
     "execution_count": 8,
     "metadata": {},
     "output_type": "execute_result"
    }
   ],
   "source": [
    "# initalise the vectoriser for Count Vectoriser\n",
    "cvec2 = CountVectorizer(binary=True, ngram_range=(1, 2))\n",
    "cvec2.fit(X_total)\n",
    "#transform training data into sparse matrix\n",
    "X_train_cvec2 = cvec2.transform(X_total)\n",
    "cv_lr2 = LogisticRegression()\n",
    "cv_results2 = cross_validate(cv_lr2, X_train_cvec2[:len(X_total) - len(X_test)],\n",
    "                                       Y_train, scoring = ('accuracy', 'precision', 'recall', 'f1','roc_auc'), \n",
    "                                       cv = num_splits, return_train_score = True)\n",
    "\n",
    "print_result(cv_results2, num_splits)\n",
    "scores_cvec2 = pd.DataFrame(cv_results2)\n",
    "scores_cvec2"
   ]
  },
  {
   "cell_type": "code",
   "execution_count": 9,
   "metadata": {},
   "outputs": [
    {
     "name": "stderr",
     "output_type": "stream",
     "text": [
      "C:\\Users\\amsha\\AppData\\Local\\Continuum\\anaconda3\\lib\\site-packages\\sklearn\\linear_model\\logistic.py:433: FutureWarning: Default solver will be changed to 'lbfgs' in 0.22. Specify a solver to silence this warning.\n",
      "  FutureWarning)\n",
      "C:\\Users\\amsha\\AppData\\Local\\Continuum\\anaconda3\\lib\\site-packages\\sklearn\\linear_model\\logistic.py:433: FutureWarning: Default solver will be changed to 'lbfgs' in 0.22. Specify a solver to silence this warning.\n",
      "  FutureWarning)\n",
      "C:\\Users\\amsha\\AppData\\Local\\Continuum\\anaconda3\\lib\\site-packages\\sklearn\\linear_model\\logistic.py:433: FutureWarning: Default solver will be changed to 'lbfgs' in 0.22. Specify a solver to silence this warning.\n",
      "  FutureWarning)\n",
      "C:\\Users\\amsha\\AppData\\Local\\Continuum\\anaconda3\\lib\\site-packages\\sklearn\\linear_model\\logistic.py:433: FutureWarning: Default solver will be changed to 'lbfgs' in 0.22. Specify a solver to silence this warning.\n",
      "  FutureWarning)\n",
      "C:\\Users\\amsha\\AppData\\Local\\Continuum\\anaconda3\\lib\\site-packages\\sklearn\\linear_model\\logistic.py:433: FutureWarning: Default solver will be changed to 'lbfgs' in 0.22. Specify a solver to silence this warning.\n",
      "  FutureWarning)\n"
     ]
    },
    {
     "name": "stdout",
     "output_type": "stream",
     "text": [
      "Average Scores\n",
      "Accuracy: 0.9481472634154743\n",
      "Precision: 0.6575882501272654\n",
      "Recall: 0.33784185125603267\n",
      "F_Score: 0.44635668991795674\n",
      "ROC AUC Mean: 0.9161132827441051\n",
      "\n",
      "Scores Deviation\n",
      "Accuracy: 0.0001852050512065366\n",
      "Precision: 0.003596538518175689\n",
      "Recall: 0.0016231161917653525\n",
      "F_Score: 0.0017108310759890483\n",
      "ROC AUC Mean: 0.9161132827441051\n"
     ]
    },
    {
     "data": {
      "text/html": [
       "<div>\n",
       "<style scoped>\n",
       "    .dataframe tbody tr th:only-of-type {\n",
       "        vertical-align: middle;\n",
       "    }\n",
       "\n",
       "    .dataframe tbody tr th {\n",
       "        vertical-align: top;\n",
       "    }\n",
       "\n",
       "    .dataframe thead th {\n",
       "        text-align: right;\n",
       "    }\n",
       "</style>\n",
       "<table border=\"1\" class=\"dataframe\">\n",
       "  <thead>\n",
       "    <tr style=\"text-align: right;\">\n",
       "      <th></th>\n",
       "      <th>fit_time</th>\n",
       "      <th>score_time</th>\n",
       "      <th>test_accuracy</th>\n",
       "      <th>train_accuracy</th>\n",
       "      <th>test_precision</th>\n",
       "      <th>train_precision</th>\n",
       "      <th>test_recall</th>\n",
       "      <th>train_recall</th>\n",
       "      <th>test_f1</th>\n",
       "      <th>train_f1</th>\n",
       "      <th>test_roc_auc</th>\n",
       "      <th>train_roc_auc</th>\n",
       "    </tr>\n",
       "  </thead>\n",
       "  <tbody>\n",
       "    <tr>\n",
       "      <th>0</th>\n",
       "      <td>140.668926</td>\n",
       "      <td>0.678186</td>\n",
       "      <td>0.948328</td>\n",
       "      <td>0.986447</td>\n",
       "      <td>0.660250</td>\n",
       "      <td>0.988580</td>\n",
       "      <td>0.339562</td>\n",
       "      <td>0.790063</td>\n",
       "      <td>0.448476</td>\n",
       "      <td>0.878243</td>\n",
       "      <td>0.915517</td>\n",
       "      <td>0.993918</td>\n",
       "    </tr>\n",
       "    <tr>\n",
       "      <th>1</th>\n",
       "      <td>190.653535</td>\n",
       "      <td>0.577455</td>\n",
       "      <td>0.947980</td>\n",
       "      <td>0.986405</td>\n",
       "      <td>0.653356</td>\n",
       "      <td>0.988249</td>\n",
       "      <td>0.339129</td>\n",
       "      <td>0.789661</td>\n",
       "      <td>0.446499</td>\n",
       "      <td>0.877864</td>\n",
       "      <td>0.915764</td>\n",
       "      <td>0.993872</td>\n",
       "    </tr>\n",
       "    <tr>\n",
       "      <th>2</th>\n",
       "      <td>149.999190</td>\n",
       "      <td>0.612361</td>\n",
       "      <td>0.948343</td>\n",
       "      <td>0.986337</td>\n",
       "      <td>0.661111</td>\n",
       "      <td>0.988783</td>\n",
       "      <td>0.338696</td>\n",
       "      <td>0.788114</td>\n",
       "      <td>0.447918</td>\n",
       "      <td>0.877117</td>\n",
       "      <td>0.916731</td>\n",
       "      <td>0.993840</td>\n",
       "    </tr>\n",
       "    <tr>\n",
       "      <th>3</th>\n",
       "      <td>142.478004</td>\n",
       "      <td>0.660235</td>\n",
       "      <td>0.948202</td>\n",
       "      <td>0.986421</td>\n",
       "      <td>0.660173</td>\n",
       "      <td>0.988972</td>\n",
       "      <td>0.335478</td>\n",
       "      <td>0.789321</td>\n",
       "      <td>0.444882</td>\n",
       "      <td>0.877939</td>\n",
       "      <td>0.916881</td>\n",
       "      <td>0.993845</td>\n",
       "    </tr>\n",
       "    <tr>\n",
       "      <th>4</th>\n",
       "      <td>138.479124</td>\n",
       "      <td>0.481712</td>\n",
       "      <td>0.947884</td>\n",
       "      <td>0.986310</td>\n",
       "      <td>0.653051</td>\n",
       "      <td>0.988454</td>\n",
       "      <td>0.336345</td>\n",
       "      <td>0.787928</td>\n",
       "      <td>0.444009</td>\n",
       "      <td>0.876873</td>\n",
       "      <td>0.915674</td>\n",
       "      <td>0.993856</td>\n",
       "    </tr>\n",
       "  </tbody>\n",
       "</table>\n",
       "</div>"
      ],
      "text/plain": [
       "     fit_time  score_time  test_accuracy  train_accuracy  test_precision  \\\n",
       "0  140.668926    0.678186       0.948328        0.986447        0.660250   \n",
       "1  190.653535    0.577455       0.947980        0.986405        0.653356   \n",
       "2  149.999190    0.612361       0.948343        0.986337        0.661111   \n",
       "3  142.478004    0.660235       0.948202        0.986421        0.660173   \n",
       "4  138.479124    0.481712       0.947884        0.986310        0.653051   \n",
       "\n",
       "   train_precision  test_recall  train_recall   test_f1  train_f1  \\\n",
       "0         0.988580     0.339562      0.790063  0.448476  0.878243   \n",
       "1         0.988249     0.339129      0.789661  0.446499  0.877864   \n",
       "2         0.988783     0.338696      0.788114  0.447918  0.877117   \n",
       "3         0.988972     0.335478      0.789321  0.444882  0.877939   \n",
       "4         0.988454     0.336345      0.787928  0.444009  0.876873   \n",
       "\n",
       "   test_roc_auc  train_roc_auc  \n",
       "0      0.915517       0.993918  \n",
       "1      0.915764       0.993872  \n",
       "2      0.916731       0.993840  \n",
       "3      0.916881       0.993845  \n",
       "4      0.915674       0.993856  "
      ]
     },
     "execution_count": 9,
     "metadata": {},
     "output_type": "execute_result"
    }
   ],
   "source": [
    "# initalise the vectoriser for Count Vectoriser\n",
    "cvec3 = CountVectorizer(binary=True, ngram_range=(1, 3))\n",
    "cvec3.fit(X_total)\n",
    "#transform training data into sparse matrix\n",
    "X_train_cvec3 = cvec3.transform(X_total)\n",
    "cv_lr3 = LogisticRegression()\n",
    "cv_results3 = cross_validate(cv_lr3, X_train_cvec3[:len(X_total) - len(X_test)],\n",
    "                                       Y_train, scoring = ('accuracy', 'precision', 'recall', 'f1','roc_auc'), \n",
    "                                       cv = num_splits, return_train_score = True)\n",
    "\n",
    "print_result(cv_results3, num_splits)\n",
    "scores_cvec3 = pd.DataFrame(cv_results3)\n",
    "scores_cvec3"
   ]
  },
  {
   "cell_type": "markdown",
   "metadata": {},
   "source": [
    "# TFIDF base model\n",
    "\n",
    "The results are not impressive. CountVectorization has done quite well"
   ]
  },
  {
   "cell_type": "code",
   "execution_count": 11,
   "metadata": {},
   "outputs": [
    {
     "name": "stderr",
     "output_type": "stream",
     "text": [
      "C:\\Users\\amsha\\AppData\\Local\\Continuum\\anaconda3\\lib\\site-packages\\sklearn\\linear_model\\logistic.py:433: FutureWarning: Default solver will be changed to 'lbfgs' in 0.22. Specify a solver to silence this warning.\n",
      "  FutureWarning)\n",
      "C:\\Users\\amsha\\AppData\\Local\\Continuum\\anaconda3\\lib\\site-packages\\sklearn\\linear_model\\logistic.py:433: FutureWarning: Default solver will be changed to 'lbfgs' in 0.22. Specify a solver to silence this warning.\n",
      "  FutureWarning)\n",
      "C:\\Users\\amsha\\AppData\\Local\\Continuum\\anaconda3\\lib\\site-packages\\sklearn\\linear_model\\logistic.py:433: FutureWarning: Default solver will be changed to 'lbfgs' in 0.22. Specify a solver to silence this warning.\n",
      "  FutureWarning)\n",
      "C:\\Users\\amsha\\AppData\\Local\\Continuum\\anaconda3\\lib\\site-packages\\sklearn\\linear_model\\logistic.py:433: FutureWarning: Default solver will be changed to 'lbfgs' in 0.22. Specify a solver to silence this warning.\n",
      "  FutureWarning)\n",
      "C:\\Users\\amsha\\AppData\\Local\\Continuum\\anaconda3\\lib\\site-packages\\sklearn\\linear_model\\logistic.py:433: FutureWarning: Default solver will be changed to 'lbfgs' in 0.22. Specify a solver to silence this warning.\n",
      "  FutureWarning)\n"
     ]
    },
    {
     "name": "stdout",
     "output_type": "stream",
     "text": [
      "Average Scores\n",
      "Accuracy: 0.9460249500106535\n",
      "Precision: 0.6481439323785051\n",
      "Recall: 0.27917336963247125\n",
      "F_Score: 0.39024965932325467\n",
      "ROC AUC Mean: 0.9188809348507565\n",
      "\n",
      "Scores Deviation\n",
      "Accuracy: 0.0003221541182270418\n",
      "Precision: 0.006350338816359729\n",
      "Recall: 0.002697856218705155\n",
      "F_Score: 0.003572868450993098\n",
      "ROC AUC Mean: 0.9188809348507565\n"
     ]
    },
    {
     "data": {
      "text/html": [
       "<div>\n",
       "<style scoped>\n",
       "    .dataframe tbody tr th:only-of-type {\n",
       "        vertical-align: middle;\n",
       "    }\n",
       "\n",
       "    .dataframe tbody tr th {\n",
       "        vertical-align: top;\n",
       "    }\n",
       "\n",
       "    .dataframe thead th {\n",
       "        text-align: right;\n",
       "    }\n",
       "</style>\n",
       "<table border=\"1\" class=\"dataframe\">\n",
       "  <thead>\n",
       "    <tr style=\"text-align: right;\">\n",
       "      <th></th>\n",
       "      <th>fit_time</th>\n",
       "      <th>score_time</th>\n",
       "      <th>test_accuracy</th>\n",
       "      <th>train_accuracy</th>\n",
       "      <th>test_precision</th>\n",
       "      <th>train_precision</th>\n",
       "      <th>test_recall</th>\n",
       "      <th>train_recall</th>\n",
       "      <th>test_f1</th>\n",
       "      <th>train_f1</th>\n",
       "      <th>test_roc_auc</th>\n",
       "      <th>train_roc_auc</th>\n",
       "    </tr>\n",
       "  </thead>\n",
       "  <tbody>\n",
       "    <tr>\n",
       "      <th>0</th>\n",
       "      <td>8.865410</td>\n",
       "      <td>0.271274</td>\n",
       "      <td>0.946590</td>\n",
       "      <td>0.947250</td>\n",
       "      <td>0.658537</td>\n",
       "      <td>0.669948</td>\n",
       "      <td>0.284000</td>\n",
       "      <td>0.290558</td>\n",
       "      <td>0.396853</td>\n",
       "      <td>0.405326</td>\n",
       "      <td>0.917973</td>\n",
       "      <td>0.929856</td>\n",
       "    </tr>\n",
       "    <tr>\n",
       "      <th>1</th>\n",
       "      <td>8.947073</td>\n",
       "      <td>0.276264</td>\n",
       "      <td>0.945702</td>\n",
       "      <td>0.947451</td>\n",
       "      <td>0.641165</td>\n",
       "      <td>0.672133</td>\n",
       "      <td>0.277936</td>\n",
       "      <td>0.294147</td>\n",
       "      <td>0.387776</td>\n",
       "      <td>0.409210</td>\n",
       "      <td>0.917708</td>\n",
       "      <td>0.929917</td>\n",
       "    </tr>\n",
       "    <tr>\n",
       "      <th>2</th>\n",
       "      <td>9.589356</td>\n",
       "      <td>0.427861</td>\n",
       "      <td>0.945832</td>\n",
       "      <td>0.947340</td>\n",
       "      <td>0.645713</td>\n",
       "      <td>0.671747</td>\n",
       "      <td>0.275832</td>\n",
       "      <td>0.291130</td>\n",
       "      <td>0.386543</td>\n",
       "      <td>0.406212</td>\n",
       "      <td>0.919789</td>\n",
       "      <td>0.929536</td>\n",
       "    </tr>\n",
       "    <tr>\n",
       "      <th>3</th>\n",
       "      <td>8.706717</td>\n",
       "      <td>0.328121</td>\n",
       "      <td>0.946169</td>\n",
       "      <td>0.947207</td>\n",
       "      <td>0.652042</td>\n",
       "      <td>0.668610</td>\n",
       "      <td>0.278617</td>\n",
       "      <td>0.290898</td>\n",
       "      <td>0.390411</td>\n",
       "      <td>0.405411</td>\n",
       "      <td>0.919134</td>\n",
       "      <td>0.929630</td>\n",
       "    </tr>\n",
       "    <tr>\n",
       "      <th>4</th>\n",
       "      <td>9.425797</td>\n",
       "      <td>0.300197</td>\n",
       "      <td>0.945832</td>\n",
       "      <td>0.947413</td>\n",
       "      <td>0.643264</td>\n",
       "      <td>0.672463</td>\n",
       "      <td>0.279483</td>\n",
       "      <td>0.292523</td>\n",
       "      <td>0.389665</td>\n",
       "      <td>0.407696</td>\n",
       "      <td>0.919802</td>\n",
       "      <td>0.929518</td>\n",
       "    </tr>\n",
       "  </tbody>\n",
       "</table>\n",
       "</div>"
      ],
      "text/plain": [
       "   fit_time  score_time  test_accuracy  train_accuracy  test_precision  \\\n",
       "0  8.865410    0.271274       0.946590        0.947250        0.658537   \n",
       "1  8.947073    0.276264       0.945702        0.947451        0.641165   \n",
       "2  9.589356    0.427861       0.945832        0.947340        0.645713   \n",
       "3  8.706717    0.328121       0.946169        0.947207        0.652042   \n",
       "4  9.425797    0.300197       0.945832        0.947413        0.643264   \n",
       "\n",
       "   train_precision  test_recall  train_recall   test_f1  train_f1  \\\n",
       "0         0.669948     0.284000      0.290558  0.396853  0.405326   \n",
       "1         0.672133     0.277936      0.294147  0.387776  0.409210   \n",
       "2         0.671747     0.275832      0.291130  0.386543  0.406212   \n",
       "3         0.668610     0.278617      0.290898  0.390411  0.405411   \n",
       "4         0.672463     0.279483      0.292523  0.389665  0.407696   \n",
       "\n",
       "   test_roc_auc  train_roc_auc  \n",
       "0      0.917973       0.929856  \n",
       "1      0.917708       0.929917  \n",
       "2      0.919789       0.929536  \n",
       "3      0.919134       0.929630  \n",
       "4      0.919802       0.929518  "
      ]
     },
     "execution_count": 11,
     "metadata": {},
     "output_type": "execute_result"
    }
   ],
   "source": [
    "# initalise the vectoriser fot TFIDF Vectoriser\n",
    "tvec1 = TfidfVectorizer(ngram_range=(1, 1),sublinear_tf=True)\n",
    "# fit the training data on the model\n",
    "tvec1.fit(X_total)\n",
    "\n",
    "#transform training data into sparse matrix\n",
    "X_train_tvec1 = tvec1.transform(X_total)\n",
    "tv_lr1 = LogisticRegression()\n",
    "tv_results1 = cross_validate(tv_lr1, X_train_tvec1[:len(X_total) - len(X_test)],\n",
    "                                    Y_train, scoring = ('accuracy', 'precision', 'recall', 'f1','roc_auc'),\n",
    "                                    cv = num_splits, return_train_score = True)\n",
    "print_result(tv_results1, num_splits)\n",
    "\n",
    "scores_tvec1 = pd.DataFrame(tv_results1)\n",
    "scores_tvec1"
   ]
  },
  {
   "cell_type": "code",
   "execution_count": 12,
   "metadata": {},
   "outputs": [
    {
     "name": "stderr",
     "output_type": "stream",
     "text": [
      "C:\\Users\\amsha\\AppData\\Local\\Continuum\\anaconda3\\lib\\site-packages\\sklearn\\linear_model\\logistic.py:433: FutureWarning: Default solver will be changed to 'lbfgs' in 0.22. Specify a solver to silence this warning.\n",
      "  FutureWarning)\n",
      "C:\\Users\\amsha\\AppData\\Local\\Continuum\\anaconda3\\lib\\site-packages\\sklearn\\linear_model\\logistic.py:433: FutureWarning: Default solver will be changed to 'lbfgs' in 0.22. Specify a solver to silence this warning.\n",
      "  FutureWarning)\n",
      "C:\\Users\\amsha\\AppData\\Local\\Continuum\\anaconda3\\lib\\site-packages\\sklearn\\linear_model\\logistic.py:433: FutureWarning: Default solver will be changed to 'lbfgs' in 0.22. Specify a solver to silence this warning.\n",
      "  FutureWarning)\n",
      "C:\\Users\\amsha\\AppData\\Local\\Continuum\\anaconda3\\lib\\site-packages\\sklearn\\linear_model\\logistic.py:433: FutureWarning: Default solver will be changed to 'lbfgs' in 0.22. Specify a solver to silence this warning.\n",
      "  FutureWarning)\n",
      "C:\\Users\\amsha\\AppData\\Local\\Continuum\\anaconda3\\lib\\site-packages\\sklearn\\linear_model\\logistic.py:433: FutureWarning: Default solver will be changed to 'lbfgs' in 0.22. Specify a solver to silence this warning.\n",
      "  FutureWarning)\n"
     ]
    },
    {
     "name": "stdout",
     "output_type": "stream",
     "text": [
      "Average Scores\n",
      "Accuracy: 0.9454208718198552\n",
      "Precision: 0.6688153553119895\n",
      "Recall: 0.2334983294146764\n",
      "F_Score: 0.3461412336811884\n",
      "ROC AUC Mean: 0.9221449824061221\n",
      "\n",
      "Scores Deviation\n",
      "Accuracy: 0.0002937990216943862\n",
      "Precision: 0.007923420684504379\n",
      "Recall: 0.002049648836633619\n",
      "F_Score: 0.0029478793278474424\n",
      "ROC AUC Mean: 0.9221449824061221\n"
     ]
    },
    {
     "data": {
      "text/html": [
       "<div>\n",
       "<style scoped>\n",
       "    .dataframe tbody tr th:only-of-type {\n",
       "        vertical-align: middle;\n",
       "    }\n",
       "\n",
       "    .dataframe tbody tr th {\n",
       "        vertical-align: top;\n",
       "    }\n",
       "\n",
       "    .dataframe thead th {\n",
       "        text-align: right;\n",
       "    }\n",
       "</style>\n",
       "<table border=\"1\" class=\"dataframe\">\n",
       "  <thead>\n",
       "    <tr style=\"text-align: right;\">\n",
       "      <th></th>\n",
       "      <th>fit_time</th>\n",
       "      <th>score_time</th>\n",
       "      <th>test_accuracy</th>\n",
       "      <th>train_accuracy</th>\n",
       "      <th>test_precision</th>\n",
       "      <th>train_precision</th>\n",
       "      <th>test_recall</th>\n",
       "      <th>train_recall</th>\n",
       "      <th>test_f1</th>\n",
       "      <th>train_f1</th>\n",
       "      <th>test_roc_auc</th>\n",
       "      <th>train_roc_auc</th>\n",
       "    </tr>\n",
       "  </thead>\n",
       "  <tbody>\n",
       "    <tr>\n",
       "      <th>0</th>\n",
       "      <td>20.612880</td>\n",
       "      <td>0.319147</td>\n",
       "      <td>0.945633</td>\n",
       "      <td>0.951702</td>\n",
       "      <td>0.674501</td>\n",
       "      <td>0.786204</td>\n",
       "      <td>0.234377</td>\n",
       "      <td>0.301309</td>\n",
       "      <td>0.347874</td>\n",
       "      <td>0.435655</td>\n",
       "      <td>0.921685</td>\n",
       "      <td>0.959330</td>\n",
       "    </tr>\n",
       "    <tr>\n",
       "      <th>1</th>\n",
       "      <td>20.191007</td>\n",
       "      <td>0.386966</td>\n",
       "      <td>0.945266</td>\n",
       "      <td>0.951873</td>\n",
       "      <td>0.662766</td>\n",
       "      <td>0.786101</td>\n",
       "      <td>0.234810</td>\n",
       "      <td>0.305160</td>\n",
       "      <td>0.346765</td>\n",
       "      <td>0.439651</td>\n",
       "      <td>0.920899</td>\n",
       "      <td>0.959293</td>\n",
       "    </tr>\n",
       "    <tr>\n",
       "      <th>2</th>\n",
       "      <td>19.908764</td>\n",
       "      <td>0.351060</td>\n",
       "      <td>0.945208</td>\n",
       "      <td>0.951847</td>\n",
       "      <td>0.665651</td>\n",
       "      <td>0.789895</td>\n",
       "      <td>0.229860</td>\n",
       "      <td>0.302051</td>\n",
       "      <td>0.341719</td>\n",
       "      <td>0.436997</td>\n",
       "      <td>0.922984</td>\n",
       "      <td>0.959044</td>\n",
       "    </tr>\n",
       "    <tr>\n",
       "      <th>3</th>\n",
       "      <td>21.100576</td>\n",
       "      <td>0.368015</td>\n",
       "      <td>0.945889</td>\n",
       "      <td>0.951750</td>\n",
       "      <td>0.681273</td>\n",
       "      <td>0.786982</td>\n",
       "      <td>0.235676</td>\n",
       "      <td>0.301850</td>\n",
       "      <td>0.350205</td>\n",
       "      <td>0.436340</td>\n",
       "      <td>0.922389</td>\n",
       "      <td>0.959215</td>\n",
       "    </tr>\n",
       "    <tr>\n",
       "      <th>4</th>\n",
       "      <td>20.760486</td>\n",
       "      <td>0.368016</td>\n",
       "      <td>0.945108</td>\n",
       "      <td>0.951930</td>\n",
       "      <td>0.659884</td>\n",
       "      <td>0.788839</td>\n",
       "      <td>0.232768</td>\n",
       "      <td>0.304588</td>\n",
       "      <td>0.344143</td>\n",
       "      <td>0.439482</td>\n",
       "      <td>0.922768</td>\n",
       "      <td>0.959128</td>\n",
       "    </tr>\n",
       "  </tbody>\n",
       "</table>\n",
       "</div>"
      ],
      "text/plain": [
       "    fit_time  score_time  test_accuracy  train_accuracy  test_precision  \\\n",
       "0  20.612880    0.319147       0.945633        0.951702        0.674501   \n",
       "1  20.191007    0.386966       0.945266        0.951873        0.662766   \n",
       "2  19.908764    0.351060       0.945208        0.951847        0.665651   \n",
       "3  21.100576    0.368015       0.945889        0.951750        0.681273   \n",
       "4  20.760486    0.368016       0.945108        0.951930        0.659884   \n",
       "\n",
       "   train_precision  test_recall  train_recall   test_f1  train_f1  \\\n",
       "0         0.786204     0.234377      0.301309  0.347874  0.435655   \n",
       "1         0.786101     0.234810      0.305160  0.346765  0.439651   \n",
       "2         0.789895     0.229860      0.302051  0.341719  0.436997   \n",
       "3         0.786982     0.235676      0.301850  0.350205  0.436340   \n",
       "4         0.788839     0.232768      0.304588  0.344143  0.439482   \n",
       "\n",
       "   test_roc_auc  train_roc_auc  \n",
       "0      0.921685       0.959330  \n",
       "1      0.920899       0.959293  \n",
       "2      0.922984       0.959044  \n",
       "3      0.922389       0.959215  \n",
       "4      0.922768       0.959128  "
      ]
     },
     "execution_count": 12,
     "metadata": {},
     "output_type": "execute_result"
    }
   ],
   "source": [
    "# initalise the vectoriser fot TFIDF Vectoriser\n",
    "tvec2 = TfidfVectorizer(ngram_range=(1, 2),sublinear_tf=True)\n",
    "# fit the training data on the model\n",
    "tvec2.fit(X_total)\n",
    "\n",
    "#transform training data into sparse matrix\n",
    "X_train_tvec2 = tvec2.transform(X_total)\n",
    "tv_lr2 = LogisticRegression()\n",
    "tv_results2 = cross_validate(tv_lr2, X_train_tvec2[:len(X_total) - len(X_test)],\n",
    "                                    Y_train, scoring = ('accuracy', 'precision', 'recall', 'f1','roc_auc'),\n",
    "                                    cv = num_splits, return_train_score = True)\n",
    "print_result(tv_results2, num_splits)\n",
    "\n",
    "scores_tvec2 = pd.DataFrame(tv_results2)\n",
    "scores_tvec2"
   ]
  },
  {
   "cell_type": "code",
   "execution_count": 13,
   "metadata": {},
   "outputs": [
    {
     "name": "stderr",
     "output_type": "stream",
     "text": [
      "C:\\Users\\amsha\\AppData\\Local\\Continuum\\anaconda3\\lib\\site-packages\\sklearn\\linear_model\\logistic.py:433: FutureWarning: Default solver will be changed to 'lbfgs' in 0.22. Specify a solver to silence this warning.\n",
      "  FutureWarning)\n",
      "C:\\Users\\amsha\\AppData\\Local\\Continuum\\anaconda3\\lib\\site-packages\\sklearn\\linear_model\\logistic.py:433: FutureWarning: Default solver will be changed to 'lbfgs' in 0.22. Specify a solver to silence this warning.\n",
      "  FutureWarning)\n",
      "C:\\Users\\amsha\\AppData\\Local\\Continuum\\anaconda3\\lib\\site-packages\\sklearn\\linear_model\\logistic.py:433: FutureWarning: Default solver will be changed to 'lbfgs' in 0.22. Specify a solver to silence this warning.\n",
      "  FutureWarning)\n",
      "C:\\Users\\amsha\\AppData\\Local\\Continuum\\anaconda3\\lib\\site-packages\\sklearn\\linear_model\\logistic.py:433: FutureWarning: Default solver will be changed to 'lbfgs' in 0.22. Specify a solver to silence this warning.\n",
      "  FutureWarning)\n",
      "C:\\Users\\amsha\\AppData\\Local\\Continuum\\anaconda3\\lib\\site-packages\\sklearn\\linear_model\\logistic.py:433: FutureWarning: Default solver will be changed to 'lbfgs' in 0.22. Specify a solver to silence this warning.\n",
      "  FutureWarning)\n"
     ]
    },
    {
     "name": "stdout",
     "output_type": "stream",
     "text": [
      "Average Scores\n",
      "Accuracy: 0.9432970274112904\n",
      "Precision: 0.648316698082845\n",
      "Recall: 0.182576413810172\n",
      "F_Score: 0.2849021748913884\n",
      "ROC AUC Mean: 0.9184419964972872\n",
      "\n",
      "Scores Deviation\n",
      "Accuracy: 0.0003124642881410047\n",
      "Precision: 0.009334133092593242\n",
      "Recall: 0.0034088665584491276\n",
      "F_Score: 0.004679831178796703\n",
      "ROC AUC Mean: 0.9184419964972872\n"
     ]
    },
    {
     "data": {
      "text/html": [
       "<div>\n",
       "<style scoped>\n",
       "    .dataframe tbody tr th:only-of-type {\n",
       "        vertical-align: middle;\n",
       "    }\n",
       "\n",
       "    .dataframe tbody tr th {\n",
       "        vertical-align: top;\n",
       "    }\n",
       "\n",
       "    .dataframe thead th {\n",
       "        text-align: right;\n",
       "    }\n",
       "</style>\n",
       "<table border=\"1\" class=\"dataframe\">\n",
       "  <thead>\n",
       "    <tr style=\"text-align: right;\">\n",
       "      <th></th>\n",
       "      <th>fit_time</th>\n",
       "      <th>score_time</th>\n",
       "      <th>test_accuracy</th>\n",
       "      <th>train_accuracy</th>\n",
       "      <th>test_precision</th>\n",
       "      <th>train_precision</th>\n",
       "      <th>test_recall</th>\n",
       "      <th>train_recall</th>\n",
       "      <th>test_f1</th>\n",
       "      <th>train_f1</th>\n",
       "      <th>test_roc_auc</th>\n",
       "      <th>train_roc_auc</th>\n",
       "    </tr>\n",
       "  </thead>\n",
       "  <tbody>\n",
       "    <tr>\n",
       "      <th>0</th>\n",
       "      <td>51.790190</td>\n",
       "      <td>0.373003</td>\n",
       "      <td>0.943214</td>\n",
       "      <td>0.950054</td>\n",
       "      <td>0.648148</td>\n",
       "      <td>0.794758</td>\n",
       "      <td>0.179743</td>\n",
       "      <td>0.259838</td>\n",
       "      <td>0.281438</td>\n",
       "      <td>0.391635</td>\n",
       "      <td>0.918181</td>\n",
       "      <td>0.963890</td>\n",
       "    </tr>\n",
       "    <tr>\n",
       "      <th>1</th>\n",
       "      <td>46.486690</td>\n",
       "      <td>0.386965</td>\n",
       "      <td>0.943344</td>\n",
       "      <td>0.950209</td>\n",
       "      <td>0.646200</td>\n",
       "      <td>0.796069</td>\n",
       "      <td>0.186239</td>\n",
       "      <td>0.262483</td>\n",
       "      <td>0.289145</td>\n",
       "      <td>0.394793</td>\n",
       "      <td>0.917173</td>\n",
       "      <td>0.963835</td>\n",
       "    </tr>\n",
       "    <tr>\n",
       "      <th>2</th>\n",
       "      <td>43.702327</td>\n",
       "      <td>0.361036</td>\n",
       "      <td>0.943156</td>\n",
       "      <td>0.950087</td>\n",
       "      <td>0.647296</td>\n",
       "      <td>0.793893</td>\n",
       "      <td>0.178505</td>\n",
       "      <td>0.261029</td>\n",
       "      <td>0.279839</td>\n",
       "      <td>0.392880</td>\n",
       "      <td>0.919205</td>\n",
       "      <td>0.963618</td>\n",
       "    </tr>\n",
       "    <tr>\n",
       "      <th>3</th>\n",
       "      <td>39.108190</td>\n",
       "      <td>0.390955</td>\n",
       "      <td>0.943857</td>\n",
       "      <td>0.950043</td>\n",
       "      <td>0.664540</td>\n",
       "      <td>0.793585</td>\n",
       "      <td>0.186920</td>\n",
       "      <td>0.260240</td>\n",
       "      <td>0.291771</td>\n",
       "      <td>0.391949</td>\n",
       "      <td>0.918813</td>\n",
       "      <td>0.963750</td>\n",
       "    </tr>\n",
       "    <tr>\n",
       "      <th>4</th>\n",
       "      <td>50.374295</td>\n",
       "      <td>0.370011</td>\n",
       "      <td>0.942915</td>\n",
       "      <td>0.950232</td>\n",
       "      <td>0.635399</td>\n",
       "      <td>0.797740</td>\n",
       "      <td>0.181475</td>\n",
       "      <td>0.262034</td>\n",
       "      <td>0.282318</td>\n",
       "      <td>0.394490</td>\n",
       "      <td>0.918838</td>\n",
       "      <td>0.963668</td>\n",
       "    </tr>\n",
       "  </tbody>\n",
       "</table>\n",
       "</div>"
      ],
      "text/plain": [
       "    fit_time  score_time  test_accuracy  train_accuracy  test_precision  \\\n",
       "0  51.790190    0.373003       0.943214        0.950054        0.648148   \n",
       "1  46.486690    0.386965       0.943344        0.950209        0.646200   \n",
       "2  43.702327    0.361036       0.943156        0.950087        0.647296   \n",
       "3  39.108190    0.390955       0.943857        0.950043        0.664540   \n",
       "4  50.374295    0.370011       0.942915        0.950232        0.635399   \n",
       "\n",
       "   train_precision  test_recall  train_recall   test_f1  train_f1  \\\n",
       "0         0.794758     0.179743      0.259838  0.281438  0.391635   \n",
       "1         0.796069     0.186239      0.262483  0.289145  0.394793   \n",
       "2         0.793893     0.178505      0.261029  0.279839  0.392880   \n",
       "3         0.793585     0.186920      0.260240  0.291771  0.391949   \n",
       "4         0.797740     0.181475      0.262034  0.282318  0.394490   \n",
       "\n",
       "   test_roc_auc  train_roc_auc  \n",
       "0      0.918181       0.963890  \n",
       "1      0.917173       0.963835  \n",
       "2      0.919205       0.963618  \n",
       "3      0.918813       0.963750  \n",
       "4      0.918838       0.963668  "
      ]
     },
     "execution_count": 13,
     "metadata": {},
     "output_type": "execute_result"
    }
   ],
   "source": [
    "# initalise the vectoriser fot TFIDF Vectoriser\n",
    "tvec3 = TfidfVectorizer(ngram_range=(1, 3),sublinear_tf=True)\n",
    "# fit the training data on the model\n",
    "tvec3.fit(X_total)\n",
    "\n",
    "#transform training data into sparse matrix\n",
    "X_train_tvec3 = tvec3.transform(X_total)\n",
    "tv_lr3 = LogisticRegression()\n",
    "tv_results3 = cross_validate(tv_lr3, X_train_tvec3[:len(X_total) - len(X_test)],\n",
    "                                    Y_train, scoring = ('accuracy', 'precision', 'recall', 'f1','roc_auc'),\n",
    "                                    cv = num_splits, return_train_score = True)\n",
    "print_result(tv_results3, num_splits)\n",
    "\n",
    "scores_tvec3 = pd.DataFrame(tv_results3)\n",
    "scores_tvec3"
   ]
  },
  {
   "cell_type": "code",
   "execution_count": 14,
   "metadata": {},
   "outputs": [
    {
     "data": {
      "image/png": "[encoded data removed]",
      "text/plain": [
       "<Figure size 432x288 with 1 Axes>"
      ]
     },
     "metadata": {
      "needs_background": "light"
     },
     "output_type": "display_data"
    }
   ],
   "source": [
    "def bar_plot(score,title):\n",
    "    ngram1 =  [\"ngram1\",np.mean(scores_cvec1[score]), np.mean(scores_tvec1[score])]\n",
    "    ngram2 =  [\"ngram2\",np.mean(scores_cvec2[score]), np.mean(scores_tvec2[score])]\n",
    "    ngram3 =  [\"ngram3\",np.mean(scores_cvec3[score]), np.mean(scores_tvec3[score])]\n",
    "    df1 = pd.DataFrame([ngram1,ngram2,ngram3],columns=[\"Ngram\",\"CV\",\"TFIDF\"])\n",
    "    df1.set_index(\"Ngram\",inplace=True)\n",
    "    df1.plot(kind='bar', title =title,legend=True)\n",
    "    plt.show()\n",
    "bar_plot('test_f1',\"Effect of Vectorizor on F1 Score\")"
   ]
  },
  {
   "cell_type": "markdown",
   "metadata": {},
   "source": [
    "Split the thain dataset into two parts: the large one is used for training models, the smaller one serves as a validation dataset - which is not seen during training, but has labels.\n",
    "\n",
    "Here our new testing data set will be 0.7 of original train dataset (test_size=0.3), we want proportion of classes to be kept in the new test, and we set the random state for reproducability (random_state=20)."
   ]
  },
  {
   "cell_type": "markdown",
   "metadata": {},
   "source": [
    "# PIPELINE\n",
    "\n",
    "Pipelines are a way to streamline a lot of the routine processes, encapsulating little pieces of logic into one function call, which makes it easier to actually do modeling instead just writing a bunch of code. Pipelines allow for experiments, and for a dataset like this that only has the text as a feature, you're going to need to do a lot of experiments. Plus, when your modeling gets really complicated, it's sometimes hard to see if you have any data leakage hiding somewhere. Pipelines are set up with the fit/transform/predict functionality, so you can fit a whole pipeline to the training data and transform to the test data, without having to do it individually for each thing you do.\n",
    "\n",
    "**Advantages of pipelines**\n",
    "1. Use of pipelines gives you a kind of meta-language to describe your model and abstract from some implementation details.\n",
    "2. With pipelines, you don't need to carry test dataset transformation along with your train features - this is taken care of automatically.\n",
    "3. Hyperparameter tuning made easy - set new parameters on any estimator in the pipeline, and refit - in 1 line. Or use GridSearchCV on the pipeline."
   ]
  },
  {
   "cell_type": "markdown",
   "metadata": {},
   "source": [
    "# Creating Pipeline\n",
    "\n",
    "At first create a very basic first model including both TFIDF and CountVectorizer. \n",
    "\n",
    "In this pipeline, input data comes first to CountVectorizer, which creates a sparse matrix of word counts in each sentence. This matrix then serves as input to TfidfTransformer which massages the data and handles it to the LogisticRegression estimator for training and prediction."
   ]
  },
  {
   "cell_type": "code",
   "execution_count": 17,
   "metadata": {},
   "outputs": [],
   "source": [
    "from sklearn.pipeline import Pipeline\n",
    "from sklearn.feature_extraction.text import CountVectorizer, TfidfTransformer\n",
    "from sklearn.linear_model import LogisticRegression\n",
    "from sklearn.metrics import roc_curve\n",
    "\n",
    "pipe1 = Pipeline([\n",
    "    ('cv', CountVectorizer()),\n",
    "    ('tfidf', TfidfTransformer()),\n",
    "    ('logit', LogisticRegression()),\n",
    "])"
   ]
  },
  {
   "cell_type": "markdown",
   "metadata": {},
   "source": [
    "**Fitting the model**"
   ]
  },
  {
   "cell_type": "code",
   "execution_count": 18,
   "metadata": {},
   "outputs": [
    {
     "name": "stderr",
     "output_type": "stream",
     "text": [
      "C:\\Users\\amsha\\AppData\\Local\\Continuum\\anaconda3\\lib\\site-packages\\sklearn\\linear_model\\logistic.py:433: FutureWarning: Default solver will be changed to 'lbfgs' in 0.22. Specify a solver to silence this warning.\n",
      "  FutureWarning)\n"
     ]
    },
    {
     "data": {
      "text/plain": [
       "Pipeline(memory=None,\n",
       "     steps=[('cv', CountVectorizer(analyzer='word', binary=False, decode_error='strict',\n",
       "        dtype=<class 'numpy.int64'>, encoding='utf-8', input='content',\n",
       "        lowercase=True, max_df=1.0, max_features=None, min_df=1,\n",
       "        ngram_range=(1, 1), preprocessor=None, stop_words=None,\n",
       "        strip_a...penalty='l2', random_state=None, solver='warn',\n",
       "          tol=0.0001, verbose=0, warm_start=False))])"
      ]
     },
     "execution_count": 18,
     "metadata": {},
     "output_type": "execute_result"
    }
   ],
   "source": [
    "pipe1.fit(X_train_part, y_train_part)"
   ]
  },
  {
   "cell_type": "markdown",
   "metadata": {},
   "source": [
    "**Making Prediction**  "
   ]
  },
  {
   "cell_type": "code",
   "execution_count": 19,
   "metadata": {},
   "outputs": [
    {
     "data": {
      "text/plain": [
       "0.4697824335213537"
      ]
     },
     "execution_count": 19,
     "metadata": {},
     "output_type": "execute_result"
    }
   ],
   "source": [
    "from sklearn.metrics import f1_score\n",
    "pred1 = pipe1.predict(X_valid)\n",
    "f1_score(y_valid, pred1)"
   ]
  },
  {
   "cell_type": "code",
   "execution_count": 89,
   "metadata": {},
   "outputs": [
    {
     "name": "stdout",
     "output_type": "stream",
     "text": [
      "Confusion Matrix :\n",
      "[[363352   4242]\n",
      " [ 15498   8745]]\n",
      "Accuracy Score : 0.9496219091101658\n",
      "Report : \n",
      "              precision    recall  f1-score   support\n",
      "\n",
      "           0       0.96      0.99      0.97    367594\n",
      "           1       0.67      0.36      0.47     24243\n",
      "\n",
      "   micro avg       0.95      0.95      0.95    391837\n",
      "   macro avg       0.82      0.67      0.72    391837\n",
      "weighted avg       0.94      0.95      0.94    391837\n",
      "\n"
     ]
    },
    {
     "data": {
      "image/png": "[encoded data removed]",
      "text/plain": [
       "<Figure size 432x288 with 1 Axes>"
      ]
     },
     "metadata": {
      "needs_background": "light"
     },
     "output_type": "display_data"
    }
   ],
   "source": [
    "result(pred1)\n",
    "roccurve('LG','ROC_Curve of TFIDF & CV Log Reg Pipeline',pipe1)"
   ]
  },
  {
   "cell_type": "code",
   "execution_count": 91,
   "metadata": {},
   "outputs": [
    {
     "name": "stdout",
     "output_type": "stream",
     "text": [
      "Best fscore is  0.5818326572392615 and optimum Threshold is  0.23753753753753754\n",
      "F-Score is  0.5818326572392615\n",
      "Precision score is  0.538283469538073\n",
      "recall score is  0.6330487150930165\n"
     ]
    },
    {
     "data": {
      "image/png": "[encoded data removed]",
      "text/plain": [
       "<Figure size 432x288 with 2 Axes>"
      ]
     },
     "metadata": {
      "needs_background": "light"
     },
     "output_type": "display_data"
    }
   ],
   "source": [
    "pred11 = pipe1.predict_proba(X_valid)\n",
    "fhighest = 0\n",
    "threbest = 0\n",
    "thres = np.linspace(.001, .95, 1000)\n",
    "for t in thres:\n",
    "    y_pred = (pred11[:,1] > t).astype(int)\n",
    "    fs = f1_score(y_valid, y_pred)\n",
    "    if fs > fhighest:\n",
    "        fhighest = fs\n",
    "        threbest = t\n",
    "print (\"Best fscore is \", fhighest , \"and optimum Threshold is \", threbest)\n",
    "\n",
    "pred111 = (predx[:,1] > threbest).astype(int)\n",
    "\n",
    "\n",
    "print (\"F-Score is \", f1_score(y_valid, pred111))\n",
    "print(\"Precision score is \" ,precision_score(y_valid, pred111) )\n",
    "print(\"recall score is \" ,recall_score(y_valid, pred111) )\n",
    "\n",
    "conf = confusion_matrix(y_valid, pred111)\n",
    "conf = pd.DataFrame(conf, range(2),range(2))\n",
    "sns.heatmap(conf, annot=True, fmt='g', annot_kws={\"size\": 16})\n",
    "plt.title('Confusion matrix for TFIDF & CV Log Reg Pipeline')\n",
    "plt.show()"
   ]
  },
  {
   "cell_type": "code",
   "execution_count": 25,
   "metadata": {},
   "outputs": [
    {
     "name": "stdout",
     "output_type": "stream",
     "text": [
      "f1 score for BernouliNB is , 0.5038141470180305\n",
      "Confusion Matrix :\n",
      "[[357317  10277]\n",
      " [ 12619  11624]]\n",
      "Accuracy Score : 0.9415675395636451\n",
      "Report : \n",
      "              precision    recall  f1-score   support\n",
      "\n",
      "           0       0.97      0.97      0.97    367594\n",
      "           1       0.53      0.48      0.50     24243\n",
      "\n",
      "   micro avg       0.94      0.94      0.94    391837\n",
      "   macro avg       0.75      0.73      0.74    391837\n",
      "weighted avg       0.94      0.94      0.94    391837\n",
      "\n"
     ]
    },
    {
     "data": {
      "image/png": "[encoded data removed]",
      "text/plain": [
       "<Figure size 432x288 with 1 Axes>"
      ]
     },
     "metadata": {
      "needs_background": "light"
     },
     "output_type": "display_data"
    }
   ],
   "source": [
    "pipe2 = Pipeline([\n",
    "    ('cv', CountVectorizer()),\n",
    "    ('tfidf', TfidfTransformer()),\n",
    "    ('bnb', BernoulliNB()),\n",
    "])\n",
    "\n",
    "pipe2.fit(X_train_part, y_train_part)\n",
    "pred2 = pipe2.predict(X_valid)\n",
    "print(\"f1 score for BernouliNB is ,\" ,f1_score(y_valid, pred2))\n",
    "\n",
    "result(pred2)\n",
    "roccurve('BNB','ROC_Curve of Bernauli NB',pipe2)"
   ]
  },
  {
   "cell_type": "code",
   "execution_count": 92,
   "metadata": {},
   "outputs": [
    {
     "name": "stdout",
     "output_type": "stream",
     "text": [
      "Best fscore is  0.5265237408094552 and optimum Threshold is  0.15014214214214214\n",
      "F-Score is  0.5265237408094552\n",
      "Precision score is  0.4511466336954282\n",
      "recall score is  0.6321412366456297\n",
      "Accuracy score is  0.9296595267930288\n"
     ]
    },
    {
     "data": {
      "image/png": "[encoded data removed]",
      "text/plain": [
       "<Figure size 432x288 with 2 Axes>"
      ]
     },
     "metadata": {
      "needs_background": "light"
     },
     "output_type": "display_data"
    }
   ],
   "source": [
    "pred22 = pipe2.predict_proba(X_valid)\n",
    "fhighest2 = 0\n",
    "threbest2 = 0\n",
    "thres2 = np.linspace(.001, .95, 1000)\n",
    "for t in thres2:\n",
    "    y_pred22 = (pred22[:,1] > t).astype(int)\n",
    "    fs = f1_score(y_valid, y_pred22)\n",
    "    if fs > fhighest2:\n",
    "        fhighest2 = fs\n",
    "        threbest2 = t\n",
    "print (\"Best fscore is \", fhighest2 , \"and optimum Threshold is \", threbest2)\n",
    "\n",
    "pred222 = (pred22[:,1] > threbest2).astype(int)\n",
    "\n",
    "\n",
    "print (\"F-Score is \", f1_score(y_valid, pred222))\n",
    "print(\"Precision score is \" ,precision_score(y_valid, pred222) )\n",
    "print(\"recall score is \" ,recall_score(y_valid, pred222) )\n",
    "print(\"Accuracy score is \" ,accuracy_score(y_valid, pred222) )\n",
    "\n",
    "conf = confusion_matrix(y_valid, pred222)\n",
    "conf = pd.DataFrame(conf, range(2),range(2))\n",
    "sns.heatmap(conf, annot=True, fmt='g', annot_kws={\"size\": 16})\n",
    "plt.title('Confusion matrix for TFIDF & CV Bernauli NB Pipeline')\n",
    "plt.show()"
   ]
  },
  {
   "cell_type": "markdown",
   "metadata": {},
   "source": [
    "Bernauli Naive Bayes given us qite a good result. The F1 score went more that .50 this time, without doing any Hyperparameter Tuning. Lets try to do this to up our score"
   ]
  },
  {
   "cell_type": "markdown",
   "metadata": {},
   "source": [
    "# HyperParameter Tuning with Logistic Regression"
   ]
  },
  {
   "cell_type": "code",
   "execution_count": 51,
   "metadata": {
    "scrolled": true
   },
   "outputs": [
    {
     "data": {
      "text/plain": [
       "GridSearchCV(cv=3, error_score='raise-deprecating',\n",
       "       estimator=Pipeline(memory=None,\n",
       "     steps=[('cv', CountVectorizer(analyzer='word', binary=False, decode_error='strict',\n",
       "        dtype=<class 'numpy.int64'>, encoding='utf-8', input='content',\n",
       "        lowercase=True, max_df=1.0, max_features=None, min_df=1,\n",
       "        ngram_range=(1, 1), preprocessor=None, stop_words=None,\n",
       "        strip_a...penalty='l2', random_state=None, solver='warn',\n",
       "          tol=0.0001, verbose=0, warm_start=False))]),\n",
       "       fit_params=None, iid='warn', n_jobs=-1,\n",
       "       param_grid={'cv__max_df': [0.9, 0.95, 1], 'cv__ngram_range': [(1, 1), (1, 2), (1, 3)], 'logit__C': [1.0, 1.5, 2.0, 2.5]},\n",
       "       pre_dispatch='2*n_jobs', refit=True, return_train_score='warn',\n",
       "       scoring=None, verbose=0)"
      ]
     },
     "execution_count": 51,
     "metadata": {},
     "output_type": "execute_result"
    }
   ],
   "source": [
    "from sklearn.model_selection import GridSearchCV\n",
    "\n",
    "hyperparameters = { 'cv__max_df': [0.9, 0.95,1],\n",
    "#                    'cv__min_df': [0.9, 0.95,1],   \n",
    "                    'cv__ngram_range': [(1,1), (1,2),(1,3)],\n",
    "#                    'cv__max_features' : np.linspace(5000, 50000, 5),\n",
    "#                    'cv__binary': [False,True],\n",
    "                    'logit__C': [1.0,1.5,2.0,2.5],\n",
    "#                    'logit__penalty': ['l2','l1'],\n",
    "#                    'logit__max_iter' : [100,110,120,130,140]                    \n",
    "                  }\n",
    "clf = GridSearchCV(pipe1, hyperparameters, cv=3, n_jobs=-1)\n",
    "clf"
   ]
  },
  {
   "cell_type": "code",
   "execution_count": 52,
   "metadata": {},
   "outputs": [
    {
     "name": "stderr",
     "output_type": "stream",
     "text": [
      "C:\\Users\\amsha\\AppData\\Local\\Continuum\\anaconda3\\lib\\site-packages\\sklearn\\linear_model\\logistic.py:433: FutureWarning: Default solver will be changed to 'lbfgs' in 0.22. Specify a solver to silence this warning.\n",
      "  FutureWarning)\n"
     ]
    },
    {
     "data": {
      "text/plain": [
       "GridSearchCV(cv=3, error_score='raise-deprecating',\n",
       "       estimator=Pipeline(memory=None,\n",
       "     steps=[('cv', CountVectorizer(analyzer='word', binary=False, decode_error='strict',\n",
       "        dtype=<class 'numpy.int64'>, encoding='utf-8', input='content',\n",
       "        lowercase=True, max_df=1.0, max_features=None, min_df=1,\n",
       "        ngram_range=(1, 1), preprocessor=None, stop_words=None,\n",
       "        strip_a...penalty='l2', random_state=None, solver='warn',\n",
       "          tol=0.0001, verbose=0, warm_start=False))]),\n",
       "       fit_params=None, iid='warn', n_jobs=-1,\n",
       "       param_grid={'cv__max_df': [0.9, 0.95, 1], 'cv__ngram_range': [(1, 1), (1, 2), (1, 3)], 'logit__C': [1.0, 1.5, 2.0, 2.5]},\n",
       "       pre_dispatch='2*n_jobs', refit=True, return_train_score='warn',\n",
       "       scoring=None, verbose=0)"
      ]
     },
     "execution_count": 52,
     "metadata": {},
     "output_type": "execute_result"
    }
   ],
   "source": [
    "clf.fit(X_train_part, y_train_part)"
   ]
  },
  {
   "cell_type": "markdown",
   "metadata": {},
   "source": [
    "# Analysis of GridSearchCV of LogReg"
   ]
  },
  {
   "cell_type": "code",
   "execution_count": 53,
   "metadata": {},
   "outputs": [
    {
     "name": "stdout",
     "output_type": "stream",
     "text": [
      "LogisticRegression(C=2.5, class_weight=None, dual=False, fit_intercept=True,\n",
      "          intercept_scaling=1, max_iter=100, multi_class='warn',\n",
      "          n_jobs=None, penalty='l2', random_state=None, solver='warn',\n",
      "          tol=0.0001, verbose=0, warm_start=False)\n",
      "CountVectorizer(analyzer='word', binary=False, decode_error='strict',\n",
      "        dtype=<class 'numpy.int64'>, encoding='utf-8', input='content',\n",
      "        lowercase=True, max_df=0.9, max_features=None, min_df=1,\n",
      "        ngram_range=(1, 1), preprocessor=None, stop_words=None,\n",
      "        strip_accents=None, token_pattern='(?u)\\\\b\\\\w\\\\w+\\\\b',\n",
      "        tokenizer=None, vocabulary=None)\n",
      "The best score is  0.9502748049021913\n"
     ]
    }
   ],
   "source": [
    "print(clf.best_estimator_.named_steps['logit'])\n",
    "print(clf.best_estimator_.named_steps['cv'])\n",
    "print(\"The best score is \",clf.best_score_)"
   ]
  },
  {
   "cell_type": "code",
   "execution_count": 54,
   "metadata": {},
   "outputs": [
    {
     "name": "stdout",
     "output_type": "stream",
     "text": [
      "f1 score for GridCV using Logistic Regression is , 0.49411826077884136\n",
      "Confusion Matrix :\n",
      "[[362970   4624]\n",
      " [ 14771   9472]]\n",
      "Accuracy Score : 0.9505023772640154\n",
      "Report : \n",
      "              precision    recall  f1-score   support\n",
      "\n",
      "           0       0.96      0.99      0.97    367594\n",
      "           1       0.67      0.39      0.49     24243\n",
      "\n",
      "   micro avg       0.95      0.95      0.95    391837\n",
      "   macro avg       0.82      0.69      0.73    391837\n",
      "weighted avg       0.94      0.95      0.94    391837\n",
      "\n"
     ]
    },
    {
     "data": {
      "image/png": "[encoded data removed]",
      "text/plain": [
       "<Figure size 432x288 with 1 Axes>"
      ]
     },
     "metadata": {
      "needs_background": "light"
     },
     "output_type": "display_data"
    }
   ],
   "source": [
    "pred3 = clf.predict(X_valid)\n",
    "print(\"f1 score for GridCV using Logistic Regression is ,\" ,f1_score(y_valid, pred3))\n",
    "\n",
    "result(pred3)\n",
    "roccurve('GridCV','ROC_Curve of GridCV using Logistic Regression',clf)"
   ]
  },
  {
   "cell_type": "code",
   "execution_count": 94,
   "metadata": {},
   "outputs": [
    {
     "name": "stdout",
     "output_type": "stream",
     "text": [
      "Best fscore is  0.5880721220527045 and optimum Threshold is  0.23278778778778778\n",
      "F-Score is  0.5880721220527045\n",
      "Precision score is  0.5329847144006437\n",
      "recall score is  0.6558594233386957\n",
      "Accuracy score is  0.9431523822405745\n"
     ]
    },
    {
     "data": {
      "image/png": "[encoded data removed]",
      "text/plain": [
       "<Figure size 432x288 with 2 Axes>"
      ]
     },
     "metadata": {
      "needs_background": "light"
     },
     "output_type": "display_data"
    }
   ],
   "source": [
    "pred33 = clf.predict_proba(X_valid)\n",
    "fhighest3 = 0\n",
    "threbest3 = 0\n",
    "thres3 = np.linspace(.001, .95, 1000)\n",
    "for t in thres3:\n",
    "    y_pred33 = (pred33[:,1] > t).astype(int)\n",
    "    fs = f1_score(y_valid, y_pred33)\n",
    "    if fs > fhighest3:\n",
    "        fhighest3 = fs\n",
    "        threbest3 = t\n",
    "print (\"Best fscore is \", fhighest3 , \"and optimum Threshold is \", threbest3)\n",
    "\n",
    "pred333 = (pred33[:,1] > threbest3).astype(int)\n",
    "\n",
    "\n",
    "print (\"F-Score is \", f1_score(y_valid, pred333))\n",
    "print(\"Precision score is \" ,precision_score(y_valid, pred333) )\n",
    "print(\"recall score is \" ,recall_score(y_valid, pred333) )\n",
    "print(\"Accuracy score is \" ,accuracy_score(y_valid, pred333) )\n",
    "\n",
    "conf = confusion_matrix(y_valid, pred333)\n",
    "conf = pd.DataFrame(conf, range(2),range(2))\n",
    "sns.heatmap(conf, annot=True, fmt='g', annot_kws={\"size\": 16})\n",
    "plt.title('Confusion matrix for TFIDF & CV Bernauli NB Pipeline')\n",
    "plt.show()"
   ]
  },
  {
   "cell_type": "markdown",
   "metadata": {},
   "source": [
    "# HyperParameter Tuning with Naive Bayes"
   ]
  },
  {
   "cell_type": "code",
   "execution_count": 49,
   "metadata": {},
   "outputs": [
    {
     "data": {
      "text/plain": [
       "GridSearchCV(cv=3, error_score='raise-deprecating',\n",
       "       estimator=Pipeline(memory=None,\n",
       "     steps=[('cv', CountVectorizer(analyzer='word', binary=False, decode_error='strict',\n",
       "        dtype=<class 'numpy.int64'>, encoding='utf-8', input='content',\n",
       "        lowercase=True, max_df=1.0, max_features=None, min_df=1,\n",
       "        ngram_range=(1, 1), preprocessor=None, stop_words=None,\n",
       "        strip_a...se, use_idf=True)), ('bnb', BernoulliNB(alpha=1.0, binarize=0.0, class_prior=None, fit_prior=True))]),\n",
       "       fit_params=None, iid='warn', n_jobs=-1,\n",
       "       param_grid={'cv__max_df': [0.9, 0.95, 1], 'cv__ngram_range': [(1, 1), (1, 2), (1, 3)], 'bnb__alpha': [0.0, 0.0001, 0.001, 0.01, 0.1, 0.5, 1.0, 2.0, 10.0]},\n",
       "       pre_dispatch='2*n_jobs', refit=True, return_train_score='warn',\n",
       "       scoring=None, verbose=0)"
      ]
     },
     "execution_count": 49,
     "metadata": {},
     "output_type": "execute_result"
    }
   ],
   "source": [
    "hyperparameters = { 'cv__max_df': [0.9, 0.95,1],\n",
    "#                    'cv__min_df': [0.9, 0.95,1],   \n",
    "                    'cv__ngram_range': [(1,1), (1,2),(1,3)],\n",
    "#                    'cv__max_features' : np.linspace(5000, 50000, 5),\n",
    "#                    'cv__binary': [False,True],\n",
    "                    'bnb__alpha': [0.0, 0.0001, 0.001, 0.01, 0.1, 0.5, 1.0, 2.0, 10.0],\n",
    "#                    'logit__penalty': ['l2','l1'],\n",
    "#                    'logit__max_iter' : [100,110,120,130,140]                    \n",
    "                  }\n",
    "clf1 = GridSearchCV(pipe2, hyperparameters, cv=3, n_jobs=-1)\n",
    "clf1"
   ]
  },
  {
   "cell_type": "code",
   "execution_count": 50,
   "metadata": {},
   "outputs": [
    {
     "data": {
      "text/plain": [
       "GridSearchCV(cv=3, error_score='raise-deprecating',\n",
       "       estimator=Pipeline(memory=None,\n",
       "     steps=[('cv', CountVectorizer(analyzer='word', binary=False, decode_error='strict',\n",
       "        dtype=<class 'numpy.int64'>, encoding='utf-8', input='content',\n",
       "        lowercase=True, max_df=1.0, max_features=None, min_df=1,\n",
       "        ngram_range=(1, 1), preprocessor=None, stop_words=None,\n",
       "        strip_a...se, use_idf=True)), ('bnb', BernoulliNB(alpha=1.0, binarize=0.0, class_prior=None, fit_prior=True))]),\n",
       "       fit_params=None, iid='warn', n_jobs=-1,\n",
       "       param_grid={'cv__max_df': [0.9, 0.95, 1], 'cv__ngram_range': [(1, 1), (1, 2), (1, 3)], 'bnb__alpha': [0.0, 0.0001, 0.001, 0.01, 0.1, 0.5, 1.0, 2.0, 10.0]},\n",
       "       pre_dispatch='2*n_jobs', refit=True, return_train_score='warn',\n",
       "       scoring=None, verbose=0)"
      ]
     },
     "execution_count": 50,
     "metadata": {},
     "output_type": "execute_result"
    }
   ],
   "source": [
    "clf1.fit(X_train_part, y_train_part)"
   ]
  },
  {
   "cell_type": "markdown",
   "metadata": {},
   "source": [
    "# Analysis of GridSearchCV of Naive Bayes"
   ]
  },
  {
   "cell_type": "code",
   "execution_count": 56,
   "metadata": {},
   "outputs": [
    {
     "name": "stdout",
     "output_type": "stream",
     "text": [
      "BernoulliNB(alpha=0.1, binarize=0.0, class_prior=None, fit_prior=True)\n",
      "CountVectorizer(analyzer='word', binary=False, decode_error='strict',\n",
      "        dtype=<class 'numpy.int64'>, encoding='utf-8', input='content',\n",
      "        lowercase=True, max_df=0.9, max_features=None, min_df=1,\n",
      "        ngram_range=(1, 3), preprocessor=None, stop_words=None,\n",
      "        strip_accents=None, token_pattern='(?u)\\\\b\\\\w\\\\w+\\\\b',\n",
      "        tokenizer=None, vocabulary=None)\n",
      "The best score is  0.9463788643584877\n"
     ]
    }
   ],
   "source": [
    "print(clf1.best_estimator_.named_steps['bnb'])\n",
    "print(clf1.best_estimator_.named_steps['cv'])\n",
    "print(\"The best score is \",clf1.best_score_)"
   ]
  },
  {
   "cell_type": "code",
   "execution_count": 57,
   "metadata": {},
   "outputs": [
    {
     "name": "stdout",
     "output_type": "stream",
     "text": [
      "f1 score for GridCV using Naive Bayes is , 0.425615763546798\n",
      "Confusion Matrix :\n",
      "[[363073   4521]\n",
      " [ 16467   7776]]\n",
      "Accuracy Score : 0.9464369112666746\n",
      "Report : \n",
      "              precision    recall  f1-score   support\n",
      "\n",
      "           0       0.96      0.99      0.97    367594\n",
      "           1       0.63      0.32      0.43     24243\n",
      "\n",
      "   micro avg       0.95      0.95      0.95    391837\n",
      "   macro avg       0.79      0.65      0.70    391837\n",
      "weighted avg       0.94      0.95      0.94    391837\n",
      "\n"
     ]
    },
    {
     "data": {
      "image/png": "[encoded data removed]",
      "text/plain": [
       "<Figure size 432x288 with 1 Axes>"
      ]
     },
     "metadata": {
      "needs_background": "light"
     },
     "output_type": "display_data"
    }
   ],
   "source": [
    "pred4 = clf1.predict(X_valid)\n",
    "print(\"f1 score for GridCV using Naive Bayes is ,\" ,f1_score(y_valid, pred4))\n",
    "\n",
    "result(pred4)\n",
    "roccurve('GridCV','ROC_Curve of GridCV using Naive Bayes',clf1)"
   ]
  },
  {
   "cell_type": "code",
   "execution_count": null,
   "metadata": {},
   "outputs": [],
   "source": []
  },
  {
   "cell_type": "code",
   "execution_count": null,
   "metadata": {},
   "outputs": [],
   "source": []
  },
  {
   "cell_type": "code",
   "execution_count": null,
   "metadata": {},
   "outputs": [],
   "source": []
  },
  {
   "cell_type": "code",
   "execution_count": null,
   "metadata": {},
   "outputs": [],
   "source": []
  },
  {
   "cell_type": "code",
   "execution_count": null,
   "metadata": {},
   "outputs": [],
   "source": []
  },
  {
   "cell_type": "code",
   "execution_count": null,
   "metadata": {},
   "outputs": [],
   "source": []
  },
  {
   "cell_type": "code",
   "execution_count": null,
   "metadata": {},
   "outputs": [],
   "source": []
  },
  {
   "cell_type": "code",
   "execution_count": null,
   "metadata": {},
   "outputs": [],
   "source": []
  },
  {
   "cell_type": "code",
   "execution_count": null,
   "metadata": {},
   "outputs": [],
   "source": []
  },
  {
   "cell_type": "code",
   "execution_count": null,
   "metadata": {},
   "outputs": [],
   "source": []
  },
  {
   "cell_type": "code",
   "execution_count": null,
   "metadata": {},
   "outputs": [],
   "source": []
  },
  {
   "cell_type": "code",
   "execution_count": null,
   "metadata": {},
   "outputs": [],
   "source": []
  },
  {
   "cell_type": "code",
   "execution_count": null,
   "metadata": {},
   "outputs": [],
   "source": []
  },
  {
   "cell_type": "code",
   "execution_count": null,
   "metadata": {},
   "outputs": [],
   "source": []
  },
  {
   "cell_type": "code",
   "execution_count": null,
   "metadata": {},
   "outputs": [],
   "source": []
  },
  {
   "cell_type": "code",
   "execution_count": null,
   "metadata": {},
   "outputs": [],
   "source": []
  },
  {
   "cell_type": "code",
   "execution_count": null,
   "metadata": {},
   "outputs": [],
   "source": []
  },
  {
   "cell_type": "code",
   "execution_count": null,
   "metadata": {},
   "outputs": [],
   "source": []
  },
  {
   "cell_type": "code",
   "execution_count": null,
   "metadata": {},
   "outputs": [],
   "source": []
  },
  {
   "cell_type": "code",
   "execution_count": null,
   "metadata": {},
   "outputs": [],
   "source": []
  },
  {
   "cell_type": "code",
   "execution_count": null,
   "metadata": {},
   "outputs": [],
   "source": []
  },
  {
   "cell_type": "code",
   "execution_count": null,
   "metadata": {},
   "outputs": [],
   "source": []
  }
 ],
 "metadata": {
  "kernelspec": {
   "display_name": "Python 3",
   "language": "python",
   "name": "python3"
  },
  "language_info": {
   "codemirror_mode": {
    "name": "ipython",
    "version": 3
   },
   "file_extension": ".py",
   "mimetype": "text/x-python",
   "name": "python",
   "nbconvert_exporter": "python",
   "pygments_lexer": "ipython3",
   "version": "3.7.3"
  }
 },
 "nbformat": 4,
 "nbformat_minor": 2
}
