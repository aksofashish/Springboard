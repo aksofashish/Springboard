{
 "cells": [
  {
   "cell_type": "markdown",
   "metadata": {},
   "source": [
    "# What is the True Normal Human Body Temperature? \n",
    "\n",
    "#### Background\n",
    "\n",
    "The mean normal body temperature was held to be 37$^{\\circ}$C or 98.6$^{\\circ}$F for more than 120 years since it was first conceptualized and reported by Carl Wunderlich in a famous 1868 book. But, is this value statistically correct?"
   ]
  },
  {
   "cell_type": "markdown",
   "metadata": {},
   "source": [
    "<h3>Exercises</h3>\n",
    "\n",
    "<p>In this exercise, you will analyze a dataset of human body temperatures and employ the concepts of hypothesis testing, confidence intervals, and statistical significance.</p>\n",
    "\n",
    "<p>Answer the following questions <b>in this notebook below and submit to your Github account</b>.</p> \n",
    "\n",
    "<ol>\n",
    "<li>  Is the distribution of body temperatures normal? \n",
    "    <ul>\n",
    "    <li> Although this is not a requirement for the Central Limit Theorem to hold (read the introduction on Wikipedia's page about the CLT carefully: https://en.wikipedia.org/wiki/Central_limit_theorem), it gives us some peace of mind that the population may also be normally distributed if we assume that this sample is representative of the population.\n",
    "    <li> Think about the way you're going to check for the normality of the distribution. Graphical methods are usually used first, but there are also other ways: https://en.wikipedia.org/wiki/Normality_test\n",
    "    </ul>\n",
    "<li>  Is the sample size large? Are the observations independent?\n",
    "    <ul>\n",
    "    <li> Remember that this is a condition for the Central Limit Theorem, and hence the statistical tests we are using, to apply.\n",
    "    </ul>\n",
    "<li>  Is the true population mean really 98.6 degrees F?\n",
    "    <ul>\n",
    "    <li> First, try a bootstrap hypothesis test.\n",
    "    <li> Now, let's try frequentist statistical testing. Would you use a one-sample or two-sample test? Why?\n",
    "    <li> In this situation, is it appropriate to use the $t$ or $z$ statistic? \n",
    "    <li> Now try using the other test. How is the result be different? Why?\n",
    "    </ul>\n",
    "<li>  Draw a small sample of size 10 from the data and repeat both frequentist tests. \n",
    "    <ul>\n",
    "    <li> Which one is the correct one to use? \n",
    "    <li> What do you notice? What does this tell you about the difference in application of the $t$ and $z$ statistic?\n",
    "    </ul>\n",
    "<li>  At what temperature should we consider someone's temperature to be \"abnormal\"?\n",
    "    <ul>\n",
    "    <li> As in the previous example, try calculating everything using the boostrap approach, as well as the frequentist approach.\n",
    "    <li> Start by computing the margin of error and confidence interval. When calculating the confidence interval, keep in mind that you should use the appropriate formula for one draw, and not N draws.\n",
    "    </ul>\n",
    "<li>  Is there a significant difference between males and females in normal temperature?\n",
    "    <ul>\n",
    "    <li> What testing approach did you use and why?\n",
    "    <li> Write a story with your conclusion in the context of the original problem.\n",
    "    </ul>\n",
    "</ol>\n",
    "\n",
    "You can include written notes in notebook cells using Markdown: \n",
    "   - In the control panel at the top, choose Cell > Cell Type > Markdown\n",
    "   - Markdown syntax: http://nestacms.com/docs/creating-content/markdown-cheat-sheet\n",
    "\n",
    "#### Resources\n",
    "\n",
    "+ Information and data sources: http://www.amstat.org/publications/jse/datasets/normtemp.txt, http://www.amstat.org/publications/jse/jse_data_archive.htm\n",
    "+ Markdown syntax: http://nestacms.com/docs/creating-content/markdown-cheat-sheet\n",
    "\n",
    "****"
   ]
  },
  {
   "cell_type": "code",
   "execution_count": 19,
   "metadata": {},
   "outputs": [],
   "source": [
    "import pandas as pd\n",
    "import os\n",
    "import pandas as pd\n",
    "import numpy as np\n",
    "import matplotlib.pyplot as plt\n",
    "import scipy.stats as stats\n",
    "import pylab\n",
    "\n"
   ]
  },
  {
   "cell_type": "code",
   "execution_count": 20,
   "metadata": {},
   "outputs": [],
   "source": [
    "df = pd.read_csv('human_body_temperature.csv')"
   ]
  },
  {
   "cell_type": "code",
   "execution_count": 16,
   "metadata": {},
   "outputs": [
    {
     "data": {
      "text/plain": [
       "temperature    0\n",
       "gender         0\n",
       "heart_rate     0\n",
       "dtype: int64"
      ]
     },
     "execution_count": 16,
     "metadata": {},
     "output_type": "execute_result"
    }
   ],
   "source": [
    "# There are no null values in the dataset\n",
    "df.isnull().sum(axis = 0)"
   ]
  },
  {
   "cell_type": "code",
   "execution_count": 18,
   "metadata": {},
   "outputs": [
    {
     "data": {
      "text/html": [
       "<div>\n",
       "<style scoped>\n",
       "    .dataframe tbody tr th:only-of-type {\n",
       "        vertical-align: middle;\n",
       "    }\n",
       "\n",
       "    .dataframe tbody tr th {\n",
       "        vertical-align: top;\n",
       "    }\n",
       "\n",
       "    .dataframe thead th {\n",
       "        text-align: right;\n",
       "    }\n",
       "</style>\n",
       "<table border=\"1\" class=\"dataframe\">\n",
       "  <thead>\n",
       "    <tr style=\"text-align: right;\">\n",
       "      <th></th>\n",
       "      <th>temperature</th>\n",
       "      <th>gender</th>\n",
       "      <th>heart_rate</th>\n",
       "    </tr>\n",
       "  </thead>\n",
       "  <tbody>\n",
       "    <tr>\n",
       "      <th>0</th>\n",
       "      <td>99.3</td>\n",
       "      <td>F</td>\n",
       "      <td>68.0</td>\n",
       "    </tr>\n",
       "    <tr>\n",
       "      <th>1</th>\n",
       "      <td>98.4</td>\n",
       "      <td>F</td>\n",
       "      <td>81.0</td>\n",
       "    </tr>\n",
       "    <tr>\n",
       "      <th>2</th>\n",
       "      <td>97.8</td>\n",
       "      <td>M</td>\n",
       "      <td>73.0</td>\n",
       "    </tr>\n",
       "    <tr>\n",
       "      <th>3</th>\n",
       "      <td>99.2</td>\n",
       "      <td>F</td>\n",
       "      <td>66.0</td>\n",
       "    </tr>\n",
       "    <tr>\n",
       "      <th>4</th>\n",
       "      <td>98.0</td>\n",
       "      <td>F</td>\n",
       "      <td>73.0</td>\n",
       "    </tr>\n",
       "  </tbody>\n",
       "</table>\n",
       "</div>"
      ],
      "text/plain": [
       "   temperature gender  heart_rate\n",
       "0         99.3      F        68.0\n",
       "1         98.4      F        81.0\n",
       "2         97.8      M        73.0\n",
       "3         99.2      F        66.0\n",
       "4         98.0      F        73.0"
      ]
     },
     "execution_count": 18,
     "metadata": {},
     "output_type": "execute_result"
    }
   ],
   "source": [
    "df.head()"
   ]
  },
  {
   "cell_type": "markdown",
   "metadata": {},
   "source": [
    "**Q1 Check the Normality of the Temperature distribution** "
   ]
  },
  {
   "cell_type": "code",
   "execution_count": 26,
   "metadata": {},
   "outputs": [
    {
     "data": {
      "image/png": "[encoded data removed]",
      "text/plain": [
       "<Figure size 432x288 with 1 Axes>"
      ]
     },
     "metadata": {
      "needs_background": "light"
     },
     "output_type": "display_data"
    }
   ],
   "source": [
    "# histogram\n",
    "plt.hist(df.temperature, color = 'green',ec='black')\n",
    "plt.xlabel(\"Body Temperature\")\n",
    "plt.title(\"Hitogram of Body Temperature\")\n",
    "plt.show()\n",
    "\n",
    "# According to the histogram we can see that the distribution is very normal. We can also further test this using qqplot."
   ]
  },
  {
   "cell_type": "code",
   "execution_count": 27,
   "metadata": {},
   "outputs": [
    {
     "data": {
      "image/png": "[encoded data removed]",
      "text/plain": [
       "<Figure size 432x288 with 1 Axes>"
      ]
     },
     "metadata": {
      "needs_background": "light"
     },
     "output_type": "display_data"
    }
   ],
   "source": [
    "# use qqplot to check normality \n",
    "stats.probplot(df.temperature, dist=\"norm\", plot=pylab)\n",
    "pylab.title(\"QQplot of Body Temperature\")\n",
    "pylab.show()"
   ]
  },
  {
   "cell_type": "markdown",
   "metadata": {},
   "source": [
    "*Diagram below also shows that the distribution of the Body temps is normal as the actual data plot follows very cosely to the ecdf (samples based on mu and sigma) plot.*"
   ]
  },
  {
   "cell_type": "code",
   "execution_count": 31,
   "metadata": {},
   "outputs": [],
   "source": [
    "def ecdf(data):\n",
    "    \"\"\"Compute ECDF for a one-dimensional array of measurements.\"\"\"\n",
    "\n",
    "    # Number of data points: n\n",
    "    n = len(data)\n",
    "\n",
    "    # x-data for the ECDF: x\n",
    "\n",
    "    x = np.sort(data)\n",
    "\n",
    "    # y-data for the ECDF: y\n",
    "    y = np.arange(1, n+1) / n\n",
    "\n",
    "    return x, y"
   ]
  },
  {
   "cell_type": "code",
   "execution_count": 33,
   "metadata": {},
   "outputs": [
    {
     "data": {
      "image/png": "[encoded data removed]",
      "text/plain": [
       "<Figure size 432x288 with 1 Axes>"
      ]
     },
     "metadata": {
      "needs_background": "light"
     },
     "output_type": "display_data"
    }
   ],
   "source": [
    "# Compute mean and standard deviation: mu, sigma\n",
    "\n",
    "mu = np.mean(df['temperature'])\n",
    "sigma = np.std(df['temperature'])\n",
    "\n",
    "# Sample out of a normal distribution with this mu and sigma: samples\n",
    "samples = np.random.normal(mu, sigma, size=130)\n",
    "\n",
    "# Get the CDF of the samples and of the data\n",
    "x_theor, y_theor = ecdf(samples)\n",
    "x, y = ecdf(df['temperature'])\n",
    "\n",
    "# Plot the CDFs and show the plot\n",
    "_ = plt.plot(x_theor, y_theor)\n",
    "_ = plt.plot(x, y, marker='.', linestyle='none')\n",
    "plt.margins(0.02)\n",
    "_ = plt.xlabel('temperature')\n",
    "_ = plt.ylabel('CDF')\n",
    "plt.show()"
   ]
  },
  {
   "cell_type": "markdown",
   "metadata": {},
   "source": [
    "**Q2. Is the sample size large? Are the observations independent?**"
   ]
  },
  {
   "cell_type": "code",
   "execution_count": 28,
   "metadata": {},
   "outputs": [
    {
     "data": {
      "text/plain": [
       "130"
      ]
     },
     "execution_count": 28,
     "metadata": {},
     "output_type": "execute_result"
    }
   ],
   "source": [
    "sample_size=df.temperature.size\n",
    "sample_size"
   ]
  },
  {
   "cell_type": "markdown",
   "metadata": {},
   "source": [
    "Sample size > 30 and sufficiently large for CLT. Samples are independent because they are taken from different people."
   ]
  },
  {
   "cell_type": "markdown",
   "metadata": {},
   "source": [
    "**Q3. Is the true population mean really 98.6 degrees F?**"
   ]
  },
  {
   "cell_type": "markdown",
   "metadata": {},
   "source": [
    "**A one-sample bootstrap hypothesis test**"
   ]
  },
  {
   "cell_type": "code",
   "execution_count": 38,
   "metadata": {},
   "outputs": [],
   "source": [
    "def bootstrap_replicate_1d(data, func):\n",
    "    return func(np.random.choice(data, size=len(data)))"
   ]
  },
  {
   "cell_type": "code",
   "execution_count": 40,
   "metadata": {},
   "outputs": [],
   "source": [
    "def draw_bs_reps(data, func, size=1):\n",
    "    \"\"\"Draw bootstrap replicates.\"\"\"\n",
    "\n",
    "    # Initialize array of replicates: bs_replicates\n",
    "    bs_replicates = np.empty(size)\n",
    "\n",
    "    # Generate replicates\n",
    "    for i in range(size):\n",
    "        bs_replicates[i] = bootstrap_replicate_1d(data, func)\n",
    "\n",
    "    return bs_replicates"
   ]
  },
  {
   "cell_type": "code",
   "execution_count": 41,
   "metadata": {},
   "outputs": [
    {
     "name": "stdout",
     "output_type": "stream",
     "text": [
      "p =  0.0\n"
     ]
    }
   ],
   "source": [
    "# Make an array of translated temperatures: translated_temp\n",
    "translated_temp = df['temperature'].dropna() - np.mean(df['temperature']) + 98.6\n",
    "\n",
    "# Take bootstrap replicates of translated temperatures: bs_replicates\n",
    "bs_replicates = draw_bs_reps(translated_temp, np.mean, 10000)\n",
    "\n",
    "# Compute fraction of replicates that are less than the observed population temperatures: p\n",
    "p = np.sum(bs_replicates <= np.mean(df['temperature'].dropna())) / 10000\n",
    "\n",
    "# Print the p-value\n",
    "print('p = ', p)"
   ]
  },
  {
   "cell_type": "code",
   "execution_count": 36,
   "metadata": {},
   "outputs": [
    {
     "data": {
      "text/plain": [
       "98.24923076923078"
      ]
     },
     "execution_count": 36,
     "metadata": {},
     "output_type": "execute_result"
    }
   ],
   "source": [
    "np.mean(df['temperature'])\n",
    "# The mean of sample data is 98.25 F. Now we need to check whether the population mean is 98.6 \n",
    "#or not when sample mean is lesser than that"
   ]
  },
  {
   "cell_type": "markdown",
   "metadata": {},
   "source": [
    "Would you use a one-sample or two-sample test? Why? In this situation, is it appropriate to use the t or z statistic? Now try using the other test. How is the result be different? Why?\n",
    "\n",
    "**Ho: True Population Mean is 98.6 F**\n",
    "\n",
    "**H1: True Population Mean is not 98.6 F**\n",
    "\n",
    "$$H_0: p_T = 98.6$$$$H_A: p_T \\ne 98.6$$\n",
    "\n",
    "Since the sample size is 130, a large sample size. *Z and t* tests will both work.\n",
    "\n",
    "A one-sample t-test hypothesis testing: Tests the mean of a single group against a known mean\n",
    "\n",
    "**What are T-Values and P-values?**\n",
    "\n",
    "How big is “big enough”? Every t-value has a p-value to go with it. A p-value is the probability that the results from your sample data occurred by chance. P-values are from 0% to 100%. They are usually written as a decimal. For example, a p value of 5% is 0.05. Low p-values are good; They indicate your data did not occur by chance. For example, a p-value of .01 means there is only a 1% probability that the results from an experiment happened by chance. In most cases, a p-value of 0.05 (5%) is accepted to mean the data is valid.\n",
    "\n",
    "Types of t-tests? There are three main types of t-test:\n",
    "1. An Independent Samples t-test compares the means for two groups.\n",
    "2. A Paired sample t-test compares means from the same group at different times (say, one year apart).\n",
    "3. A One sample t-test tests the mean of a single group against a known mean."
   ]
  },
  {
   "cell_type": "code",
   "execution_count": 42,
   "metadata": {},
   "outputs": [],
   "source": [
    "from scipy import stats"
   ]
  },
  {
   "cell_type": "code",
   "execution_count": 44,
   "metadata": {},
   "outputs": [
    {
     "data": {
      "text/plain": [
       "-5.475925202078116"
      ]
     },
     "execution_count": 44,
     "metadata": {},
     "output_type": "execute_result"
    }
   ],
   "source": [
    "#t = (sample mean - proposed mean)/ (sample std. dev / sqrt(sample size))\n",
    "tstat =  (np.mean(df['temperature'].dropna()) - 98.6)/ (np.std(df['temperature'].dropna()) / np.sqrt(130))\n",
    "tstat"
   ]
  },
  {
   "cell_type": "code",
   "execution_count": 46,
   "metadata": {},
   "outputs": [
    {
     "data": {
      "text/plain": [
       "Ttest_1sampResult(statistic=-5.4548232923645195, pvalue=2.4106320415561276e-07)"
      ]
     },
     "execution_count": 46,
     "metadata": {},
     "output_type": "execute_result"
    }
   ],
   "source": [
    "#Here we are using a 1 sample t-test since we are comparing the mean of this group of people to the known mean 98.6degF\n",
    "stats.ttest_1samp(df['temperature'].dropna(), 98.6)"
   ]
  },
  {
   "cell_type": "markdown",
   "metadata": {},
   "source": [
    "According to the 1 sample t-test--> With a p-value of 10^-7 we can claim that the population mean for the Body Temperatures IS NOT 98.6. This is because our null hypothesis is that the human body temperature mean is 98.6, but this is being rejected due to the very low p-value gotten from the 1 sample t-test."
   ]
  },
  {
   "cell_type": "markdown",
   "metadata": {},
   "source": [
    "**Here we are using a 1 sample t-test since we are comparing the mean of this group of people to the known mean 98.6deg.F. A 2 sample test would be used if we were comparing male and female body temperatures i.e. 2 distinct samples.**"
   ]
  },
  {
   "cell_type": "code",
   "execution_count": 61,
   "metadata": {},
   "outputs": [
    {
     "name": "stdout",
     "output_type": "stream",
     "text": [
      "The mean of sample data is: \n",
      "98.24923076923078\n",
      "The standard deviation of sample data is: \n",
      "0.7303577789050377\n",
      "SE:  0.06405661469519336\n",
      "z-value:  -5.475925202078116\n"
     ]
    }
   ],
   "source": [
    "# we already have calulated the mean and satandard deviation of sample above.\n",
    "#Just printing the values.\n",
    "print ('The mean of sample data is: ') \n",
    "print(np.mean(df['temperature']))\n",
    "print ('The standard deviation of sample data is: ') \n",
    "print(np.std(df['temperature']))\n",
    "\n",
    "# will calculate SE(standard error). using formula SE = std / sqrt(n_data).: SE\n",
    "# we have already calculated the lenght of array in valriable n_data which is 130.\n",
    "SE = (np.std(df['temperature']))/np.sqrt(len(df['temperature']))\n",
    "print(\"SE: \", SE)\n",
    "\n",
    "# will calculate the z value now.: z\n",
    "z=((np.mean(df['temperature']))-98.6)/SE\n",
    "print(\"z-value: \",z)"
   ]
  },
  {
   "cell_type": "code",
   "execution_count": 64,
   "metadata": {},
   "outputs": [
    {
     "data": {
      "text/plain": [
       "2.1761575829410943e-08"
      ]
     },
     "execution_count": 64,
     "metadata": {},
     "output_type": "execute_result"
    }
   ],
   "source": [
    "p = stats.norm.cdf(z)\n",
    "p"
   ]
  },
  {
   "cell_type": "markdown",
   "metadata": {},
   "source": [
    "Since the p-value (0.31882092904676895 ~ 0.3) is greater than the significance level (α assumed to be 0.05 for (0.95)95% confidence interval), then the null hypothesis rejected. In other words per the p-value of the zscore the human body temperature mean is NOT 98.6 deg F.\n",
    "$$H_0: p_T = 98.6$$$$H_A: p_T \\ne 98.6$$\n",
    "This shows us that the t-statistic and z-statistic give us same results.\n",
    "The 1 sample bootstrap test and the 1 sample t-test and Z test all give same results i.e. mean human body temperature is not 98.6."
   ]
  },
  {
   "cell_type": "markdown",
   "metadata": {},
   "source": [
    "**Q4 Draw a small sample of size 10 from the data and repeat both frequentist tests.**\n",
    "Which one is the correct one to use?\n",
    "What do you notice?\n",
    "What does this tell you about the difference in application of the t and z statistic?"
   ]
  },
  {
   "cell_type": "code",
   "execution_count": 65,
   "metadata": {},
   "outputs": [
    {
     "name": "stdout",
     "output_type": "stream",
     "text": [
      "[96.7225 99.4775]\n"
     ]
    }
   ],
   "source": [
    "# calculate bootstrap replicates of the given dataset: bs_repl\n",
    "bs_repl = draw_bs_reps(df['temperature'], np.mean, 130)\n",
    "\n",
    "# compute the 95% confidence interval: confd_intrvl\n",
    "confd_intrvl = np.percentile(df['temperature'], [2.5, 97.5])\n",
    "print(confd_intrvl)"
   ]
  },
  {
   "cell_type": "markdown",
   "metadata": {},
   "source": [
    "**AS per above Confidence interval calculation temperature less than 96.7225 and greater than 99.4775 degree F should be considered as \"abnormal\".**"
   ]
  },
  {
   "cell_type": "markdown",
   "metadata": {},
   "source": [
    "**Q6 Is there a significant difference between males and females in normal temperature?**\n",
    "\n",
    "What testing approach did you use and why?\n",
    "Write a story with your conclusion in the context of the original problem."
   ]
  },
  {
   "cell_type": "code",
   "execution_count": 70,
   "metadata": {},
   "outputs": [
    {
     "data": {
      "image/png": "[encoded data removed]",
      "text/plain": [
       "<Figure size 432x288 with 1 Axes>"
      ]
     },
     "metadata": {
      "needs_background": "light"
     },
     "output_type": "display_data"
    }
   ],
   "source": [
    "import seaborn as sns\n",
    "# Create bee swarm plot with Seaborn's default settings\n",
    "sns.swarmplot(x='gender', y='temperature', data=df)\n",
    "\n",
    "# Label the axes\n",
    "plt.xlabel('Gender')\n",
    "plt.ylabel('Body temperature')\n",
    "\n",
    "# Show the plot\n",
    "plt.show()"
   ]
  },
  {
   "cell_type": "code",
   "execution_count": 76,
   "metadata": {},
   "outputs": [
    {
     "name": "stdout",
     "output_type": "stream",
     "text": [
      "Means of Body Temperatures:\n",
      "0       99.3\n",
      "1       98.4\n",
      "3       99.2\n",
      "4       98.0\n",
      "8       98.4\n",
      "9       98.6\n",
      "10      98.8\n",
      "11      96.7\n",
      "13      98.7\n",
      "14      97.8\n",
      "15      98.8\n",
      "16      98.3\n",
      "18      97.2\n",
      "20      98.3\n",
      "25      98.0\n",
      "26      97.8\n",
      "27      98.2\n",
      "28      98.4\n",
      "31      97.6\n",
      "38      97.9\n",
      "39      96.4\n",
      "40      98.4\n",
      "44      99.0\n",
      "45      97.9\n",
      "50      98.9\n",
      "51      98.3\n",
      "52      98.5\n",
      "54      98.2\n",
      "55      98.6\n",
      "56      98.8\n",
      "       ...  \n",
      "68      98.7\n",
      "70      98.1\n",
      "71      97.7\n",
      "76      98.0\n",
      "80      98.8\n",
      "83      99.2\n",
      "84      98.6\n",
      "86      98.6\n",
      "91     100.0\n",
      "92      98.8\n",
      "95      96.8\n",
      "96      99.9\n",
      "97      98.7\n",
      "98      98.8\n",
      "102     98.0\n",
      "103     99.4\n",
      "108     98.7\n",
      "110     98.8\n",
      "111     98.0\n",
      "112     98.2\n",
      "113     99.1\n",
      "116    100.8\n",
      "117     97.8\n",
      "119     98.4\n",
      "120     97.7\n",
      "121     97.9\n",
      "122     99.0\n",
      "123     97.2\n",
      "127     98.2\n",
      "129     98.7\n",
      "Name: temperature, Length: 65, dtype: float64\n",
      "Female Mean Temp = 98.39384615384613\n",
      "Female 98.39384615384613\n",
      "2      97.8\n",
      "5      99.2\n",
      "6      98.0\n",
      "7      98.8\n",
      "12     98.2\n",
      "17     98.2\n",
      "19     99.4\n",
      "21     98.2\n",
      "22     98.6\n",
      "23     98.4\n",
      "24     97.8\n",
      "29     98.1\n",
      "30     98.3\n",
      "32     98.5\n",
      "33     98.6\n",
      "34     99.3\n",
      "35     99.5\n",
      "36     99.1\n",
      "37     98.3\n",
      "41     98.4\n",
      "42     96.9\n",
      "43     97.2\n",
      "46     97.4\n",
      "47     97.4\n",
      "48     97.9\n",
      "49     97.1\n",
      "53     98.6\n",
      "57     98.2\n",
      "59     97.6\n",
      "61     98.4\n",
      "       ... \n",
      "73     98.8\n",
      "74     99.0\n",
      "75     98.8\n",
      "77     98.4\n",
      "78     97.4\n",
      "79     97.6\n",
      "81     98.0\n",
      "82     97.5\n",
      "85     97.1\n",
      "87     98.0\n",
      "88     98.7\n",
      "89     98.1\n",
      "90     97.8\n",
      "93     97.1\n",
      "94     97.8\n",
      "99     98.0\n",
      "100    99.0\n",
      "101    98.5\n",
      "104    97.6\n",
      "105    96.7\n",
      "106    97.0\n",
      "107    98.6\n",
      "109    97.3\n",
      "114    99.0\n",
      "115    98.0\n",
      "118    98.7\n",
      "124    97.5\n",
      "125    96.3\n",
      "126    97.7\n",
      "128    97.9\n",
      "Name: temperature, Length: 65, dtype: float64\n",
      "Female Mean Temp = 98.1046153846154\n",
      "Female 98.1046153846154\n"
     ]
    }
   ],
   "source": [
    "groupby_gender = df.groupby('gender')\n",
    "\n",
    "print('Means of Body Temperatures:')\n",
    "for gender, value in groupby_gender['temperature']:\n",
    "    if (gender ==1):\n",
    "        male_t = value\n",
    "        male_mean_temp = value.mean()\n",
    "        print(male_t)\n",
    "        print('Male Mean Temp =', male_mean_temp)\n",
    "        print('Male', value.mean())\n",
    "    else:\n",
    "        female_t = value\n",
    "        print(female_t)\n",
    "        female_mean_temp = value.mean()\n",
    "        print('Female Mean Temp =', female_mean_temp)\n",
    "        print('Female', value.mean())"
   ]
  },
  {
   "cell_type": "code",
   "execution_count": 73,
   "metadata": {},
   "outputs": [
    {
     "data": {
      "image/png": "[encoded data removed]",
      "text/plain": [
       "<Figure size 432x288 with 2 Axes>"
      ]
     },
     "metadata": {
      "needs_background": "light"
     },
     "output_type": "display_data"
    }
   ],
   "source": [
    "import matplotlib.pyplot as plt\n",
    "groupby_gender.boxplot(column=['temperature'])\n",
    "plt.show()"
   ]
  },
  {
   "cell_type": "markdown",
   "metadata": {},
   "source": [
    "**A two-sample bootstrap hypothesis test for difference of means**"
   ]
  },
  {
   "cell_type": "code",
   "execution_count": 82,
   "metadata": {},
   "outputs": [
    {
     "data": {
      "text/plain": [
       "0.289230769230727"
      ]
     },
     "execution_count": 82,
     "metadata": {},
     "output_type": "execute_result"
    }
   ],
   "source": [
    "empirical_diff_means = np.mean(df[df['gender'] == 'F']['temperature']) - np.mean(df[df['gender'] == 'M']['temperature'])\n",
    "empirical_diff_means "
   ]
  },
  {
   "cell_type": "code",
   "execution_count": 84,
   "metadata": {},
   "outputs": [
    {
     "name": "stdout",
     "output_type": "stream",
     "text": [
      "p-value = 0.0103\n"
     ]
    }
   ],
   "source": [
    "# Compute mean of all temps: mean_temp\n",
    "mean_temp = np.mean(df['temperature'])\n",
    "\n",
    "# Generate shifted arrays\n",
    "temp_male_shifted = df[df['gender'] == 'M']['temperature'] - np.mean(df[df['gender'] == 'M']['temperature']) + mean_temp\n",
    "# print(temp_male_shifted)\n",
    "temp_female_shifted = df[df['gender'] == 'F']['temperature'] - np.mean(df[df['gender'] == 'F']['temperature']) + mean_temp\n",
    "# print(temp_female_shifted)\n",
    "# Compute 10,000 bootstrap replicates from shifted arrays\n",
    "bs_replicates_male = draw_bs_reps(temp_male_shifted, np.mean, size=10000)\n",
    "bs_replicates_female = draw_bs_reps(temp_female_shifted, np.mean, size=10000)\n",
    "\n",
    "# Get replicates of difference of means: bs_replicates\n",
    "bs_replicates = bs_replicates_male - bs_replicates_female\n",
    "# print(bs_replicates)\n",
    "# print(len(bs_replicates))\n",
    "# print(bs_replicates >= empirical_diff_means)\n",
    "# Compute and print p-value: p\n",
    "p = np.sum(bs_replicates >= empirical_diff_means) / len(bs_replicates)\n",
    "print('p-value =', p)"
   ]
  },
  {
   "cell_type": "markdown",
   "metadata": {},
   "source": [
    "A6 There a significant difference between males and females in normal temperature.\n",
    "$$H_0: T_M = T_W$$$$H_A: T_M \\ne T_W$$\n",
    "p value is 0 (low i.e. < 0.05) indicating that the null hypothesis that states that the 2 sets are equal is refuted and there is a difference in the normal termperatures of men vs women. The testing approach I used is the 2 sample bootstrap approach to check the difference in means since that gave me enough samples i.e. 10000 to test by bootstrapping both sample sets of male and female body temperatures.\n"
   ]
  },
  {
   "cell_type": "code",
   "execution_count": null,
   "metadata": {},
   "outputs": [],
   "source": []
  },
  {
   "cell_type": "code",
   "execution_count": null,
   "metadata": {},
   "outputs": [],
   "source": []
  },
  {
   "cell_type": "code",
   "execution_count": null,
   "metadata": {},
   "outputs": [],
   "source": []
  },
  {
   "cell_type": "code",
   "execution_count": null,
   "metadata": {},
   "outputs": [],
   "source": []
  },
  {
   "cell_type": "code",
   "execution_count": null,
   "metadata": {},
   "outputs": [],
   "source": []
  },
  {
   "cell_type": "code",
   "execution_count": null,
   "metadata": {},
   "outputs": [],
   "source": []
  },
  {
   "cell_type": "code",
   "execution_count": null,
   "metadata": {},
   "outputs": [],
   "source": []
  },
  {
   "cell_type": "code",
   "execution_count": null,
   "metadata": {},
   "outputs": [],
   "source": []
  },
  {
   "cell_type": "code",
   "execution_count": null,
   "metadata": {},
   "outputs": [],
   "source": []
  }
 ],
 "metadata": {
  "kernelspec": {
   "display_name": "Python 3",
   "language": "python",
   "name": "python3"
  },
  "language_info": {
   "codemirror_mode": {
    "name": "ipython",
    "version": 3
   },
   "file_extension": ".py",
   "mimetype": "text/x-python",
   "name": "python",
   "nbconvert_exporter": "python",
   "pygments_lexer": "ipython3",
   "version": "3.7.0"
  }
 },
 "nbformat": 4,
 "nbformat_minor": 1
}
