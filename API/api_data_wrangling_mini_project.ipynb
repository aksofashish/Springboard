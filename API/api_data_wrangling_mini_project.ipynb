{
 "cells": [
  {
   "cell_type": "markdown",
   "metadata": {},
   "source": [
    "This exercise will require you to pull some data from the Qunadl API. Qaundl is currently the most widely used aggregator of financial market data."
   ]
  },
  {
   "cell_type": "markdown",
   "metadata": {},
   "source": [
    "As a first step, you will need to register a free account on the http://www.quandl.com website."
   ]
  },
  {
   "cell_type": "markdown",
   "metadata": {},
   "source": [
    "After you register, you will be provided with a unique API key, that you should store:"
   ]
  },
  {
   "cell_type": "code",
   "execution_count": 1,
   "metadata": {},
   "outputs": [],
   "source": [
    "# Store the API key as a string - according to PEP8, constants are always named in all upper case\n",
    "API_KEY = '----------------'"
   ]
  },
  {
   "cell_type": "markdown",
   "metadata": {},
   "source": [
    "Qaundl has a large number of data sources, but, unfortunately, most of them require a Premium subscription. Still, there are also a good number of free datasets."
   ]
  },
  {
   "cell_type": "markdown",
   "metadata": {},
   "source": [
    "For this mini project, we will focus on equities data from the Frankfurt Stock Exhange (FSE), which is available for free. We'll try and analyze the stock prices of a company called Carl Zeiss Meditec, which manufactures tools for eye examinations, as well as medical lasers for laser eye surgery: https://www.zeiss.com/meditec/int/home.html. The company is listed under the stock ticker AFX_X."
   ]
  },
  {
   "cell_type": "markdown",
   "metadata": {},
   "source": [
    "You can find the detailed Quandl API instructions here: https://docs.quandl.com/docs/time-series"
   ]
  },
  {
   "cell_type": "markdown",
   "metadata": {},
   "source": [
    "While there is a dedicated Python package for connecting to the Quandl API, we would prefer that you use the *requests* package, which can be easily downloaded using *pip* or *conda*. You can find the documentation for the package here: http://docs.python-requests.org/en/master/ "
   ]
  },
  {
   "cell_type": "markdown",
   "metadata": {},
   "source": [
    "Finally, apart from the *requests* package, you are encouraged to not use any third party Python packages, such as *pandas*, and instead focus on what's available in the Python Standard Library (the *collections* module might come in handy: https://pymotw.com/3/collections/).\n",
    "Also, since you won't have access to DataFrames, you are encouraged to us Python's native data structures - preferably dictionaries, though some questions can also be answered using lists.\n",
    "You can read more on these data structures here: https://docs.python.org/3/tutorial/datastructures.html"
   ]
  },
  {
   "cell_type": "markdown",
   "metadata": {},
   "source": [
    "Keep in mind that the JSON responses you will be getting from the API map almost one-to-one to Python's dictionaries. Unfortunately, they can be very nested, so make sure you read up on indexing dictionaries in the documentation provided above."
   ]
  },
  {
   "cell_type": "code",
   "execution_count": 2,
   "metadata": {},
   "outputs": [],
   "source": [
    "# First, import the relevant modules\n",
    "import requests\n",
    "import json"
   ]
  },
  {
   "cell_type": "code",
   "execution_count": 3,
   "metadata": {},
   "outputs": [],
   "source": [
    "# Now, call the Quandl API and pull out a small sample of the data (only one day) to get a glimpse\n",
    "# into the JSON structure that will be returned\n",
    "r = requests.get(\"https://www.quandl.com/api/v3/datasets/FSE/AFX_X?start_date=2018-03-21&end_date=2018-03-21&api_key=\" + API_KEY)"
   ]
  },
  {
   "cell_type": "code",
   "execution_count": 4,
   "metadata": {},
   "outputs": [
    {
     "data": {
      "text/plain": [
       "{'dataset': {'id': 10095370,\n",
       "  'dataset_code': 'AFX_X',\n",
       "  'database_code': 'FSE',\n",
       "  'name': 'Carl Zeiss Meditec (AFX_X)',\n",
       "  'description': 'Stock Prices for Carl Zeiss Meditec (AFX) from the Frankfurt Stock Exchange.<br><br>Trading System: Xetra<br><br>ISIN: DE0005313704',\n",
       "  'refreshed_at': '2019-01-11T22:32:45.336Z',\n",
       "  'newest_available_date': '2019-01-11',\n",
       "  'oldest_available_date': '2000-06-07',\n",
       "  'column_names': ['Date',\n",
       "   'Open',\n",
       "   'High',\n",
       "   'Low',\n",
       "   'Close',\n",
       "   'Change',\n",
       "   'Traded Volume',\n",
       "   'Turnover',\n",
       "   'Last Price of the Day',\n",
       "   'Daily Traded Units',\n",
       "   'Daily Turnover'],\n",
       "  'frequency': 'daily',\n",
       "  'type': 'Time Series',\n",
       "  'premium': False,\n",
       "  'limit': None,\n",
       "  'transform': None,\n",
       "  'column_index': None,\n",
       "  'start_date': '2018-03-21',\n",
       "  'end_date': '2018-03-21',\n",
       "  'data': [['2018-03-21',\n",
       "    None,\n",
       "    50.1,\n",
       "    49.48,\n",
       "    49.56,\n",
       "    None,\n",
       "    43165.0,\n",
       "    2143464.0,\n",
       "    None,\n",
       "    None,\n",
       "    None]],\n",
       "  'collapse': None,\n",
       "  'order': None,\n",
       "  'database_id': 6129}}"
      ]
     },
     "execution_count": 4,
     "metadata": {},
     "output_type": "execute_result"
    }
   ],
   "source": [
    "# Inspect the JSON structure of the object you created, and take note of how nested it is,\n",
    "# as well as the overall structure\n",
    "r.json()\n"
   ]
  },
  {
   "cell_type": "markdown",
   "metadata": {},
   "source": [
    "These are your tasks for this mini project:\n",
    "\n",
    "1. Collect data from the Franfurt Stock Exchange, for the ticker AFX_X, for the whole year 2017 (keep in mind that the date format is YYYY-MM-DD).\n",
    "2. Convert the returned JSON object into a Python dictionary.\n",
    "3. Calculate what the highest and lowest opening prices were for the stock in this period.\n",
    "4. What was the largest change in any one day (based on High and Low price)?\n",
    "5. What was the largest change between any two days (based on Closing Price)?\n",
    "6. What was the average daily trading volume during this year?\n",
    "7. (Optional) What was the median trading volume during this year. (Note: you may need to implement your own function for calculating the median.)"
   ]
  },
  {
   "cell_type": "code",
   "execution_count": 5,
   "metadata": {},
   "outputs": [],
   "source": [
    "# Collect data from FSE for AFX_X for 2017 with API call\n",
    "afx_x_2017 = requests.get(\"https://www.quandl.com/api/v3/datasets/FSE/AFX_X?start_date=2017-01-01&end_date=2017-12-31&api_key=\" + API_KEY)"
   ]
  },
  {
   "cell_type": "code",
   "execution_count": 6,
   "metadata": {},
   "outputs": [
    {
     "name": "stdout",
     "output_type": "stream",
     "text": [
      "data type of load: \n",
      "<class 'dict'>\n",
      "All columns of the data\n",
      "['Date', 'Open', 'High', 'Low', 'Close', 'Change', 'Traded Volume', 'Turnover', 'Last Price of the Day', 'Daily Traded Units', 'Daily Turnover']\n"
     ]
    }
   ],
   "source": [
    "# Convert JSON object into Python dict\n",
    "afx_17 = json.loads(afx_x_2017.text)\n",
    "print(\"data type of load: \")\n",
    "print(type(afx_17))\n",
    "print(\"All columns of the data\")\n",
    "print(afx_17['dataset']['column_names'])"
   ]
  },
  {
   "cell_type": "code",
   "execution_count": 7,
   "metadata": {},
   "outputs": [
    {
     "name": "stdout",
     "output_type": "stream",
     "text": [
      "Number of days stock prices being recorded: \n",
      "252\n",
      "[51.76, 51.65, 51.45, 51.05, 51.16]\n",
      "Opening Prices for this Period: Lowest is $34.00 and Highest is $53.11.\n"
     ]
    }
   ],
   "source": [
    "#Calculate the highest and lowest opening prices were for the stock in this period. \n",
    "#In the data the second element is the opening price for the day. There are 255 days so 255 opening prices should be there\n",
    "#But while checking it seems that few of the data is not available. So total total data to be check is 252\n",
    "\n",
    "open_prices = [data[1] for data in afx_17['dataset']['data'] if data[1] is not None]\n",
    "print (\"Number of days stock prices being recorded: \" )\n",
    "print(len(open_prices))\n",
    "print(open_prices[:5])\n",
    "min_opening = min(open_prices)\n",
    "max_opening = max(open_prices)\n",
    "print(\"Opening Prices for this Period: Lowest is $%.2f and Highest is $%.2f.\" % (min_opening, max_opening))\n"
   ]
  },
  {
   "cell_type": "code",
   "execution_count": 8,
   "metadata": {},
   "outputs": [
    {
     "name": "stdout",
     "output_type": "stream",
     "text": [
      "the largest change in any one day (based on High and Low price) is : 2.81\n"
     ]
    }
   ],
   "source": [
    "#the largest change in any one day (based on High and Low price)\n",
    "change_price = [(data[2] - data[3]) for data in afx_17['dataset']['data']]\n",
    "print(\"the largest change in any one day (based on High and Low price) is : %.2f\" % max(change_price))\n"
   ]
  },
  {
   "cell_type": "code",
   "execution_count": 9,
   "metadata": {},
   "outputs": [
    {
     "name": "stdout",
     "output_type": "stream",
     "text": [
      "Largest change between any two days based on Closing Price is $2.56.\n"
     ]
    }
   ],
   "source": [
    "#the largest change between any two days (based on Closing Price)\n",
    "two_day_change = []\n",
    "prev_day_price = 0\n",
    "for data in afx_17['dataset']['data']:\n",
    "    if prev_day_price == 0:\n",
    "        prev_day_price = data[4]\n",
    "    else:\n",
    "        two_day_change.append(data[4] - prev_day_price)\n",
    "        prev_day_price = data[4]\n",
    "        \n",
    "max_change = max(two_day_change)\n",
    "min_change = min(two_day_change)\n",
    "\n",
    "if abs(min_change) > max_change:\n",
    "    print('Largest change between any two days based on Closing Price is -$%.2f.' % abs(min_change))\n",
    "else:\n",
    "    print('Largest change between any two days based on Closing Price is $%.2f.' % max_change)\n"
   ]
  },
  {
   "cell_type": "code",
   "execution_count": 10,
   "metadata": {},
   "outputs": [
    {
     "name": "stdout",
     "output_type": "stream",
     "text": [
      "average trading volume for the year is 89124 \n"
     ]
    }
   ],
   "source": [
    "#the average daily trading volume during this year\n",
    "trading_volume = [data[6] for data in afx_17['dataset']['data']]\n",
    "average_trading_volume = sum(trading_volume)/len(afx_17['dataset']['data'])\n",
    "print(\"average trading volume for the year is %d \" % average_trading_volume)  \n"
   ]
  },
  {
   "cell_type": "code",
   "execution_count": 11,
   "metadata": {},
   "outputs": [
    {
     "name": "stdout",
     "output_type": "stream",
     "text": [
      "Median trading volume during this year is 76600 trades.\n"
     ]
    }
   ],
   "source": [
    "#the median trading volume during this year.\n",
    "\n",
    "trading_vol = sorted([daily[6] for daily in afx_17['dataset']['data']])\n",
    "trading_len = len(trading_vol)\n",
    "half_len = trading_len/2\n",
    "if trading_len % 2 == 1:\n",
    "    print(\"Median trading volume during this year is %d trades.\" % trading_vol[round(half_len)])\n",
    "else:\n",
    "    print(\"Median trading volume during this year is %d trades.\" % (trading_vol[half_len]+trading_vol[half_len+1])/2)\n"
   ]
  }
 ],
 "metadata": {
  "kernelspec": {
   "display_name": "Python 3",
   "language": "python",
   "name": "python3"
  },
  "language_info": {
   "codemirror_mode": {
    "name": "ipython",
    "version": 3
   },
   "file_extension": ".py",
   "mimetype": "text/x-python",
   "name": "python",
   "nbconvert_exporter": "python",
   "pygments_lexer": "ipython3",
   "version": "3.7.0"
  }
 },
 "nbformat": 4,
 "nbformat_minor": 2
}
